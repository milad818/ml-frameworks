{
  "nbformat": 4,
  "nbformat_minor": 0,
  "metadata": {
    "colab": {
      "provenance": []
    },
    "kernelspec": {
      "name": "python3",
      "display_name": "Python 3"
    },
    "language_info": {
      "name": "python"
    }
  },
  "cells": [
    {
      "cell_type": "markdown",
      "source": [
        "## Introduction to TensorFlow"
      ],
      "metadata": {
        "id": "sAOwoDvlBIhO"
      }
    },
    {
      "cell_type": "markdown",
      "source": [
        "### What is TensorFlow?\n",
        "TensorFlow is an open-source machine learning framework developed by Google Brain. It is widely used for deep learning, neural networks, and AI research. TensorFlow provides a flexible ecosystem to build, train, and deploy machine learning models efficiently."
      ],
      "metadata": {
        "id": "spzVpPCUBbm4"
      }
    },
    {
      "cell_type": "markdown",
      "source": [
        "### Why Use TensorFlow?\n",
        "- **Scalability:** Works on CPUs, GPUs, and TPUs (Tensor Processing Units).\n",
        "- **Flexibility:** Supports neural networks, traditional ML algorithms, and even reinforcement learning.\n",
        "- **Production-Ready:** Can be used for deploying models on the cloud, edge devices, and mobile apps.\n",
        "- **Support for Multiple Languages:** Primarily supports Python, but also has APIs for C++, Java, and JavaScript."
      ],
      "metadata": {
        "id": "PtbSMaupBzVd"
      }
    },
    {
      "cell_type": "markdown",
      "source": [
        "### Key Features of TensorFlow\n",
        "1. **Tensor-Based Computation**\n",
        "  - The name TensorFlow comes from \"Tensors\" (multi-dimensional arrays) that flow through operations.\n",
        "  - Supports automatic differentiation for optimization (via tf.GradientTape).\n",
        "2. Keras API for High-Level ML\n",
        "  - Keras (`tf.keras`) is a user-friendly high-level API built on TensorFlow for deep learning.\n",
        "  - Supports both sequential and functional API models.\n",
        "3. TensorFlow Datasets & Data Pipelines\n",
        "  - `tf.data API` Handles large-scale datasets efficiently.\n",
        "  - `tf.keras.preprocessing` Helps in data augmentation and pre-processing.\n",
        "4. GPU Acceleration\n",
        "  - Automatically runs computations on GPUs when available for faster training.\n",
        "5. Deployment & Serving\n",
        "  - TensorFlow Serving – Deploy trained models as web services.\n",
        "  - TensorFlow Lite – Optimized for mobile and embedded devices.\n",
        "  - TensorFlow.js – Runs ML models in web browsers.\n"
      ],
      "metadata": {
        "id": "G9BJDyGLCe6u"
      }
    },
    {
      "cell_type": "markdown",
      "source": [
        "## Introduction to Tensors"
      ],
      "metadata": {
        "id": "yUqPngSWETe2"
      }
    },
    {
      "cell_type": "markdown",
      "source": [
        "Tensors are the fundamental data structures in deep learning. They serve as the primary way of representing and processing data in neural networks. Understanding tensors is crucial because deep learning frameworks like TensorFlow and PyTorch use them extensively."
      ],
      "metadata": {
        "id": "8jqM9KG8EW_r"
      }
    },
    {
      "cell_type": "markdown",
      "source": [
        "### What is a Tensor?\n",
        "A tensor is a generalization of scalars, vectors, and matrices to higher dimensions. It is a multi-dimensional array that can store numerical data. You can think of tensors as an extension of arrays in NumPy but optimized for deep learning tasks."
      ],
      "metadata": {
        "id": "n7TkODkoE-lK"
      }
    },
    {
      "cell_type": "markdown",
      "source": [
        "| Tensor Type       | Description                    | Example                        |\n",
        "|-------------------|--------------------------------|--------------------------------|\n",
        "| **Scalar (0D)**   | A single number               | `x = 5`                        |\n",
        "| **Vector (1D)**   | A 1D array of numbers         | `[1, 2, 3]`                    |\n",
        "| **Matrix (2D)**   | A 2D array (rows & columns)   | `[[1, 2], [3, 4]]`             |\n",
        "| **3D Tensor**     | A collection of matrices      | `[[[1,2], [3,4]], [[5,6], [7,8]]]` |\n",
        "| **n-D Tensor**    | A general n-dimensional array | Used in complex DL models      |\n"
      ],
      "metadata": {
        "id": "wp2WtxsGFFPG"
      }
    },
    {
      "cell_type": "markdown",
      "source": [
        "In deep learning, tensors are used to represent:\n",
        "\n",
        "- **Input Data** (e.g., images, text, audio)\n",
        "- **Weights & Biases** of neural networks\n",
        "- **Intermediate Computations** in forward and backward passes"
      ],
      "metadata": {
        "id": "uPmrxfQcFWWM"
      }
    },
    {
      "cell_type": "markdown",
      "source": [
        "The very first and major library to be imported is `tensorflow` for which `tf` is a common alias."
      ],
      "metadata": {
        "id": "gCg9yBg7GDW4"
      }
    },
    {
      "cell_type": "code",
      "execution_count": 1,
      "metadata": {
        "id": "8GXAJxnzAv1x"
      },
      "outputs": [],
      "source": [
        "import tensorflow as tf"
      ]
    },
    {
      "cell_type": "code",
      "source": [
        "# Create a scalar (0D)\n",
        "scalar = tf.constant(10)\n",
        "scalar"
      ],
      "metadata": {
        "colab": {
          "base_uri": "https://localhost:8080/"
        },
        "id": "HarV1qjFG3sF",
        "outputId": "85428753-dc33-4d23-cdd4-db7116f2e453"
      },
      "execution_count": 2,
      "outputs": [
        {
          "output_type": "execute_result",
          "data": {
            "text/plain": [
              "<tf.Tensor: shape=(), dtype=int32, numpy=10>"
            ]
          },
          "metadata": {},
          "execution_count": 2
        }
      ]
    },
    {
      "cell_type": "code",
      "source": [
        "# check the number of dimensions\n",
        "scalar.ndim"
      ],
      "metadata": {
        "colab": {
          "base_uri": "https://localhost:8080/"
        },
        "id": "8Omqgzm7HHHL",
        "outputId": "2519250b-0318-4a95-a469-ebe2bf789d82"
      },
      "execution_count": 3,
      "outputs": [
        {
          "output_type": "execute_result",
          "data": {
            "text/plain": [
              "0"
            ]
          },
          "metadata": {},
          "execution_count": 3
        }
      ]
    },
    {
      "cell_type": "code",
      "source": [
        "# Create a vector (1D)\n",
        "vector = tf.constant([1, 10])\n",
        "vector"
      ],
      "metadata": {
        "colab": {
          "base_uri": "https://localhost:8080/"
        },
        "id": "RNKQxktvHP5J",
        "outputId": "4fff761b-6fd2-4087-e95e-e016bffb5238"
      },
      "execution_count": 4,
      "outputs": [
        {
          "output_type": "execute_result",
          "data": {
            "text/plain": [
              "<tf.Tensor: shape=(2,), dtype=int32, numpy=array([ 1, 10], dtype=int32)>"
            ]
          },
          "metadata": {},
          "execution_count": 4
        }
      ]
    },
    {
      "cell_type": "code",
      "source": [
        "# Check dimenstions\n",
        "vector.ndim"
      ],
      "metadata": {
        "colab": {
          "base_uri": "https://localhost:8080/"
        },
        "id": "EeobdFJXHT2d",
        "outputId": "7e132594-9a2d-439e-fa12-72e61c473aba"
      },
      "execution_count": 5,
      "outputs": [
        {
          "output_type": "execute_result",
          "data": {
            "text/plain": [
              "1"
            ]
          },
          "metadata": {},
          "execution_count": 5
        }
      ]
    },
    {
      "cell_type": "code",
      "source": [
        "# Create a matrix (2D)\n",
        "matrix = tf.constant([[6, 4],\n",
        "                      [8, 10]])\n",
        "matrix"
      ],
      "metadata": {
        "colab": {
          "base_uri": "https://localhost:8080/"
        },
        "id": "tS8I8UXOHg5D",
        "outputId": "824027de-8cb5-4bbe-ace3-f69477af8321"
      },
      "execution_count": 6,
      "outputs": [
        {
          "output_type": "execute_result",
          "data": {
            "text/plain": [
              "<tf.Tensor: shape=(2, 2), dtype=int32, numpy=\n",
              "array([[ 6,  4],\n",
              "       [ 8, 10]], dtype=int32)>"
            ]
          },
          "metadata": {},
          "execution_count": 6
        }
      ]
    },
    {
      "cell_type": "code",
      "source": [
        "# Check dimension\n",
        "matrix.ndim"
      ],
      "metadata": {
        "colab": {
          "base_uri": "https://localhost:8080/"
        },
        "id": "s6a8ZFRNHknO",
        "outputId": "adefa853-62a7-4a29-e8de-32138f02053b"
      },
      "execution_count": 7,
      "outputs": [
        {
          "output_type": "execute_result",
          "data": {
            "text/plain": [
              "2"
            ]
          },
          "metadata": {},
          "execution_count": 7
        }
      ]
    },
    {
      "cell_type": "markdown",
      "source": [
        "As you have probably noticed so far, TensorFlow generates tensors of type either `int32` or `float32` by default. However, you can decrease it to 16 if you wish.\n",
        "**NOTE!** The higher the value, the more space it takes up on your computer."
      ],
      "metadata": {
        "id": "4qfnpoD3HyW1"
      }
    },
    {
      "cell_type": "code",
      "source": [
        "# Create matrix 2 ans specidy the data type explicitly\n",
        "matrix2 = tf.constant([[5., 5.],\n",
        "                        [4., 4.],\n",
        "                        [6., 6.]], dtype=tf.float16) # datatype specified\n",
        "matrix2"
      ],
      "metadata": {
        "colab": {
          "base_uri": "https://localhost:8080/"
        },
        "id": "ll_7HBkLIljE",
        "outputId": "caa29dd6-cc57-4422-a93c-bb7ede4e8eae"
      },
      "execution_count": 8,
      "outputs": [
        {
          "output_type": "execute_result",
          "data": {
            "text/plain": [
              "<tf.Tensor: shape=(3, 2), dtype=float16, numpy=\n",
              "array([[5., 5.],\n",
              "       [4., 4.],\n",
              "       [6., 6.]], dtype=float16)>"
            ]
          },
          "metadata": {},
          "execution_count": 8
        }
      ]
    },
    {
      "cell_type": "code",
      "source": [
        "# Let us create a tensor? (3D and above)\n",
        "tensor = tf.constant([[[1, 2, 3],\n",
        "                       [4, 5, 6]],\n",
        "                      [[7, 8, 9],\n",
        "                       [9, 8, 7]],\n",
        "                      [[6, 5, 4],\n",
        "                       [3, 2, 1]]])\n",
        "tensor"
      ],
      "metadata": {
        "colab": {
          "base_uri": "https://localhost:8080/"
        },
        "id": "4cFypP4hJLQs",
        "outputId": "523b63cb-87fd-4d79-cfb7-3b34ee0d5712"
      },
      "execution_count": 9,
      "outputs": [
        {
          "output_type": "execute_result",
          "data": {
            "text/plain": [
              "<tf.Tensor: shape=(3, 2, 3), dtype=int32, numpy=\n",
              "array([[[1, 2, 3],\n",
              "        [4, 5, 6]],\n",
              "\n",
              "       [[7, 8, 9],\n",
              "        [9, 8, 7]],\n",
              "\n",
              "       [[6, 5, 4],\n",
              "        [3, 2, 1]]], dtype=int32)>"
            ]
          },
          "metadata": {},
          "execution_count": 9
        }
      ]
    },
    {
      "cell_type": "code",
      "source": [
        "tensor.ndim"
      ],
      "metadata": {
        "colab": {
          "base_uri": "https://localhost:8080/"
        },
        "id": "QmmrXTOdJl_k",
        "outputId": "7d8f16e3-d1a4-44d8-cf38-10088a42b15e"
      },
      "execution_count": 10,
      "outputs": [
        {
          "output_type": "execute_result",
          "data": {
            "text/plain": [
              "3"
            ]
          },
          "metadata": {},
          "execution_count": 10
        }
      ]
    },
    {
      "cell_type": "markdown",
      "source": [
        "### Creating Tensors with `tf.Variable()` in TensorFlow\n",
        "`tf.Variable()` is used to create mutable tensors in TensorFlow, meaning their values can be changed during training. Unlike `tf.constant()`, which creates immutable tensors, `tf.Variable()` allows modifications, making it useful for model parameters like weights and biases. Balow you can see the basic usage of `tf.Variable()`:"
      ],
      "metadata": {
        "id": "6KTyJW2xVI0o"
      }
    },
    {
      "cell_type": "code",
      "source": [
        "# Create a tensor variable\n",
        "variable_tensor = tf.Variable([1, 2, 3], dtype=tf.float32)\n",
        "print(variable_tensor)"
      ],
      "metadata": {
        "colab": {
          "base_uri": "https://localhost:8080/"
        },
        "id": "uDR0GSkiVfpW",
        "outputId": "27fe159b-b4eb-439b-eb45-ab1615869a6b"
      },
      "execution_count": 11,
      "outputs": [
        {
          "output_type": "stream",
          "name": "stdout",
          "text": [
            "<tf.Variable 'Variable:0' shape=(3,) dtype=float32, numpy=array([1., 2., 3.], dtype=float32)>\n"
          ]
        }
      ]
    },
    {
      "cell_type": "markdown",
      "source": [
        "### Changing the Value of `tf.Variable`\n",
        "`assign()` updates the variable in place. You can also modify specific elements."
      ],
      "metadata": {
        "id": "Xu_qW_jjV998"
      }
    },
    {
      "cell_type": "code",
      "source": [
        "# Change the values of the variable\n",
        "variable_tensor.assign([4, 5, 6])\n",
        "print(variable_tensor)"
      ],
      "metadata": {
        "colab": {
          "base_uri": "https://localhost:8080/"
        },
        "id": "gJY_tRapWQTn",
        "outputId": "c3dfed61-ef6f-4fde-d6a8-2cec6dfa8eaf"
      },
      "execution_count": 12,
      "outputs": [
        {
          "output_type": "stream",
          "name": "stdout",
          "text": [
            "<tf.Variable 'Variable:0' shape=(3,) dtype=float32, numpy=array([4., 5., 6.], dtype=float32)>\n"
          ]
        }
      ]
    },
    {
      "cell_type": "markdown",
      "source": [
        "**NOTE!** You cannot modify the elements of a tensor in similar way as you normally do with lists e.g., `changeable_tensor[0] = 7`. It will surely raise an error."
      ],
      "metadata": {
        "id": "Xd-Crx54Wqff"
      }
    },
    {
      "cell_type": "markdown",
      "source": [
        "You can also modify specific elements:"
      ],
      "metadata": {
        "id": "cuRpEi_mXQYY"
      }
    },
    {
      "cell_type": "code",
      "source": [
        "# Add 1 to each element\n",
        "variable_tensor.assign_add([1, 1, 1])\n",
        "\n",
        "print(variable_tensor)"
      ],
      "metadata": {
        "colab": {
          "base_uri": "https://localhost:8080/"
        },
        "id": "CmzYkc2kXR44",
        "outputId": "9fec7dc6-9acb-4618-f513-1a25a7844ed7"
      },
      "execution_count": 13,
      "outputs": [
        {
          "output_type": "stream",
          "name": "stdout",
          "text": [
            "<tf.Variable 'Variable:0' shape=(3,) dtype=float32, numpy=array([5., 6., 7.], dtype=float32)>\n"
          ]
        }
      ]
    },
    {
      "cell_type": "markdown",
      "source": [
        "Key Differences between `tf.Variable()` and `tf.constant()`:"
      ],
      "metadata": {
        "id": "6YCeUFNhYa_x"
      }
    },
    {
      "cell_type": "markdown",
      "source": [
        "| Feature         | `tf.Variable()` | `tf.constant()` |\n",
        "|----------------|---------------|---------------|\n",
        "| **Mutable?**   | ✅ Yes | ❌ No |\n",
        "| **Trainable?** | ✅ Yes (for model parameters) | ❌ No |\n",
        "| **Use Case**   | Weights, biases, dynamic tensors | Fixed tensors, constants |\n"
      ],
      "metadata": {
        "id": "WE8syWwlYpJM"
      }
    },
    {
      "cell_type": "markdown",
      "source": [
        "### Creating Random Tensors in TensorFlow\n",
        "In TensorFlow, you can create random tensors using functions from the `tf.random` module. Random tensors are useful for initializing neural network weights, data augmentation, and stochastic processes."
      ],
      "metadata": {
        "id": "tE2_z2BVZTjk"
      }
    },
    {
      "cell_type": "code",
      "source": [
        "# Create a random tensor with shape (3, 2)\n",
        "random_tensor = tf.random.normal(shape=(3, 2))\n",
        "print(random_tensor)"
      ],
      "metadata": {
        "colab": {
          "base_uri": "https://localhost:8080/"
        },
        "id": "t9B9RseWZciM",
        "outputId": "e2e71764-3ddc-4f15-9e31-058cdd7a9c6f"
      },
      "execution_count": 14,
      "outputs": [
        {
          "output_type": "stream",
          "name": "stdout",
          "text": [
            "tf.Tensor(\n",
            "[[ 0.98816735 -0.3793461 ]\n",
            " [-1.1546144   0.7920651 ]\n",
            " [ 0.47816053 -0.12555186]], shape=(3, 2), dtype=float32)\n"
          ]
        }
      ]
    },
    {
      "cell_type": "code",
      "source": [
        "# Create a random tensor drawn from a uniform distribution with shape (3, 2)\n",
        "tf.random.uniform(shape=(3, 2), minval=0, maxval=10, dtype=tf.float32)"
      ],
      "metadata": {
        "colab": {
          "base_uri": "https://localhost:8080/"
        },
        "id": "-JuPIl7HZnaG",
        "outputId": "28e423c9-0715-4a28-c16f-ccfdf1cf01c8"
      },
      "execution_count": 15,
      "outputs": [
        {
          "output_type": "execute_result",
          "data": {
            "text/plain": [
              "<tf.Tensor: shape=(3, 2), dtype=float32, numpy=\n",
              "array([[4.5211706, 7.8640594],\n",
              "       [5.63735  , 0.6570816],\n",
              "       [4.636544 , 2.4657679]], dtype=float32)>"
            ]
          },
          "metadata": {},
          "execution_count": 15
        }
      ]
    },
    {
      "cell_type": "markdown",
      "source": [
        "In the tensor above, values are drawn from a uniform distribution between 0 and 10."
      ],
      "metadata": {
        "id": "ZfKAFSUtZ6SP"
      }
    },
    {
      "cell_type": "code",
      "source": [
        "# Create a random tensor of integer values drawn from a uniform distribution with shape (3, 2)\n",
        "tf.random.uniform(shape=(3, 2), minval=0, maxval=100, dtype=tf.int32)"
      ],
      "metadata": {
        "colab": {
          "base_uri": "https://localhost:8080/"
        },
        "id": "nwmD3UNgaKZA",
        "outputId": "1b4e3f77-c824-489b-b706-617058333eb7"
      },
      "execution_count": 16,
      "outputs": [
        {
          "output_type": "execute_result",
          "data": {
            "text/plain": [
              "<tf.Tensor: shape=(3, 2), dtype=int32, numpy=\n",
              "array([[66, 24],\n",
              "       [71,  3],\n",
              "       [59, 48]], dtype=int32)>"
            ]
          },
          "metadata": {},
          "execution_count": 16
        }
      ]
    },
    {
      "cell_type": "code",
      "source": [
        "# Create a random tensor of binary values drawn from a uniform distribution with shape (3, 2)\n",
        "tf.random.uniform(shape=(3, 2), minval=0, maxval=2, dtype=tf.int32)"
      ],
      "metadata": {
        "colab": {
          "base_uri": "https://localhost:8080/"
        },
        "id": "nRaaf5C9aeSr",
        "outputId": "b7a75a20-aaa9-4ee9-cbf3-f5c3adb9f40b"
      },
      "execution_count": 17,
      "outputs": [
        {
          "output_type": "execute_result",
          "data": {
            "text/plain": [
              "<tf.Tensor: shape=(3, 2), dtype=int32, numpy=\n",
              "array([[0, 1],\n",
              "       [0, 1],\n",
              "       [1, 1]], dtype=int32)>"
            ]
          },
          "metadata": {},
          "execution_count": 17
        }
      ]
    },
    {
      "cell_type": "markdown",
      "source": [
        "You can also set a random seed for the purpose of reproducibility, i.e., every time you run the code below, you wll obtain a tensor with the exact same values. In other words, if you set a seed you will get the same random numbers every single time. This is similar to `np.random.seed(42)` in NumPy."
      ],
      "metadata": {
        "id": "5pHQ01giap9w"
      }
    },
    {
      "cell_type": "code",
      "source": [
        "tf.random.set_seed(42)  # set the seed\n",
        "randtens = tf.random.normal(shape=(3, 2))\n",
        "randtens"
      ],
      "metadata": {
        "colab": {
          "base_uri": "https://localhost:8080/"
        },
        "id": "S2Cc-wvDa0op",
        "outputId": "b40c6493-4a60-4406-e7fb-471254aae8a8"
      },
      "execution_count": 18,
      "outputs": [
        {
          "output_type": "execute_result",
          "data": {
            "text/plain": [
              "<tf.Tensor: shape=(3, 2), dtype=float32, numpy=\n",
              "array([[ 0.3274685, -0.8426258],\n",
              "       [ 0.3194337, -1.4075519],\n",
              "       [-2.3880599, -1.0392479]], dtype=float32)>"
            ]
          },
          "metadata": {},
          "execution_count": 18
        }
      ]
    },
    {
      "cell_type": "markdown",
      "source": [
        "There exists a method through which you can shuffle the values in a previously created **variable tensor**: `tf.random.shuffle()`"
      ],
      "metadata": {
        "id": "RYsfcVrYcgvV"
      }
    },
    {
      "cell_type": "code",
      "source": [
        "# shuffle the values in the random varibale tensor created above\n",
        "shuffled_randtens = tf.random.shuffle(randtens)\n",
        "shuffled_randtens"
      ],
      "metadata": {
        "colab": {
          "base_uri": "https://localhost:8080/"
        },
        "id": "-0KC8GDxdG8n",
        "outputId": "7db668f0-33ba-4464-a84a-20884250dc97"
      },
      "execution_count": 19,
      "outputs": [
        {
          "output_type": "execute_result",
          "data": {
            "text/plain": [
              "<tf.Tensor: shape=(3, 2), dtype=float32, numpy=\n",
              "array([[-2.3880599, -1.0392479],\n",
              "       [ 0.3274685, -0.8426258],\n",
              "       [ 0.3194337, -1.4075519]], dtype=float32)>"
            ]
          },
          "metadata": {},
          "execution_count": 19
        }
      ]
    },
    {
      "cell_type": "markdown",
      "source": [
        "### Other Ways to Create Tensors in TensorFlow\n",
        "In TensorFlow, you can create tensors using various methods, including constants, sequences, and random values."
      ],
      "metadata": {
        "id": "jP8lipePer9F"
      }
    },
    {
      "cell_type": "code",
      "source": [
        "# from numpy array\n",
        "import numpy as np\n",
        "numpy_arr = np.arange(1, 25, dtype=np.int32)\n",
        "A = tf.constant(numpy_arr)\n",
        "A"
      ],
      "metadata": {
        "colab": {
          "base_uri": "https://localhost:8080/"
        },
        "id": "vLcIVyIceyek",
        "outputId": "a2fb0900-a65a-4fa2-c652-7c0051a94e9a"
      },
      "execution_count": 20,
      "outputs": [
        {
          "output_type": "execute_result",
          "data": {
            "text/plain": [
              "<tf.Tensor: shape=(24,), dtype=int32, numpy=\n",
              "array([ 1,  2,  3,  4,  5,  6,  7,  8,  9, 10, 11, 12, 13, 14, 15, 16, 17,\n",
              "       18, 19, 20, 21, 22, 23, 24], dtype=int32)>"
            ]
          },
          "metadata": {},
          "execution_count": 20
        }
      ]
    },
    {
      "cell_type": "code",
      "source": [
        "# all zeros\n",
        "tf.zeros(shape=(3, 4))"
      ],
      "metadata": {
        "colab": {
          "base_uri": "https://localhost:8080/"
        },
        "id": "H7l6rcFxfSgq",
        "outputId": "2b986303-c843-48be-80cb-246c8125b3ed"
      },
      "execution_count": 21,
      "outputs": [
        {
          "output_type": "execute_result",
          "data": {
            "text/plain": [
              "<tf.Tensor: shape=(3, 4), dtype=float32, numpy=\n",
              "array([[0., 0., 0., 0.],\n",
              "       [0., 0., 0., 0.],\n",
              "       [0., 0., 0., 0.]], dtype=float32)>"
            ]
          },
          "metadata": {},
          "execution_count": 21
        }
      ]
    },
    {
      "cell_type": "code",
      "source": [
        "# all ones\n",
        "tf.ones(shape=(3, 4))"
      ],
      "metadata": {
        "colab": {
          "base_uri": "https://localhost:8080/"
        },
        "id": "9vrTiEZIfXCL",
        "outputId": "cabd9fb3-347b-4b81-a057-f9cc0cea31f1"
      },
      "execution_count": 22,
      "outputs": [
        {
          "output_type": "execute_result",
          "data": {
            "text/plain": [
              "<tf.Tensor: shape=(3, 4), dtype=float32, numpy=\n",
              "array([[1., 1., 1., 1.],\n",
              "       [1., 1., 1., 1.],\n",
              "       [1., 1., 1., 1.]], dtype=float32)>"
            ]
          },
          "metadata": {},
          "execution_count": 22
        }
      ]
    },
    {
      "cell_type": "code",
      "source": [
        "# a tensor with a specific value\n",
        "tf.fill(dims=(3, 4), value=7)"
      ],
      "metadata": {
        "colab": {
          "base_uri": "https://localhost:8080/"
        },
        "id": "-PVY4x-kfbuD",
        "outputId": "a47f8e3d-d531-4068-838a-5ddc3660b806"
      },
      "execution_count": 23,
      "outputs": [
        {
          "output_type": "execute_result",
          "data": {
            "text/plain": [
              "<tf.Tensor: shape=(3, 4), dtype=int32, numpy=\n",
              "array([[7, 7, 7, 7],\n",
              "       [7, 7, 7, 7],\n",
              "       [7, 7, 7, 7]], dtype=int32)>"
            ]
          },
          "metadata": {},
          "execution_count": 23
        }
      ]
    },
    {
      "cell_type": "code",
      "source": [
        "# a tensor with a sequences (range of values)\n",
        "tf.range(start=1, limit=10, delta=2)"
      ],
      "metadata": {
        "colab": {
          "base_uri": "https://localhost:8080/"
        },
        "id": "rLeLaojpfhuI",
        "outputId": "e0b9febd-db21-4acd-f7a7-be93e0357efa"
      },
      "execution_count": 24,
      "outputs": [
        {
          "output_type": "execute_result",
          "data": {
            "text/plain": [
              "<tf.Tensor: shape=(5,), dtype=int32, numpy=array([1, 3, 5, 7, 9], dtype=int32)>"
            ]
          },
          "metadata": {},
          "execution_count": 24
        }
      ]
    },
    {
      "cell_type": "code",
      "source": [
        "# a tensor with a sequences (linearly spaced values)\n",
        "tf.linspace(start=0.0, stop=1.0, num=5)"
      ],
      "metadata": {
        "colab": {
          "base_uri": "https://localhost:8080/"
        },
        "id": "E9xu6AUafv0a",
        "outputId": "d08cd7dd-16bf-460b-e7c5-305142f721ea"
      },
      "execution_count": 25,
      "outputs": [
        {
          "output_type": "execute_result",
          "data": {
            "text/plain": [
              "<tf.Tensor: shape=(5,), dtype=float32, numpy=array([0.  , 0.25, 0.5 , 0.75, 1.  ], dtype=float32)>"
            ]
          },
          "metadata": {},
          "execution_count": 25
        }
      ]
    },
    {
      "cell_type": "code",
      "source": [
        "# identity matrix\n",
        "tf.eye(num_rows=3, num_columns=3)"
      ],
      "metadata": {
        "colab": {
          "base_uri": "https://localhost:8080/"
        },
        "id": "Lx8Oeb8kf5Ux",
        "outputId": "0c934752-88a6-454e-a703-863bd16fc3af"
      },
      "execution_count": 26,
      "outputs": [
        {
          "output_type": "execute_result",
          "data": {
            "text/plain": [
              "<tf.Tensor: shape=(3, 3), dtype=float32, numpy=\n",
              "array([[1., 0., 0.],\n",
              "       [0., 1., 0.],\n",
              "       [0., 0., 1.]], dtype=float32)>"
            ]
          },
          "metadata": {},
          "execution_count": 26
        }
      ]
    },
    {
      "cell_type": "markdown",
      "source": [
        "### Get Basic Information About a Tensor\n",
        "To get information from tensors in TensorFlow (or PyTorch), you can extract key attributes and values using built-in methods. Here's how:"
      ],
      "metadata": {
        "id": "Vx-OQmk_hBao"
      }
    },
    {
      "cell_type": "code",
      "source": [
        "print(f\"Shape of the tenso: {randtens.shape}\")  # Returns the shape (dimensions) of the tensor\n",
        "print(f\"Data type of the tensor: {randtens.dtype}\")  # Returns the data type of the tensor\n",
        "print(f\"Number of dimensions (rank): {randtens.ndim}\")  # Returns the number of dimensions (rank) of the tensor\n",
        "print(f\"Number of elements in the tensor: {tf.size(randtens)}\")  # Returns the total number of elements in the tensor\n",
        "print(f\"Device (CPU/GPU): {tensor.device}\")  # Shows if the tensor is on CPU or GPU"
      ],
      "metadata": {
        "colab": {
          "base_uri": "https://localhost:8080/"
        },
        "id": "ZrY6BKqLhaOy",
        "outputId": "0480d84e-608c-40fd-eaa8-88c2fcbda8eb"
      },
      "execution_count": 27,
      "outputs": [
        {
          "output_type": "stream",
          "name": "stdout",
          "text": [
            "Shape of the tenso: (3, 2)\n",
            "Data type of the tensor: <dtype: 'float32'>\n",
            "Number of dimensions (rank): 2\n",
            "Number of elements in the tensor: 6\n",
            "Device (CPU/GPU): /job:localhost/replica:0/task:0/device:CPU:0\n"
          ]
        }
      ]
    },
    {
      "cell_type": "markdown",
      "source": [
        "### Extract Values From a Tensor"
      ],
      "metadata": {
        "id": "QVs41tp1iTib"
      }
    },
    {
      "cell_type": "code",
      "source": [
        "# convert tensor to a numpy array\n",
        "# it can be useful for visualization and further manipulation\n",
        "numpy_array = randtens.numpy()  # Works in TensorFlow"
      ],
      "metadata": {
        "id": "EyoM6-vuiq8D"
      },
      "execution_count": 28,
      "outputs": []
    },
    {
      "cell_type": "code",
      "source": [
        "# extract a single value\n",
        "value1 = randtens[0, 0].numpy()\n",
        "value2 = randtens.numpy().item()\n",
        "value1, value2"
      ],
      "metadata": {
        "colab": {
          "base_uri": "https://localhost:8080/",
          "height": 201
        },
        "id": "-TKO0t9Mi-Pb",
        "outputId": "66135b01-e98e-4afe-aed3-412b51095349"
      },
      "execution_count": 29,
      "outputs": [
        {
          "output_type": "error",
          "ename": "ValueError",
          "evalue": "can only convert an array of size 1 to a Python scalar",
          "traceback": [
            "\u001b[0;31m---------------------------------------------------------------------------\u001b[0m",
            "\u001b[0;31mValueError\u001b[0m                                Traceback (most recent call last)",
            "\u001b[0;32m<ipython-input-29-73c5eb1016f5>\u001b[0m in \u001b[0;36m<cell line: 0>\u001b[0;34m()\u001b[0m\n\u001b[1;32m      1\u001b[0m \u001b[0;31m# extract a single value\u001b[0m\u001b[0;34m\u001b[0m\u001b[0;34m\u001b[0m\u001b[0m\n\u001b[1;32m      2\u001b[0m \u001b[0mvalue1\u001b[0m \u001b[0;34m=\u001b[0m \u001b[0mrandtens\u001b[0m\u001b[0;34m[\u001b[0m\u001b[0;36m0\u001b[0m\u001b[0;34m,\u001b[0m \u001b[0;36m0\u001b[0m\u001b[0;34m]\u001b[0m\u001b[0;34m.\u001b[0m\u001b[0mnumpy\u001b[0m\u001b[0;34m(\u001b[0m\u001b[0;34m)\u001b[0m\u001b[0;34m\u001b[0m\u001b[0;34m\u001b[0m\u001b[0m\n\u001b[0;32m----> 3\u001b[0;31m \u001b[0mvalue2\u001b[0m \u001b[0;34m=\u001b[0m \u001b[0mrandtens\u001b[0m\u001b[0;34m.\u001b[0m\u001b[0mnumpy\u001b[0m\u001b[0;34m(\u001b[0m\u001b[0;34m)\u001b[0m\u001b[0;34m.\u001b[0m\u001b[0mitem\u001b[0m\u001b[0;34m(\u001b[0m\u001b[0;34m)\u001b[0m\u001b[0;34m\u001b[0m\u001b[0;34m\u001b[0m\u001b[0m\n\u001b[0m\u001b[1;32m      4\u001b[0m \u001b[0mvalue1\u001b[0m\u001b[0;34m,\u001b[0m \u001b[0mvalue2\u001b[0m\u001b[0;34m\u001b[0m\u001b[0;34m\u001b[0m\u001b[0m\n",
            "\u001b[0;31mValueError\u001b[0m: can only convert an array of size 1 to a Python scalar"
          ]
        }
      ]
    },
    {
      "cell_type": "markdown",
      "source": [
        "**NOTE!** `randtens.numpy().item()` works fine only if the tensor has one single element."
      ],
      "metadata": {
        "id": "Vzvys9M6jaoT"
      }
    },
    {
      "cell_type": "code",
      "source": [
        "# convert tensor toa python list\n",
        "randtens.numpy().tolist()"
      ],
      "metadata": {
        "colab": {
          "base_uri": "https://localhost:8080/"
        },
        "id": "Qmlk_9Nkj8k7",
        "outputId": "bbb6d78b-8b9d-4254-f37b-8e2875e03889"
      },
      "execution_count": 30,
      "outputs": [
        {
          "output_type": "execute_result",
          "data": {
            "text/plain": [
              "[[0.32746851444244385, -0.8426257967948914],\n",
              " [0.31943368911743164, -1.407551884651184],\n",
              " [-2.3880598545074463, -1.0392478704452515]]"
            ]
          },
          "metadata": {},
          "execution_count": 30
        }
      ]
    },
    {
      "cell_type": "markdown",
      "source": [
        "### Get Statistical Information"
      ],
      "metadata": {
        "id": "-MmyqHv7kJgf"
      }
    },
    {
      "cell_type": "code",
      "source": [
        "print(f\"Minimum value: {tf.reduce_min(randtens)}\")\n",
        "print(f\"Maximum value: {tf.reduce_max(randtens.numpy())}\")\n",
        "print(f\"Mean value: {tf.reduce_mean(randtens)}\")\n",
        "print(f\"Sum value: {tf.reduce_sum(randtens)}\")\n",
        "print(f\"Standard deviation value: {tf.math.reduce_std(tf.cast(randtens, dtype=tf.float32))}\")\n",
        "print(f\"Variance value: {tf.math.reduce_variance(tf.cast(randtens, dtype=tf.float32))}\")\n",
        "print(f\"Median value: {tf.math.reduce_variance(tf.cast(randtens, dtype=tf.float32))}\")\n",
        "print(f\"Product value: {tf.math.reduce_prod(randtens)}\")\n",
        "print(f\"Argmax value: {tf.math.argmax(randtens)}\")\n",
        "print(f\"Argmin value: {tf.math.argmin(randtens)}\")\n",
        "print(f\"Unique values: {tf.unique(A)}\")  # it only wirks with a 1D vector\n",
        "print(f\"Unique values and their counts: {tf.unique_with_counts(A)}\")"
      ],
      "metadata": {
        "colab": {
          "base_uri": "https://localhost:8080/"
        },
        "id": "TuceycBJkYR1",
        "outputId": "690cd36a-6c4d-440c-e09f-940fce6aef1e"
      },
      "execution_count": 31,
      "outputs": [
        {
          "output_type": "stream",
          "name": "stdout",
          "text": [
            "Minimum value: -2.3880598545074463\n",
            "Maximum value: 0.32746851444244385\n",
            "Mean value: -0.8384305834770203\n",
            "Sum value: -5.030583381652832\n",
            "Standard deviation value: 0.9544252157211304\n",
            "Variance value: 0.9109275341033936\n",
            "Median value: 0.9109275341033936\n",
            "Product value: 0.30790290236473083\n",
            "Argmax value: [0 0]\n",
            "Argmin value: [2 1]\n",
            "Unique values: Unique(y=<tf.Tensor: shape=(24,), dtype=int32, numpy=\n",
            "array([ 1,  2,  3,  4,  5,  6,  7,  8,  9, 10, 11, 12, 13, 14, 15, 16, 17,\n",
            "       18, 19, 20, 21, 22, 23, 24], dtype=int32)>, idx=<tf.Tensor: shape=(24,), dtype=int32, numpy=\n",
            "array([ 0,  1,  2,  3,  4,  5,  6,  7,  8,  9, 10, 11, 12, 13, 14, 15, 16,\n",
            "       17, 18, 19, 20, 21, 22, 23], dtype=int32)>)\n",
            "Unique values and their counts: UniqueWithCounts(y=<tf.Tensor: shape=(24,), dtype=int32, numpy=\n",
            "array([ 1,  2,  3,  4,  5,  6,  7,  8,  9, 10, 11, 12, 13, 14, 15, 16, 17,\n",
            "       18, 19, 20, 21, 22, 23, 24], dtype=int32)>, idx=<tf.Tensor: shape=(24,), dtype=int32, numpy=\n",
            "array([ 0,  1,  2,  3,  4,  5,  6,  7,  8,  9, 10, 11, 12, 13, 14, 15, 16,\n",
            "       17, 18, 19, 20, 21, 22, 23], dtype=int32)>, count=<tf.Tensor: shape=(24,), dtype=int32, numpy=\n",
            "array([1, 1, 1, 1, 1, 1, 1, 1, 1, 1, 1, 1, 1, 1, 1, 1, 1, 1, 1, 1, 1, 1,\n",
            "       1, 1], dtype=int32)>)\n"
          ]
        }
      ]
    },
    {
      "cell_type": "markdown",
      "source": [
        "### Summary of All Methods Together"
      ],
      "metadata": {
        "id": "pPMS_uIxmdZ3"
      }
    },
    {
      "cell_type": "markdown",
      "source": [
        "| Method                  | Description                                                      |\n",
        "|:------------------------|:-----------------------------------------------------------------|\n",
        "| tf.constant             | Creates a constant tensor.                                       |\n",
        "| tf.Variable             | Creates a mutable tensor (variable).                             |\n",
        "| tf.random.normal        | Creates a tensor with random values from a normal distribution.  |\n",
        "| tf.random.uniform       | Creates a tensor with random values from a uniform distribution. |\n",
        "| tf.random.set_seed      | Sets the random seed for reproducibility.                        |\n",
        "| tf.random.shuffle       | Shuffles the elements of a tensor.                               |\n",
        "| tf.zeros                | Creates a tensor filled with zeros.                              |\n",
        "| tf.ones                 | Creates a tensor filled with ones.                               |\n",
        "| tf.fill                 | Creates a tensor filled with a specific value.                   |\n",
        "| tf.range                | Creates a tensor with a sequence of numbers.                     |\n",
        "| tf.linspace             | Creates a tensor with linearly spaced values.                    |\n",
        "| tf.eye                  | Creates an identity matrix.                                      |\n",
        "| tf.reduce_min           | Computes the minimum value of a tensor.                          |\n",
        "| tf.reduce_max           | Computes the maximum value of a tensor.                          |\n",
        "| tf.reduce_mean          | Computes the mean value of a tensor.                             |\n",
        "| tf.reduce_sum           | Computes the sum of elements in a tensor.                        |\n",
        "| tf.math.reduce_std      | Computes the standard deviation of a tensor.                     |\n",
        "| tf.math.reduce_variance | Computes the variance of a tensor.                               |\n",
        "| tf.math.reduce_prod     | Computes the product of elements in a tensor.                    |\n",
        "| tf.math.argmax          | Returns the index of the maximum value in a tensor.              |\n",
        "| tf.math.argmin          | Returns the index of the minimum value in a tensor.              |\n",
        "| tf.unique               | Finds the unique elements in a tensor.                           |\n",
        "| tf.unique_with_counts   | Finds the unique elements in a tensor along with their counts.   |\n",
        "| assign                  | Updates the variable in place.                                   |\n",
        "| assign_add              | Adds a value to each element of the variable in place.           |\n",
        "| numpy                   | Convert tensor to numpy array                                    |\n",
        "| tolist                  | Convert tensor to a python list                                  |\n",
        "| item                    | Extract value from a tensor                                      |"
      ],
      "metadata": {
        "id": "xDE63nk-mVtV"
      }
    },
    {
      "cell_type": "markdown",
      "source": [
        "### Get Information About Tensors"
      ],
      "metadata": {
        "id": "kIJJ_gArJsx3"
      }
    },
    {
      "cell_type": "markdown",
      "source": [
        "There is also the possibility to extract some information about tensors and how they are basically structured."
      ],
      "metadata": {
        "id": "1aDOSyP6JyUA"
      }
    },
    {
      "cell_type": "code",
      "source": [
        "# Create a rank 5 tensor of random values (5D)\n",
        "rank_5_tens = tf.random.normal(shape=(2, 3, 4, 5, 6))\n",
        "rank_5_tens"
      ],
      "metadata": {
        "colab": {
          "base_uri": "https://localhost:8080/"
        },
        "id": "uiIw6Pe7M8_O",
        "outputId": "37fe7187-eacb-4df0-f9fc-d930c15eb882"
      },
      "execution_count": 44,
      "outputs": [
        {
          "output_type": "execute_result",
          "data": {
            "text/plain": [
              "<tf.Tensor: shape=(2, 3, 4, 5, 6), dtype=float32, numpy=\n",
              "array([[[[[ 3.07604000e-02,  2.90179729e-01,  1.28297746e+00,\n",
              "            8.12715352e-01, -7.94491768e-01,  2.00228363e-01],\n",
              "          [ 1.80324996e+00, -1.03764927e+00, -1.23406804e+00,\n",
              "           -1.26082695e+00,  1.14582352e-01,  1.18528232e-01],\n",
              "          [-1.28591418e+00,  1.22489262e+00,  2.73040056e+00,\n",
              "            5.52164614e-01, -8.33868921e-01, -2.14821473e-01],\n",
              "          [ 5.23745790e-02, -5.05736232e-01, -7.15453029e-01,\n",
              "           -4.33889002e-01,  1.08210814e+00, -8.57448280e-02],\n",
              "          [ 9.84071344e-02, -3.24923486e-01, -7.24119246e-01,\n",
              "            3.97894196e-02,  8.34544361e-01,  1.63207412e-01]],\n",
              "\n",
              "         [[ 8.42930377e-01, -1.80333368e-02, -4.19922352e-01,\n",
              "           -1.26566827e-01, -6.75827622e-01, -4.95980948e-01],\n",
              "          [ 3.93464267e-01, -1.39048874e-01, -8.48577440e-01,\n",
              "            1.08302462e+00, -1.10089922e+00,  9.47591066e-02],\n",
              "          [ 9.02381837e-01, -1.25634956e+00, -1.02800345e+00,\n",
              "           -2.58506864e-01, -1.43304378e-01, -1.30126727e+00],\n",
              "          [ 8.74211848e-01,  4.13969159e-01,  9.47955310e-01,\n",
              "           -7.33351409e-02, -1.07549644e+00, -5.87019086e-01],\n",
              "          [-5.74712455e-01, -9.35060799e-01, -2.88654249e-02,\n",
              "           -3.75600994e-01,  5.38847923e-01, -1.89108002e+00]],\n",
              "\n",
              "         [[-2.03549236e-01,  2.05814302e-01,  4.18099821e-01,\n",
              "           -5.58356345e-01, -1.12206626e+00, -6.32045388e-01],\n",
              "          [ 5.78291416e-01, -8.49501252e-01,  2.19495559e+00,\n",
              "            5.01541018e-01,  2.83505058e+00, -1.35810900e+00],\n",
              "          [ 1.47797525e-01,  3.22382301e-01,  2.37930566e-01,\n",
              "            4.14299756e-01, -1.56278443e+00,  7.58129060e-01],\n",
              "          [-5.71694791e-01, -3.15305561e-01,  1.84346605e-02,\n",
              "            2.71990240e-01,  2.93981814e+00,  1.96491945e+00],\n",
              "          [-1.50339925e+00, -2.98257172e-01,  5.38787365e-01,\n",
              "           -5.83357275e-01, -8.94968808e-01,  8.33550513e-01]],\n",
              "\n",
              "         [[ 1.11586653e-01,  8.06381345e-01,  8.22297275e-01,\n",
              "           -5.26453964e-02, -1.99218363e-01,  1.70536065e+00],\n",
              "          [ 1.47303760e+00, -1.66107118e-01,  2.24236274e+00,\n",
              "            4.06261869e-02, -2.23059863e-01, -1.06605589e+00],\n",
              "          [-3.09774756e-01, -2.11492181e+00, -4.90391403e-02,\n",
              "           -1.78395236e+00,  6.61495104e-02, -1.16891170e+00],\n",
              "          [ 2.36360744e-01,  4.34194893e-01,  3.44686896e-01,\n",
              "           -4.66308832e-01, -1.15553343e+00,  9.16282892e-01],\n",
              "          [ 6.63561463e-01,  1.14565635e+00,  5.40158272e-01,\n",
              "           -3.67440134e-02,  1.07743418e+00, -3.06972951e-01]]],\n",
              "\n",
              "\n",
              "        [[[ 2.14931458e-01,  9.75953758e-01, -3.49853605e-01,\n",
              "            7.13829875e-01,  4.41107035e-01,  1.67631876e+00],\n",
              "          [ 1.33001888e+00,  4.66036052e-01,  9.39069211e-01,\n",
              "            3.64882916e-01, -1.01849544e+00,  1.32594898e-01],\n",
              "          [ 1.64196551e+00,  1.17715621e+00, -1.05781817e+00,\n",
              "            3.44735265e-01,  1.19007397e+00,  2.32804954e-01],\n",
              "          [ 1.14417613e+00, -5.07472694e-01,  2.32897788e-01,\n",
              "            1.08842504e+00, -2.16085896e-01,  1.97639418e+00],\n",
              "          [-1.18175948e+00, -6.13736391e-01,  2.95981802e-02,\n",
              "           -2.07836613e-01, -6.16759598e-01, -4.56011564e-01]],\n",
              "\n",
              "         [[-1.90281117e+00,  1.09779727e+00,  9.79598165e-02,\n",
              "           -6.49127841e-01, -5.68098426e-01,  1.82893127e-01],\n",
              "          [-1.59791875e+00, -4.17983562e-01,  2.89555520e-01,\n",
              "            4.74495173e-01, -3.44176114e-01, -8.05558324e-01],\n",
              "          [ 6.46782339e-01,  8.45130920e-01, -1.12894893e+00,\n",
              "           -1.47861171e+00,  9.28169191e-01, -9.41978276e-01],\n",
              "          [ 7.48645887e-02,  1.80525172e+00, -5.69692373e-01,\n",
              "           -4.70253050e-01,  4.42224354e-01, -1.78167081e+00],\n",
              "          [-2.49030098e-01, -5.99709690e-01,  4.01860714e-01,\n",
              "            1.41464815e-01,  5.88810086e-01,  1.11511290e+00]],\n",
              "\n",
              "         [[ 1.97129007e-02, -6.41600728e-01,  8.07346106e-01,\n",
              "            9.68415678e-01,  4.61751103e-01, -1.24381334e-01],\n",
              "          [ 1.41009927e+00,  1.82661378e+00,  1.20561898e-01,\n",
              "            3.38456869e-01,  1.71347356e+00, -2.18771081e-02],\n",
              "          [-1.40244201e-01,  3.31850266e+00,  1.27510235e-01,\n",
              "           -1.83506882e+00,  1.33283973e-01, -1.51689231e+00],\n",
              "          [ 5.30121148e-01,  9.87578511e-01,  9.49137449e-01,\n",
              "           -8.00621033e-01,  5.97184718e-01,  8.50474417e-01],\n",
              "          [-2.89329767e-01, -5.45468509e-01,  2.61701775e+00,\n",
              "           -1.20426655e+00,  1.33955669e+00,  9.89314914e-01]],\n",
              "\n",
              "         [[ 9.01290834e-01, -7.74297059e-01,  9.13489282e-01,\n",
              "           -1.24498792e-01,  2.79049817e-02,  9.61394385e-02],\n",
              "          [-5.22671759e-01,  3.62915784e-01,  8.59006941e-01,\n",
              "            1.36088669e+00,  1.90712869e-01,  2.55458176e-01],\n",
              "          [ 9.87779737e-01,  4.50398982e-01, -2.39032432e-01,\n",
              "           -7.87046075e-01, -1.77170441e-01,  1.65161584e-02],\n",
              "          [ 3.88662934e-01, -7.47596383e-01, -6.52672648e-01,\n",
              "           -1.85605645e+00,  7.82766700e-01,  4.80710387e-01],\n",
              "          [-2.25404754e-01,  1.36174545e-01,  3.86156648e-01,\n",
              "           -8.63272071e-01, -4.12241012e-01, -1.05854738e+00]]],\n",
              "\n",
              "\n",
              "        [[[-1.19930208e+00, -4.06308949e-01, -2.99161494e-01,\n",
              "           -2.08191133e+00,  2.03335047e-01,  1.35992897e+00],\n",
              "          [-5.21819353e-01,  5.49335599e-01, -1.49079525e+00,\n",
              "           -7.07204759e-01, -1.52652726e-01,  6.69326007e-01],\n",
              "          [ 2.21558619e+00,  9.47680533e-01, -2.01460171e+00,\n",
              "            1.48922217e+00,  6.85931817e-02, -8.18524420e-01],\n",
              "          [ 6.57182813e-01, -1.14744055e+00,  1.29966104e+00,\n",
              "           -6.03076458e-01, -3.64459813e-01, -5.55254877e-01],\n",
              "          [-3.67588967e-01,  8.09926748e-01,  8.53056371e-01,\n",
              "            1.83690965e+00, -1.28386235e+00, -1.80649415e-01]],\n",
              "\n",
              "         [[ 1.00655723e+00,  1.39278185e+00,  6.75947607e-01,\n",
              "           -5.00196964e-02,  2.40384355e-01, -9.75396693e-01],\n",
              "          [ 7.13266954e-02,  3.69274586e-01,  1.70706287e-01,\n",
              "            1.18262315e+00,  5.11898160e-01, -1.82425880e+00],\n",
              "          [-3.08897644e-01, -5.48066273e-02, -1.01536699e-01,\n",
              "           -2.02056623e+00, -1.58342874e+00, -6.50373757e-01],\n",
              "          [-1.76766241e+00, -3.82273912e-01, -5.66320419e-01,\n",
              "           -1.40907431e+00,  9.87776279e-01, -9.00418580e-01],\n",
              "          [ 1.64490151e+00,  1.58781934e+00, -5.83261073e-01,\n",
              "           -3.15613747e-01,  6.93958402e-01,  2.19434991e-01]],\n",
              "\n",
              "         [[ 3.32951218e-01,  2.12368464e+00, -1.21402824e+00,\n",
              "           -1.60943896e-01, -9.35850620e-01,  2.80820870e+00],\n",
              "          [-7.86574006e-01, -2.01941895e+00, -8.61367822e-01,\n",
              "            4.22221899e-01,  1.50027668e+00,  1.16229320e+00],\n",
              "          [-3.05161685e-01, -1.59544206e+00,  4.86670226e-01,\n",
              "           -2.35452485e+00,  3.38533282e-01, -4.97077048e-01],\n",
              "          [-4.32049364e-01, -9.85788764e-04,  4.95551109e-01,\n",
              "            1.10043025e+00, -4.41235721e-01,  1.05603898e+00],\n",
              "          [-5.95338881e-01,  3.68371934e-01, -4.47923899e-01,\n",
              "            1.30165040e+00,  9.29334581e-01,  2.39002585e-01]],\n",
              "\n",
              "         [[-1.19676270e-01, -3.60117030e+00,  1.45033669e+00,\n",
              "            8.06371987e-01,  1.20981097e+00,  5.98414838e-01],\n",
              "          [ 5.98369658e-01, -8.62929702e-01,  9.65742946e-01,\n",
              "           -5.90604424e-01,  1.12564862e+00, -2.12607041e-01],\n",
              "          [-1.77013612e+00, -8.27955067e-01,  9.89832580e-01,\n",
              "           -1.45652801e-01,  5.46903074e-01, -6.46514833e-01],\n",
              "          [ 7.41245508e-01,  1.34944379e-01, -2.89898306e-01,\n",
              "            9.39166963e-01,  3.37741636e-02, -1.07597232e+00],\n",
              "          [ 8.82287979e-01,  1.80281270e+00, -5.33717573e-01,\n",
              "           -6.52931631e-01, -8.95305514e-01, -6.13778047e-02]]]],\n",
              "\n",
              "\n",
              "\n",
              "       [[[[ 7.34631002e-01, -1.28818309e+00,  5.60253501e-01,\n",
              "           -1.63073623e+00, -1.42557001e+00,  8.50692213e-01],\n",
              "          [-1.14408813e-01,  1.50985825e+00, -1.78846598e+00,\n",
              "            1.08188324e-01, -3.76691937e-01, -1.53317070e+00],\n",
              "          [-1.66777059e-01,  7.37377644e-01, -1.02528346e+00,\n",
              "            7.49922037e-01, -1.38364926e-01, -1.18799782e+00],\n",
              "          [ 2.16699187e-02,  1.10727513e+00,  1.98099375e+00,\n",
              "            6.30873978e-01,  1.99346334e-01, -1.13782835e+00],\n",
              "          [-5.84889770e-01, -1.16206968e+00,  1.56017911e+00,\n",
              "           -5.62107623e-01,  2.28627443e-01, -5.16499817e-01]],\n",
              "\n",
              "         [[ 1.50748646e+00, -1.72855221e-02,  1.50463080e+00,\n",
              "           -1.64821160e+00, -9.80517089e-01, -2.70914081e-02],\n",
              "          [ 4.21703279e-01,  7.45468497e-01,  1.76308107e+00,\n",
              "            2.78011352e-01, -2.07441378e+00,  1.33372295e+00],\n",
              "          [-7.56805360e-01, -7.21596554e-02,  8.33287179e-01,\n",
              "           -4.59533811e-01, -1.06351697e+00, -3.19142282e-01],\n",
              "          [-1.84692550e+00,  1.38674885e-01,  1.09252429e+00,\n",
              "            1.20889139e+00, -1.37120593e+00,  3.51130873e-01],\n",
              "          [-1.12512541e+00,  2.33493119e-01,  5.96486568e-01,\n",
              "            4.21290070e-01, -2.32411668e-01, -1.28289485e+00]],\n",
              "\n",
              "         [[-1.66092801e+00, -1.05727983e+00,  2.07659197e+00,\n",
              "           -8.39344338e-02,  1.20642014e-01, -2.05578160e+00],\n",
              "          [ 2.04592395e+00,  7.02211320e-01,  1.75792053e-01,\n",
              "            2.62962174e+00,  8.55205238e-01, -7.20103011e-02],\n",
              "          [-5.26717246e-01,  4.64177459e-01, -8.58168900e-02,\n",
              "           -1.51989803e-01, -2.22807455e+00,  1.13942504e+00],\n",
              "          [ 7.87292600e-01,  1.83013427e+00, -1.90851763e-02,\n",
              "           -1.92575872e-01,  1.88483477e+00, -1.23043513e+00],\n",
              "          [-4.81267571e-01, -1.99822605e+00, -1.66271281e+00,\n",
              "           -7.27361858e-01,  9.16750848e-01, -2.71097064e-01]],\n",
              "\n",
              "         [[-2.68035561e-01, -2.08789301e+00, -1.57219410e+00,\n",
              "            2.01815995e-03,  3.09175998e-01,  5.59689581e-01],\n",
              "          [-4.76938546e-01,  2.68368483e-01, -2.39286482e-01,\n",
              "           -7.63279572e-02, -4.56035733e-01,  9.03927445e-01],\n",
              "          [-4.86637920e-01,  8.12138259e-01, -1.55354071e+00,\n",
              "           -7.31525123e-02,  7.72954226e-01, -5.42197585e-01],\n",
              "          [ 1.12596524e+00,  2.23288149e-01, -7.86448956e-01,\n",
              "            6.60744905e-02,  1.42231667e+00, -3.21405709e-01],\n",
              "          [-1.83692753e+00, -9.19978976e-01, -1.19181268e-01,\n",
              "            8.05170119e-01, -1.68210375e+00,  7.53014982e-01]]],\n",
              "\n",
              "\n",
              "        [[[-1.33219779e-01,  6.82616532e-01,  4.76741821e-01,\n",
              "            1.74463987e+00,  5.53412080e-01,  4.34319973e-01],\n",
              "          [-2.09003806e-01, -6.83471859e-01,  9.65873897e-01,\n",
              "           -3.14839244e-01, -1.01210439e+00,  4.36877869e-02],\n",
              "          [-7.95009673e-01,  2.69358218e-01,  4.02516484e-01,\n",
              "           -7.32902467e-01, -4.19634193e-01,  3.75735193e-01],\n",
              "          [ 5.63930631e-01, -1.05238032e+00,  1.27263751e-03,\n",
              "            8.57689261e-01, -3.80275488e-01, -8.36304367e-01],\n",
              "          [ 3.80237907e-01, -1.39574242e+00, -4.34940875e-01,\n",
              "            9.58281383e-02, -6.19231947e-02, -2.93785572e-01]],\n",
              "\n",
              "         [[-1.26424611e-01,  5.27826071e-01,  2.96354800e-01,\n",
              "            4.19970423e-01,  6.20046556e-01,  1.93851128e-01],\n",
              "          [ 9.64967489e-01,  1.49123418e+00, -1.03189027e+00,\n",
              "            1.14984858e+00, -4.27131891e-01, -1.71361172e+00],\n",
              "          [ 2.62562275e-01, -9.20457184e-01,  1.51909637e+00,\n",
              "           -1.42569172e+00,  1.90999493e-01, -8.46858799e-01],\n",
              "          [-1.59097150e-01,  2.04374909e-01,  1.61242282e+00,\n",
              "           -1.33492768e+00,  1.39976978e+00,  6.39208376e-01],\n",
              "          [-1.07975328e+00, -4.11576211e-01,  7.37371922e-01,\n",
              "           -5.24588645e-01,  1.94267178e+00, -2.29722452e+00]],\n",
              "\n",
              "         [[ 1.33577156e+00, -1.57661963e+00, -1.50996363e+00,\n",
              "            9.12016988e-01, -3.44489634e-01,  1.59688592e+00],\n",
              "          [-4.86376524e-01, -1.65102735e-01, -9.39615071e-01,\n",
              "           -1.66330945e+00, -8.85294139e-01,  1.67351693e-01],\n",
              "          [ 4.14863199e-01, -1.29706609e+00, -3.19682628e-01,\n",
              "            8.57742846e-01,  6.05505228e-01,  5.50774746e-02],\n",
              "          [-7.29880750e-01, -1.47021592e-01,  1.24386358e+00,\n",
              "           -4.62188452e-01,  2.10113019e-01, -3.40638220e-01],\n",
              "          [-4.49929476e-01,  7.27898657e-01,  1.69812202e+00,\n",
              "            2.30346990e+00,  3.37539464e-01, -2.29392385e+00]],\n",
              "\n",
              "         [[ 6.88507080e-01, -1.41695929e+00, -8.78318787e-01,\n",
              "            1.24578607e+00, -1.50113285e+00, -8.79129052e-01],\n",
              "          [-1.29081225e+00, -7.92972505e-01, -1.58899218e-01,\n",
              "            6.46830916e-01, -1.42930305e+00, -1.42518914e+00],\n",
              "          [ 3.77778113e-01, -1.26419747e+00, -5.44291019e-01,\n",
              "            1.72246647e+00, -5.83637953e-01, -1.16776907e+00],\n",
              "          [-1.26212692e+00, -1.03757262e+00,  7.53161073e-01,\n",
              "           -2.69506365e-01,  6.29369393e-02, -4.36796099e-01],\n",
              "          [-5.37551165e-01, -2.02859879e+00, -2.10172921e-01,\n",
              "            8.91392350e-01, -1.34933352e+00,  5.63381791e-01]]],\n",
              "\n",
              "\n",
              "        [[[-9.23320770e-01,  2.00105810e+00,  7.28695750e-01,\n",
              "            1.55380011e+00,  7.82372713e-01,  6.01291239e-01],\n",
              "          [ 1.13961518e+00,  8.22677732e-01, -1.08214247e+00,\n",
              "            8.89118671e-01, -1.27735400e+00,  9.15135503e-01],\n",
              "          [-1.00044763e+00,  1.17873836e+00,  3.58326375e-01,\n",
              "           -2.08195043e+00, -1.14185524e+00,  2.30010569e-01],\n",
              "          [ 2.07564637e-01, -8.57640445e-01,  7.51482546e-01,\n",
              "           -1.75280139e-01, -8.09984267e-01, -3.73731226e-01],\n",
              "          [-5.59165537e-01,  2.01683208e-01, -9.61570799e-01,\n",
              "           -3.72698784e-01, -7.68295646e-01,  2.12969720e-01]],\n",
              "\n",
              "         [[ 3.91040415e-01, -3.50442141e-01, -1.57877886e+00,\n",
              "            1.13975681e-01, -8.06644440e-01,  5.71385086e-01],\n",
              "          [ 1.62127388e+00, -3.00431699e-01, -3.80906276e-02,\n",
              "           -1.23020196e+00, -2.87378788e-01, -3.18962306e-01],\n",
              "          [-6.04526162e-01, -1.20604646e+00,  1.21428466e+00,\n",
              "           -8.18544865e-01, -2.06968975e+00, -3.51874888e-01],\n",
              "          [-6.22455776e-01, -1.64121866e-01, -3.99545133e-02,\n",
              "            1.50414437e-01,  2.44177699e+00, -7.37043560e-01],\n",
              "          [-1.21062803e+00,  6.50187194e-01,  5.86189449e-01,\n",
              "            1.06364942e+00, -2.01437545e+00,  1.64878619e+00]],\n",
              "\n",
              "         [[ 2.32634738e-01, -1.17173982e+00, -8.06890190e-01,\n",
              "           -7.77169883e-01, -1.79113716e-01,  5.40138662e-01],\n",
              "          [ 9.53081012e-01, -1.83312878e-01, -9.92134690e-01,\n",
              "            1.53724945e+00, -2.43931249e-01, -1.20710504e+00],\n",
              "          [-4.48664054e-02, -5.52792788e-01,  5.53871930e-01,\n",
              "            1.74838674e+00, -6.77642643e-01,  1.91208899e-01],\n",
              "          [ 3.21852446e-01, -1.71662286e-01, -1.15674746e+00,\n",
              "            1.52754223e+00, -4.85851198e-01, -1.68387783e+00],\n",
              "          [-1.25004172e+00,  1.25407612e+00, -9.42791343e-01,\n",
              "           -5.60944453e-02, -6.93111002e-01,  6.78742528e-01]],\n",
              "\n",
              "         [[-1.19763124e+00,  1.11148489e+00, -7.94839039e-02,\n",
              "           -8.77003133e-01,  1.09939277e+00,  1.63204104e-01],\n",
              "          [ 1.17873704e+00,  5.12149751e-01, -1.04257965e+00,\n",
              "            1.01278973e+00, -2.23292723e-01,  3.92393202e-01],\n",
              "          [-1.74929428e+00,  4.18101400e-01, -1.01632166e+00,\n",
              "            2.09492445e-01, -6.99622214e-01, -8.15427899e-01],\n",
              "          [-1.49551344e+00, -1.07734990e+00,  6.28558397e-02,\n",
              "           -9.41111624e-01, -3.95008415e-01, -1.87169209e-01],\n",
              "          [-1.46990836e+00, -1.26453185e+00, -5.46724379e-01,\n",
              "           -6.06174255e-03, -1.41289905e-01,  1.47294268e-01]]]]],\n",
              "      dtype=float32)>"
            ]
          },
          "metadata": {},
          "execution_count": 44
        }
      ]
    },
    {
      "cell_type": "code",
      "source": [
        "# print rank, shape, size\n",
        "print(f\"Tensor Rank: {rank_5_tens.ndim}\")\n",
        "print(f\"Tensor Shape: {rank_5_tens.shape}\")\n",
        "print(f\"Tensor Size (total no. of elements): {tf.size(rank_5_tens)}\")"
      ],
      "metadata": {
        "colab": {
          "base_uri": "https://localhost:8080/"
        },
        "id": "FgoL5mPKNfV3",
        "outputId": "d97f1349-a4d2-434d-9a98-30bf629fd367"
      },
      "execution_count": 45,
      "outputs": [
        {
          "output_type": "stream",
          "name": "stdout",
          "text": [
            "Tensor Rank: 5\n",
            "Tensor Shape: (2, 3, 4, 5, 6)\n",
            "Tensor Size (total no. of elements): 720\n"
          ]
        }
      ]
    },
    {
      "cell_type": "markdown",
      "source": [
        "### Get Specific Elements Using Indexing"
      ],
      "metadata": {
        "id": "3b2awjQRmGoq"
      }
    },
    {
      "cell_type": "code",
      "source": [
        "print(randtens[0])      # First row\n",
        "print(randtens[:, 1])   # Second column"
      ],
      "metadata": {
        "colab": {
          "base_uri": "https://localhost:8080/"
        },
        "id": "Or_YrYgsmJFR",
        "outputId": "696cc662-03ac-48d7-b490-4250d97b5e02"
      },
      "execution_count": 46,
      "outputs": [
        {
          "output_type": "stream",
          "name": "stdout",
          "text": [
            "tf.Tensor([ 0.3274685 -0.8426258], shape=(2,), dtype=float32)\n",
            "tf.Tensor([-0.8426258 -1.4075519 -1.0392479], shape=(3,), dtype=float32)\n"
          ]
        }
      ]
    },
    {
      "cell_type": "code",
      "source": [
        "# get the first 3 elements of each dimension\n",
        "rank_5_tens[:2, :2, :2, :2, :2]"
      ],
      "metadata": {
        "colab": {
          "base_uri": "https://localhost:8080/"
        },
        "id": "lhdJcF_aOFQs",
        "outputId": "c93b785f-adc7-4ff5-e668-282deadc8724"
      },
      "execution_count": 47,
      "outputs": [
        {
          "output_type": "execute_result",
          "data": {
            "text/plain": [
              "<tf.Tensor: shape=(2, 2, 2, 2, 2), dtype=float32, numpy=\n",
              "array([[[[[ 0.0307604 ,  0.29017973],\n",
              "          [ 1.80325   , -1.0376493 ]],\n",
              "\n",
              "         [[ 0.8429304 , -0.01803334],\n",
              "          [ 0.39346427, -0.13904887]]],\n",
              "\n",
              "\n",
              "        [[[ 0.21493146,  0.97595376],\n",
              "          [ 1.3300189 ,  0.46603605]],\n",
              "\n",
              "         [[-1.9028112 ,  1.0977973 ],\n",
              "          [-1.5979187 , -0.41798356]]]],\n",
              "\n",
              "\n",
              "\n",
              "       [[[[ 0.734631  , -1.2881831 ],\n",
              "          [-0.11440881,  1.5098583 ]],\n",
              "\n",
              "         [[ 1.5074865 , -0.01728552],\n",
              "          [ 0.42170328,  0.7454685 ]]],\n",
              "\n",
              "\n",
              "        [[[-0.13321978,  0.68261653],\n",
              "          [-0.2090038 , -0.68347186]],\n",
              "\n",
              "         [[-0.12642461,  0.5278261 ],\n",
              "          [ 0.9649675 ,  1.4912342 ]]]]], dtype=float32)>"
            ]
          },
          "metadata": {},
          "execution_count": 47
        }
      ]
    },
    {
      "cell_type": "code",
      "source": [
        "# get the first item of each row\n",
        "rank_5_tens[:1, :1, :1, :1, :]"
      ],
      "metadata": {
        "colab": {
          "base_uri": "https://localhost:8080/"
        },
        "id": "MlJtXoYoOQq2",
        "outputId": "0bbd7f17-4875-44d2-9ed1-74811109eefd"
      },
      "execution_count": 39,
      "outputs": [
        {
          "output_type": "execute_result",
          "data": {
            "text/plain": [
              "<tf.Tensor: shape=(1, 1, 1, 1, 6), dtype=float32, numpy=array([[[[[0., 0., 0., 0., 0., 0.]]]]], dtype=float32)>"
            ]
          },
          "metadata": {},
          "execution_count": 39
        }
      ]
    },
    {
      "cell_type": "markdown",
      "source": [
        "### Operations on Tensors in Deep Learning"
      ],
      "metadata": {
        "id": "uYwyyQssJVlx"
      }
    },
    {
      "cell_type": "markdown",
      "source": [
        "Tensors are the core data structure in deep learning, used to store and manipulate numerical data. Tensor operations allow you to perform mathematical computations efficiently."
      ],
      "metadata": {
        "id": "s71q2RbSPeBq"
      }
    },
    {
      "cell_type": "markdown",
      "source": [
        "#### 1. Basic Arithmetic Operations"
      ],
      "metadata": {
        "id": "4Aqk1ZA_PjYM"
      }
    },
    {
      "cell_type": "code",
      "source": [
        "a = tf.constant([[1, 2], [3, 4]], dtype=tf.float32)\n",
        "b = tf.constant([[5, 6], [7, 8]], dtype=tf.float32)\n",
        "\n",
        "# Addition\n",
        "c = a + b  # or tf.add(a, b)\n",
        "# Subtraction\n",
        "d = a - b  # or tf.subtract(a, b)\n",
        "# Multiplication (element-wise)\n",
        "e = a * b  # or tf.multiply(a, b)\n",
        "# Division (element-wise)\n",
        "f = a / b  # or tf.divide(a, b)\n",
        "\n",
        "print(c)  # [[6, 8], [10, 12]]\n",
        "print(e)  # [[5, 12], [21, 32]]\n"
      ],
      "metadata": {
        "colab": {
          "base_uri": "https://localhost:8080/"
        },
        "id": "dvDBMGHQPutw",
        "outputId": "680b75f9-74eb-4b1a-ec40-09dc6e525bee"
      },
      "execution_count": 48,
      "outputs": [
        {
          "output_type": "stream",
          "name": "stdout",
          "text": [
            "tf.Tensor(\n",
            "[[ 6.  8.]\n",
            " [10. 12.]], shape=(2, 2), dtype=float32)\n",
            "tf.Tensor(\n",
            "[[ 5. 12.]\n",
            " [21. 32.]], shape=(2, 2), dtype=float32)\n"
          ]
        }
      ]
    },
    {
      "cell_type": "markdown",
      "source": [
        "#### 2. Matrix Multiplication (Dot Product)"
      ],
      "metadata": {
        "id": "DUYzijbKP6WD"
      }
    },
    {
      "cell_type": "markdown",
      "source": [
        "They are basically used in neural networks for transforming inputs."
      ],
      "metadata": {
        "id": "qtd_CHmSQUfC"
      }
    },
    {
      "cell_type": "code",
      "source": [
        "# Matrix multiplication\n",
        "matmul_result = tf.matmul(a, b)\n",
        "print(matmul_result)"
      ],
      "metadata": {
        "colab": {
          "base_uri": "https://localhost:8080/"
        },
        "id": "zKwB3108P8ap",
        "outputId": "4cadff06-a3e4-43d4-f343-5a22413526d0"
      },
      "execution_count": 49,
      "outputs": [
        {
          "output_type": "stream",
          "name": "stdout",
          "text": [
            "tf.Tensor(\n",
            "[[19. 22.]\n",
            " [43. 50.]], shape=(2, 2), dtype=float32)\n"
          ]
        }
      ]
    },
    {
      "cell_type": "markdown",
      "source": [
        "**NOTE!** Element-wise multiplication (`*`) is different from matrix multiplication (`tf.matmul()`)."
      ],
      "metadata": {
        "id": "51_uqNR_QF4j"
      }
    },
    {
      "cell_type": "markdown",
      "source": [
        "#### 3. Tensor Reshaping & Transposing"
      ],
      "metadata": {
        "id": "5mfIWnMBQuuc"
      }
    },
    {
      "cell_type": "markdown",
      "source": [
        "These operations help in adjusting tensor shapes for model compatibility."
      ],
      "metadata": {
        "id": "T6eOKjyUQ52G"
      }
    },
    {
      "cell_type": "code",
      "source": [
        "x = tf.constant([[1, 2, 3], [4, 5, 6]])\n",
        "\n",
        "# Reshape\n",
        "reshaped_x = tf.reshape(x, (3, 2))\n",
        "print(reshaped_x)  # Reshaped into a (3x2) tensor\n",
        "\n",
        "# Transpose\n",
        "transposed_x = tf.transpose(x)\n",
        "print(transposed_x)  # Swaps rows and columns"
      ],
      "metadata": {
        "colab": {
          "base_uri": "https://localhost:8080/"
        },
        "id": "PPoeap0iQ7tY",
        "outputId": "34fdc999-74f9-455b-ff23-22b07490d91e"
      },
      "execution_count": 51,
      "outputs": [
        {
          "output_type": "stream",
          "name": "stdout",
          "text": [
            "tf.Tensor(\n",
            "[[1 2]\n",
            " [3 4]\n",
            " [5 6]], shape=(3, 2), dtype=int32)\n",
            "tf.Tensor(\n",
            "[[1 4]\n",
            " [2 5]\n",
            " [3 6]], shape=(3, 2), dtype=int32)\n"
          ]
        }
      ]
    },
    {
      "cell_type": "markdown",
      "source": [
        "#### 4. Expanding & Squeezing Dimensions"
      ],
      "metadata": {
        "id": "8RzgKJV4RoJN"
      }
    },
    {
      "cell_type": "markdown",
      "source": [
        "Expanding and squeezing dimensions helps in adjusting tensor ranks when needed."
      ],
      "metadata": {
        "id": "EvWJ5cVvRqt_"
      }
    },
    {
      "cell_type": "code",
      "source": [
        "# Create a 1D tensor\n",
        "x = tf.constant([1, 2, 3])\n",
        "\n",
        "# Expand dimensions\n",
        "expanded_x = tf.expand_dims(x, axis=0)  # Shape becomes (1, 3)\n",
        "print(expanded_x.shape)\n",
        "\n",
        "# Squeeze dimensions\n",
        "squeezed_x = tf.squeeze(expanded_x)  # Removes dimensions of size 1\n",
        "print(squeezed_x.shape)  # Back to (3,)"
      ],
      "metadata": {
        "colab": {
          "base_uri": "https://localhost:8080/"
        },
        "id": "-M7F7Vm-Rtw6",
        "outputId": "f2dd8fdb-f7a1-40b7-c499-3a82718f0af3"
      },
      "execution_count": 52,
      "outputs": [
        {
          "output_type": "stream",
          "name": "stdout",
          "text": [
            "(1, 3)\n",
            "(3,)\n"
          ]
        }
      ]
    },
    {
      "cell_type": "markdown",
      "source": [
        "### One-hot encoding"
      ],
      "metadata": {
        "id": "9-FDRSCQSDsU"
      }
    },
    {
      "cell_type": "markdown",
      "source": [
        "One-hot encoding is a technique used to represent categorical data in a format that can be provided to machine learning algorithms to improve performance and accuracy. In **tensor operations**, this concept is used to represent categorical variables as vectors, where each vector contains a **single 1** and all other entries are 0s. This is particularly helpful in **classification tasks** where each class label needs to be encoded as a vector."
      ],
      "metadata": {
        "id": "FW-kNxAUSWLP"
      }
    },
    {
      "cell_type": "markdown",
      "source": [
        "#### How Does One-Hot Encoding Work?"
      ],
      "metadata": {
        "id": "GU20XT0QSoeT"
      }
    },
    {
      "cell_type": "markdown",
      "source": [
        "For a categorical variable with `N` possible classes, one-hot encoding transforms the label into a vector of size `N`. In this vector:\n",
        "\n",
        "- The index corresponding to the class is set to `1`.\n",
        "- All other indices are set to `0`."
      ],
      "metadata": {
        "id": "Jtmn0WvTSvzt"
      }
    },
    {
      "cell_type": "markdown",
      "source": [
        "#### Example"
      ],
      "metadata": {
        "id": "NwV0_GKATECO"
      }
    },
    {
      "cell_type": "markdown",
      "source": [
        "Imagine we have three classes: apple, banana, and cherry.\n",
        "\n",
        "- apple will be represented as `[1, 0, 0]`\n",
        "- banana will be represented as `[0, 1, 0]`\n",
        "- cherry will be represented as `[0, 0, 1]`"
      ],
      "metadata": {
        "id": "LbYJwUMsTGOZ"
      }
    },
    {
      "cell_type": "markdown",
      "source": [
        "Now, let's look at how to perform one-hot encoding using tensors in a framework like TensorFlow or PyTorch."
      ],
      "metadata": {
        "id": "qeWNhhDwTNhE"
      }
    },
    {
      "cell_type": "code",
      "source": [
        "import tensorflow as tf\n",
        "\n",
        "# Class labels: apple=0, banana=1, cherry=2\n",
        "labels = tf.constant([0, 1, 2, 1])  # Tensor of class indices\n",
        "\n",
        "# Convert to one-hot encoding\n",
        "one_hot_labels = tf.one_hot(labels, depth=3)  # depth=3 because we have 3 classes\n",
        "\n",
        "print(one_hot_labels) # four instances labeled differently"
      ],
      "metadata": {
        "colab": {
          "base_uri": "https://localhost:8080/"
        },
        "id": "w2N_TpbkTQwk",
        "outputId": "370c8500-0be4-42fd-ebd5-68f412a0de36"
      },
      "execution_count": 54,
      "outputs": [
        {
          "output_type": "stream",
          "name": "stdout",
          "text": [
            "tf.Tensor(\n",
            "[[1. 0. 0.]\n",
            " [0. 1. 0.]\n",
            " [0. 0. 1.]\n",
            " [0. 1. 0.]], shape=(4, 3), dtype=float32)\n"
          ]
        }
      ]
    },
    {
      "cell_type": "markdown",
      "source": [
        "## Advanced Topics in TensorFlow\n",
        "- 🚀 Custom Training Loops – Use tf.GradientTape for advanced model training.\n",
        "- 🚀 Transfer Learning – Use pre-trained models from tf.keras.applications.\n",
        "- 🚀 Distributed Training – Train across multiple GPUs or TPUs with tf.distribute.Strategy.\n",
        "- 🚀 TensorFlow Hub – Import pre-trained models for fine-tuning."
      ],
      "metadata": {
        "id": "wstuZXtJDdpj"
      }
    }
  ]
}