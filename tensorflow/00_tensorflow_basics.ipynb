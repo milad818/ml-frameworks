{
  "nbformat": 4,
  "nbformat_minor": 0,
  "metadata": {
    "colab": {
      "provenance": []
    },
    "kernelspec": {
      "name": "python3",
      "display_name": "Python 3"
    },
    "language_info": {
      "name": "python"
    }
  },
  "cells": [
    {
      "cell_type": "markdown",
      "source": [
        "## Introduction to TensorFlow"
      ],
      "metadata": {
        "id": "sAOwoDvlBIhO"
      }
    },
    {
      "cell_type": "markdown",
      "source": [
        "### What is TensorFlow?\n",
        "TensorFlow is an open-source machine learning framework developed by Google Brain. It is widely used for deep learning, neural networks, and AI research. TensorFlow provides a flexible ecosystem to build, train, and deploy machine learning models efficiently."
      ],
      "metadata": {
        "id": "spzVpPCUBbm4"
      }
    },
    {
      "cell_type": "markdown",
      "source": [
        "### Why Use TensorFlow?\n",
        "- **Scalability:** Works on CPUs, GPUs, and TPUs (Tensor Processing Units).\n",
        "- **Flexibility:** Supports neural networks, traditional ML algorithms, and even reinforcement learning.\n",
        "- **Production-Ready:** Can be used for deploying models on the cloud, edge devices, and mobile apps.\n",
        "- **Support for Multiple Languages:** Primarily supports Python, but also has APIs for C++, Java, and JavaScript."
      ],
      "metadata": {
        "id": "PtbSMaupBzVd"
      }
    },
    {
      "cell_type": "markdown",
      "source": [
        "### Key Features of TensorFlow\n",
        "1. **Tensor-Based Computation**\n",
        "  - The name TensorFlow comes from \"Tensors\" (multi-dimensional arrays) that flow through operations.\n",
        "  - Supports automatic differentiation for optimization (via tf.GradientTape).\n",
        "2. Keras API for High-Level ML\n",
        "  - Keras (`tf.keras`) is a user-friendly high-level API built on TensorFlow for deep learning.\n",
        "  - Supports both sequential and functional API models.\n",
        "3. TensorFlow Datasets & Data Pipelines\n",
        "  - `tf.data API` Handles large-scale datasets efficiently.\n",
        "  - `tf.keras.preprocessing` Helps in data augmentation and pre-processing.\n",
        "4. GPU Acceleration\n",
        "  - Automatically runs computations on GPUs when available for faster training.\n",
        "5. Deployment & Serving\n",
        "  - TensorFlow Serving – Deploy trained models as web services.\n",
        "  - TensorFlow Lite – Optimized for mobile and embedded devices.\n",
        "  - TensorFlow.js – Runs ML models in web browsers.\n"
      ],
      "metadata": {
        "id": "G9BJDyGLCe6u"
      }
    },
    {
      "cell_type": "markdown",
      "source": [
        "## Introduction to Tensors"
      ],
      "metadata": {
        "id": "yUqPngSWETe2"
      }
    },
    {
      "cell_type": "markdown",
      "source": [
        "Tensors are the fundamental data structures in deep learning. They serve as the primary way of representing and processing data in neural networks. Understanding tensors is crucial because deep learning frameworks like TensorFlow and PyTorch use them extensively."
      ],
      "metadata": {
        "id": "8jqM9KG8EW_r"
      }
    },
    {
      "cell_type": "markdown",
      "source": [
        "### What is a Tensor?\n",
        "A tensor is a generalization of scalars, vectors, and matrices to higher dimensions. It is a multi-dimensional array that can store numerical data. You can think of tensors as an extension of arrays in NumPy but optimized for deep learning tasks."
      ],
      "metadata": {
        "id": "n7TkODkoE-lK"
      }
    },
    {
      "cell_type": "markdown",
      "source": [
        "| Tensor Type       | Description                    | Example                        |\n",
        "|-------------------|--------------------------------|--------------------------------|\n",
        "| **Scalar (0D)**   | A single number               | `x = 5`                        |\n",
        "| **Vector (1D)**   | A 1D array of numbers         | `[1, 2, 3]`                    |\n",
        "| **Matrix (2D)**   | A 2D array (rows & columns)   | `[[1, 2], [3, 4]]`             |\n",
        "| **3D Tensor**     | A collection of matrices      | `[[[1,2], [3,4]], [[5,6], [7,8]]]` |\n",
        "| **n-D Tensor**    | A general n-dimensional array | Used in complex DL models      |\n"
      ],
      "metadata": {
        "id": "wp2WtxsGFFPG"
      }
    },
    {
      "cell_type": "markdown",
      "source": [
        "In deep learning, tensors are used to represent:\n",
        "\n",
        "- **Input Data** (e.g., images, text, audio)\n",
        "- **Weights & Biases** of neural networks\n",
        "- **Intermediate Computations** in forward and backward passes"
      ],
      "metadata": {
        "id": "uPmrxfQcFWWM"
      }
    },
    {
      "cell_type": "markdown",
      "source": [
        "The very first and major library to be imported is `tensorflow` for which `tf` is a common alias."
      ],
      "metadata": {
        "id": "gCg9yBg7GDW4"
      }
    },
    {
      "cell_type": "code",
      "execution_count": 1,
      "metadata": {
        "id": "8GXAJxnzAv1x"
      },
      "outputs": [],
      "source": [
        "import tensorflow as tf"
      ]
    },
    {
      "cell_type": "code",
      "source": [
        "# Create a scalar (0D)\n",
        "scalar = tf.constant(10)\n",
        "scalar"
      ],
      "metadata": {
        "colab": {
          "base_uri": "https://localhost:8080/"
        },
        "id": "HarV1qjFG3sF",
        "outputId": "8652742a-8c1a-40ec-d776-e4f4697ca80a"
      },
      "execution_count": 3,
      "outputs": [
        {
          "output_type": "execute_result",
          "data": {
            "text/plain": [
              "<tf.Tensor: shape=(), dtype=int32, numpy=10>"
            ]
          },
          "metadata": {},
          "execution_count": 3
        }
      ]
    },
    {
      "cell_type": "code",
      "source": [
        "# check the number of dimensions\n",
        "scalar.ndim"
      ],
      "metadata": {
        "colab": {
          "base_uri": "https://localhost:8080/"
        },
        "id": "8Omqgzm7HHHL",
        "outputId": "0bc6e289-3f65-48bf-df46-bf27f645589f"
      },
      "execution_count": 4,
      "outputs": [
        {
          "output_type": "execute_result",
          "data": {
            "text/plain": [
              "0"
            ]
          },
          "metadata": {},
          "execution_count": 4
        }
      ]
    },
    {
      "cell_type": "code",
      "source": [
        "# Create a vector (1D)\n",
        "vector = tf.constant([1, 10])\n",
        "vector"
      ],
      "metadata": {
        "colab": {
          "base_uri": "https://localhost:8080/"
        },
        "id": "RNKQxktvHP5J",
        "outputId": "e8bab6b7-813a-41bb-a386-eecf254680f8"
      },
      "execution_count": 16,
      "outputs": [
        {
          "output_type": "execute_result",
          "data": {
            "text/plain": [
              "<tf.Tensor: shape=(2,), dtype=int32, numpy=array([ 1, 10], dtype=int32)>"
            ]
          },
          "metadata": {},
          "execution_count": 16
        }
      ]
    },
    {
      "cell_type": "code",
      "source": [
        "# Check dimenstions\n",
        "vector.ndim"
      ],
      "metadata": {
        "colab": {
          "base_uri": "https://localhost:8080/"
        },
        "id": "EeobdFJXHT2d",
        "outputId": "6a57981f-8c7a-4659-945b-236fa9abf53b"
      },
      "execution_count": 7,
      "outputs": [
        {
          "output_type": "execute_result",
          "data": {
            "text/plain": [
              "1"
            ]
          },
          "metadata": {},
          "execution_count": 7
        }
      ]
    },
    {
      "cell_type": "code",
      "source": [
        "# Create a matrix (2D)\n",
        "matrix = tf.constant([[6, 4],\n",
        "                      [8, 10]])\n",
        "matrix"
      ],
      "metadata": {
        "colab": {
          "base_uri": "https://localhost:8080/"
        },
        "id": "tS8I8UXOHg5D",
        "outputId": "5276e81c-c332-4ee0-a384-5572b9e11353"
      },
      "execution_count": 15,
      "outputs": [
        {
          "output_type": "execute_result",
          "data": {
            "text/plain": [
              "<tf.Tensor: shape=(2, 2), dtype=int32, numpy=\n",
              "array([[ 6,  4],\n",
              "       [ 8, 10]], dtype=int32)>"
            ]
          },
          "metadata": {},
          "execution_count": 15
        }
      ]
    },
    {
      "cell_type": "code",
      "source": [
        "# Check dimension\n",
        "matrix.ndim"
      ],
      "metadata": {
        "colab": {
          "base_uri": "https://localhost:8080/"
        },
        "id": "s6a8ZFRNHknO",
        "outputId": "926944bc-dd4e-4864-923d-219b1e733fc3"
      },
      "execution_count": 10,
      "outputs": [
        {
          "output_type": "execute_result",
          "data": {
            "text/plain": [
              "2"
            ]
          },
          "metadata": {},
          "execution_count": 10
        }
      ]
    },
    {
      "cell_type": "markdown",
      "source": [
        "As you have probably noticed so far, TensorFlow generates tensors of type either `int32` or `float32` by default. However, you can decrease it to 16 if you wish.\n",
        "**NOTE!** The higher the value, the more space it takes up on your computer."
      ],
      "metadata": {
        "id": "4qfnpoD3HyW1"
      }
    },
    {
      "cell_type": "code",
      "source": [
        "# Create matrix 2 ans specidy the data type explicitly\n",
        "matrix2 = tf.constant([[5., 5.],\n",
        "                        [4., 4.],\n",
        "                        [6., 6.]], dtype=tf.float16) # datatype specified\n",
        "matrix2"
      ],
      "metadata": {
        "colab": {
          "base_uri": "https://localhost:8080/"
        },
        "id": "ll_7HBkLIljE",
        "outputId": "81c3af4b-8d3b-4bfd-c56a-ed53f0bdad1d"
      },
      "execution_count": 17,
      "outputs": [
        {
          "output_type": "execute_result",
          "data": {
            "text/plain": [
              "<tf.Tensor: shape=(3, 2), dtype=float16, numpy=\n",
              "array([[5., 5.],\n",
              "       [4., 4.],\n",
              "       [6., 6.]], dtype=float16)>"
            ]
          },
          "metadata": {},
          "execution_count": 17
        }
      ]
    },
    {
      "cell_type": "code",
      "source": [
        "# Let us create a tensor? (3D and above)\n",
        "tensor = tf.constant([[[1, 2, 3],\n",
        "                       [4, 5, 6]],\n",
        "                      [[7, 8, 9],\n",
        "                       [9, 8, 7]],\n",
        "                      [[6, 5, 4],\n",
        "                       [3, 2, 1]]])\n",
        "tensor"
      ],
      "metadata": {
        "colab": {
          "base_uri": "https://localhost:8080/"
        },
        "id": "4cFypP4hJLQs",
        "outputId": "9147d1dd-e0ab-43c8-8e15-ff76d58e163e"
      },
      "execution_count": 19,
      "outputs": [
        {
          "output_type": "execute_result",
          "data": {
            "text/plain": [
              "<tf.Tensor: shape=(3, 2, 3), dtype=int32, numpy=\n",
              "array([[[1, 2, 3],\n",
              "        [4, 5, 6]],\n",
              "\n",
              "       [[7, 8, 9],\n",
              "        [9, 8, 7]],\n",
              "\n",
              "       [[6, 5, 4],\n",
              "        [3, 2, 1]]], dtype=int32)>"
            ]
          },
          "metadata": {},
          "execution_count": 19
        }
      ]
    },
    {
      "cell_type": "code",
      "source": [
        "tensor.ndim"
      ],
      "metadata": {
        "colab": {
          "base_uri": "https://localhost:8080/"
        },
        "id": "QmmrXTOdJl_k",
        "outputId": "e4fec767-c8a9-45d8-b611-2c7f636a8a4f"
      },
      "execution_count": 20,
      "outputs": [
        {
          "output_type": "execute_result",
          "data": {
            "text/plain": [
              "3"
            ]
          },
          "metadata": {},
          "execution_count": 20
        }
      ]
    },
    {
      "cell_type": "markdown",
      "source": [
        "### Creating Tensors with `tf.Variable()` in TensorFlow\n",
        "`tf.Variable()` is used to create mutable tensors in TensorFlow, meaning their values can be changed during training. Unlike `tf.constant()`, which creates immutable tensors, `tf.Variable()` allows modifications, making it useful for model parameters like weights and biases. Balow you can see the basic usage of `tf.Variable()`:"
      ],
      "metadata": {
        "id": "6KTyJW2xVI0o"
      }
    },
    {
      "cell_type": "code",
      "source": [
        "# Create a tensor variable\n",
        "variable_tensor = tf.Variable([1, 2, 3], dtype=tf.float32)\n",
        "print(variable_tensor)"
      ],
      "metadata": {
        "colab": {
          "base_uri": "https://localhost:8080/"
        },
        "id": "uDR0GSkiVfpW",
        "outputId": "e3e8f02d-ca07-48be-9e53-628dde81387b"
      },
      "execution_count": 24,
      "outputs": [
        {
          "output_type": "stream",
          "name": "stdout",
          "text": [
            "<tf.Variable 'Variable:0' shape=(3,) dtype=float32, numpy=array([1., 2., 3.], dtype=float32)>\n"
          ]
        }
      ]
    },
    {
      "cell_type": "markdown",
      "source": [
        "### Changing the Value of `tf.Variable`\n",
        "`assign()` updates the variable in place. You can also modify specific elements."
      ],
      "metadata": {
        "id": "Xu_qW_jjV998"
      }
    },
    {
      "cell_type": "code",
      "source": [
        "# Change the values of the variable\n",
        "variable_tensor.assign([4, 5, 6])\n",
        "print(variable_tensor)"
      ],
      "metadata": {
        "colab": {
          "base_uri": "https://localhost:8080/"
        },
        "id": "gJY_tRapWQTn",
        "outputId": "abaab506-a49b-4ace-c308-7db3d7b4b54e"
      },
      "execution_count": 25,
      "outputs": [
        {
          "output_type": "stream",
          "name": "stdout",
          "text": [
            "<tf.Variable 'Variable:0' shape=(3,) dtype=float32, numpy=array([4., 5., 6.], dtype=float32)>\n"
          ]
        }
      ]
    },
    {
      "cell_type": "markdown",
      "source": [
        "**NOTE!** You cannot modify the elements of a tensor in similar way as you normally do with lists e.g., `changeable_tensor[0] = 7`. It will surely raise an error."
      ],
      "metadata": {
        "id": "Xd-Crx54Wqff"
      }
    },
    {
      "cell_type": "markdown",
      "source": [
        "You can also modify specific elements:"
      ],
      "metadata": {
        "id": "cuRpEi_mXQYY"
      }
    },
    {
      "cell_type": "code",
      "source": [
        "# Add 1 to each element\n",
        "variable_tensor.assign_add([1, 1, 1])\n",
        "\n",
        "print(variable_tensor)"
      ],
      "metadata": {
        "colab": {
          "base_uri": "https://localhost:8080/"
        },
        "id": "CmzYkc2kXR44",
        "outputId": "36a5ebad-ca7f-4143-f01c-1d61ef9db10b"
      },
      "execution_count": 27,
      "outputs": [
        {
          "output_type": "stream",
          "name": "stdout",
          "text": [
            "<tf.Variable 'Variable:0' shape=(3,) dtype=float32, numpy=array([6., 7., 8.], dtype=float32)>\n"
          ]
        }
      ]
    },
    {
      "cell_type": "markdown",
      "source": [
        "Key Differences between `tf.Variable()` and `tf.constant()`:"
      ],
      "metadata": {
        "id": "6YCeUFNhYa_x"
      }
    },
    {
      "cell_type": "markdown",
      "source": [
        "| Feature         | `tf.Variable()` | `tf.constant()` |\n",
        "|----------------|---------------|---------------|\n",
        "| **Mutable?**   | ✅ Yes | ❌ No |\n",
        "| **Trainable?** | ✅ Yes (for model parameters) | ❌ No |\n",
        "| **Use Case**   | Weights, biases, dynamic tensors | Fixed tensors, constants |\n"
      ],
      "metadata": {
        "id": "WE8syWwlYpJM"
      }
    },
    {
      "cell_type": "markdown",
      "source": [
        "### Creating Random Tensors in TensorFlow\n",
        "In TensorFlow, you can create random tensors using functions from the `tf.random` module. Random tensors are useful for initializing neural network weights, data augmentation, and stochastic processes."
      ],
      "metadata": {
        "id": "tE2_z2BVZTjk"
      }
    },
    {
      "cell_type": "code",
      "source": [
        "# Create a random tensor with shape (3, 2)\n",
        "random_tensor = tf.random.normal(shape=(3, 2))\n",
        "print(random_tensor)"
      ],
      "metadata": {
        "colab": {
          "base_uri": "https://localhost:8080/"
        },
        "id": "t9B9RseWZciM",
        "outputId": "a49144a9-4a1a-4acc-ef19-35a113c62db7"
      },
      "execution_count": 36,
      "outputs": [
        {
          "output_type": "stream",
          "name": "stdout",
          "text": [
            "tf.Tensor(\n",
            "[[ 0.08422458 -0.86090374]\n",
            " [ 0.37812304 -0.00519627]\n",
            " [-0.49453196  0.6178192 ]], shape=(3, 2), dtype=float32)\n"
          ]
        }
      ]
    },
    {
      "cell_type": "code",
      "source": [
        "# Create a random tensor drawn from a uniform distribution with shape (3, 2)\n",
        "tf.random.uniform(shape=(3, 2), minval=0, maxval=10, dtype=tf.float32)"
      ],
      "metadata": {
        "colab": {
          "base_uri": "https://localhost:8080/"
        },
        "id": "-JuPIl7HZnaG",
        "outputId": "bbdbf523-f440-4208-f114-2d968cc4e881"
      },
      "execution_count": 30,
      "outputs": [
        {
          "output_type": "execute_result",
          "data": {
            "text/plain": [
              "<tf.Tensor: shape=(3, 2), dtype=float32, numpy=\n",
              "array([[4.2172585, 2.6803505],\n",
              "       [6.876185 , 8.206529 ],\n",
              "       [3.156345 , 6.9819355]], dtype=float32)>"
            ]
          },
          "metadata": {},
          "execution_count": 30
        }
      ]
    },
    {
      "cell_type": "markdown",
      "source": [
        "In the tensor above, values are drawn from a uniform distribution between 0 and 10."
      ],
      "metadata": {
        "id": "ZfKAFSUtZ6SP"
      }
    },
    {
      "cell_type": "code",
      "source": [
        "# Create a random tensor of integer values drawn from a uniform distribution with shape (3, 2)\n",
        "tf.random.uniform(shape=(3, 2), minval=0, maxval=100, dtype=tf.int32)"
      ],
      "metadata": {
        "colab": {
          "base_uri": "https://localhost:8080/"
        },
        "id": "nwmD3UNgaKZA",
        "outputId": "d8759582-7021-47fd-ed73-96ee14d4170f"
      },
      "execution_count": 34,
      "outputs": [
        {
          "output_type": "execute_result",
          "data": {
            "text/plain": [
              "<tf.Tensor: shape=(3, 2), dtype=int32, numpy=\n",
              "array([[29, 57],\n",
              "       [96, 59],\n",
              "       [24, 70]], dtype=int32)>"
            ]
          },
          "metadata": {},
          "execution_count": 34
        }
      ]
    },
    {
      "cell_type": "code",
      "source": [
        "# Create a random tensor of binary values drawn from a uniform distribution with shape (3, 2)\n",
        "tf.random.uniform(shape=(3, 2), minval=0, maxval=2, dtype=tf.int32)"
      ],
      "metadata": {
        "colab": {
          "base_uri": "https://localhost:8080/"
        },
        "id": "nRaaf5C9aeSr",
        "outputId": "a2b12204-a256-494a-a272-a6f6f66b0cad"
      },
      "execution_count": 33,
      "outputs": [
        {
          "output_type": "execute_result",
          "data": {
            "text/plain": [
              "<tf.Tensor: shape=(3, 2), dtype=int32, numpy=\n",
              "array([[0, 1],\n",
              "       [1, 0],\n",
              "       [1, 1]], dtype=int32)>"
            ]
          },
          "metadata": {},
          "execution_count": 33
        }
      ]
    },
    {
      "cell_type": "markdown",
      "source": [
        "You can also set a random seed for the purpose of reproducibility, i.e., every time you run the code below, you wll obtain a tensor with the exact same values. In other words, if you set a seed you will get the same random numbers every single time. This is similar to `np.random.seed(42)` in NumPy."
      ],
      "metadata": {
        "id": "5pHQ01giap9w"
      }
    },
    {
      "cell_type": "code",
      "source": [
        "tf.random.set_seed(42)  # set the seed\n",
        "randtens = tf.random.normal(shape=(3, 2))\n",
        "randtens"
      ],
      "metadata": {
        "colab": {
          "base_uri": "https://localhost:8080/"
        },
        "id": "S2Cc-wvDa0op",
        "outputId": "226b789f-9a4b-4975-911b-0550fe550bdc"
      },
      "execution_count": 39,
      "outputs": [
        {
          "output_type": "execute_result",
          "data": {
            "text/plain": [
              "<tf.Tensor: shape=(3, 2), dtype=float32, numpy=\n",
              "array([[ 0.3274685, -0.8426258],\n",
              "       [ 0.3194337, -1.4075519],\n",
              "       [-2.3880599, -1.0392479]], dtype=float32)>"
            ]
          },
          "metadata": {},
          "execution_count": 39
        }
      ]
    },
    {
      "cell_type": "markdown",
      "source": [
        "There exists a method through which you can shuffle the values in a previously created **variable tensor**: `tf.random.shuffle()`"
      ],
      "metadata": {
        "id": "RYsfcVrYcgvV"
      }
    },
    {
      "cell_type": "code",
      "source": [
        "# shuffle the values in the random varibale tensor created above\n",
        "shuffled_randtens = tf.random.shuffle(randtens)\n",
        "shuffled_randtens"
      ],
      "metadata": {
        "colab": {
          "base_uri": "https://localhost:8080/"
        },
        "id": "-0KC8GDxdG8n",
        "outputId": "2a24604d-0cf4-4ce0-a46d-4973d9462385"
      },
      "execution_count": 40,
      "outputs": [
        {
          "output_type": "execute_result",
          "data": {
            "text/plain": [
              "<tf.Tensor: shape=(3, 2), dtype=float32, numpy=\n",
              "array([[-2.3880599, -1.0392479],\n",
              "       [ 0.3274685, -0.8426258],\n",
              "       [ 0.3194337, -1.4075519]], dtype=float32)>"
            ]
          },
          "metadata": {},
          "execution_count": 40
        }
      ]
    },
    {
      "cell_type": "markdown",
      "source": [
        "### Other Ways to Create Tensors in TensorFlow\n",
        "In TensorFlow, you can create tensors using various methods, including constants, sequences, and random values."
      ],
      "metadata": {
        "id": "jP8lipePer9F"
      }
    },
    {
      "cell_type": "code",
      "source": [
        "# from numpy array\n",
        "import numpy as np\n",
        "numpy_arr = np.arange(1, 25, dtype=np.int32)\n",
        "A = tf.constant(numpy_arr)\n",
        "A"
      ],
      "metadata": {
        "colab": {
          "base_uri": "https://localhost:8080/"
        },
        "id": "vLcIVyIceyek",
        "outputId": "7b455e64-bd19-4256-9422-52df349f4ce5"
      },
      "execution_count": 41,
      "outputs": [
        {
          "output_type": "execute_result",
          "data": {
            "text/plain": [
              "<tf.Tensor: shape=(24,), dtype=int32, numpy=\n",
              "array([ 1,  2,  3,  4,  5,  6,  7,  8,  9, 10, 11, 12, 13, 14, 15, 16, 17,\n",
              "       18, 19, 20, 21, 22, 23, 24], dtype=int32)>"
            ]
          },
          "metadata": {},
          "execution_count": 41
        }
      ]
    },
    {
      "cell_type": "code",
      "source": [
        "# all zeros\n",
        "tf.zeros(shape=(3, 4))"
      ],
      "metadata": {
        "colab": {
          "base_uri": "https://localhost:8080/"
        },
        "id": "H7l6rcFxfSgq",
        "outputId": "80ca391a-d53e-41f5-ab33-24927aae58da"
      },
      "execution_count": 42,
      "outputs": [
        {
          "output_type": "execute_result",
          "data": {
            "text/plain": [
              "<tf.Tensor: shape=(3, 4), dtype=float32, numpy=\n",
              "array([[0., 0., 0., 0.],\n",
              "       [0., 0., 0., 0.],\n",
              "       [0., 0., 0., 0.]], dtype=float32)>"
            ]
          },
          "metadata": {},
          "execution_count": 42
        }
      ]
    },
    {
      "cell_type": "code",
      "source": [
        "# all ones\n",
        "tf.ones(shape=(3, 4))"
      ],
      "metadata": {
        "colab": {
          "base_uri": "https://localhost:8080/"
        },
        "id": "9vrTiEZIfXCL",
        "outputId": "617be795-6965-49f0-e761-2bfa68cf3e69"
      },
      "execution_count": 43,
      "outputs": [
        {
          "output_type": "execute_result",
          "data": {
            "text/plain": [
              "<tf.Tensor: shape=(3, 4), dtype=float32, numpy=\n",
              "array([[1., 1., 1., 1.],\n",
              "       [1., 1., 1., 1.],\n",
              "       [1., 1., 1., 1.]], dtype=float32)>"
            ]
          },
          "metadata": {},
          "execution_count": 43
        }
      ]
    },
    {
      "cell_type": "code",
      "source": [
        "# a tensor with a specific value\n",
        "tf.fill(dims=(3, 4), value=7)"
      ],
      "metadata": {
        "colab": {
          "base_uri": "https://localhost:8080/"
        },
        "id": "-PVY4x-kfbuD",
        "outputId": "726b7e4d-0c2d-4d8c-f0a4-8ff1d5a83054"
      },
      "execution_count": 44,
      "outputs": [
        {
          "output_type": "execute_result",
          "data": {
            "text/plain": [
              "<tf.Tensor: shape=(3, 4), dtype=int32, numpy=\n",
              "array([[7, 7, 7, 7],\n",
              "       [7, 7, 7, 7],\n",
              "       [7, 7, 7, 7]], dtype=int32)>"
            ]
          },
          "metadata": {},
          "execution_count": 44
        }
      ]
    },
    {
      "cell_type": "code",
      "source": [
        "# a tensor with a sequences (range of values)\n",
        "tf.range(start=1, limit=10, delta=2)"
      ],
      "metadata": {
        "colab": {
          "base_uri": "https://localhost:8080/"
        },
        "id": "rLeLaojpfhuI",
        "outputId": "0b7bdcdf-c869-4ee9-f803-c1c37bd517ba"
      },
      "execution_count": 46,
      "outputs": [
        {
          "output_type": "execute_result",
          "data": {
            "text/plain": [
              "<tf.Tensor: shape=(5,), dtype=int32, numpy=array([1, 3, 5, 7, 9], dtype=int32)>"
            ]
          },
          "metadata": {},
          "execution_count": 46
        }
      ]
    },
    {
      "cell_type": "code",
      "source": [
        "# a tensor with a sequences (linearly spaced values)\n",
        "tf.linspace(start=0.0, stop=1.0, num=5)"
      ],
      "metadata": {
        "colab": {
          "base_uri": "https://localhost:8080/"
        },
        "id": "E9xu6AUafv0a",
        "outputId": "3113b34a-225b-4d7d-a40c-cd4198aff34e"
      },
      "execution_count": 48,
      "outputs": [
        {
          "output_type": "execute_result",
          "data": {
            "text/plain": [
              "<tf.Tensor: shape=(5,), dtype=float32, numpy=array([0.  , 0.25, 0.5 , 0.75, 1.  ], dtype=float32)>"
            ]
          },
          "metadata": {},
          "execution_count": 48
        }
      ]
    },
    {
      "cell_type": "code",
      "source": [
        "# identity matrix\n",
        "tf.eye(num_rows=3, num_columns=3)"
      ],
      "metadata": {
        "colab": {
          "base_uri": "https://localhost:8080/"
        },
        "id": "Lx8Oeb8kf5Ux",
        "outputId": "aba0c636-7f00-4b79-9f84-90a2784fe90d"
      },
      "execution_count": 49,
      "outputs": [
        {
          "output_type": "execute_result",
          "data": {
            "text/plain": [
              "<tf.Tensor: shape=(3, 3), dtype=float32, numpy=\n",
              "array([[1., 0., 0.],\n",
              "       [0., 1., 0.],\n",
              "       [0., 0., 1.]], dtype=float32)>"
            ]
          },
          "metadata": {},
          "execution_count": 49
        }
      ]
    },
    {
      "cell_type": "markdown",
      "source": [
        "### Get Basic Information About a Tensor\n",
        "To get information from tensors in TensorFlow (or PyTorch), you can extract key attributes and values using built-in methods. Here's how:"
      ],
      "metadata": {
        "id": "Vx-OQmk_hBao"
      }
    },
    {
      "cell_type": "code",
      "source": [
        "print(f\"Shape of the tenso: {randtens.shape}\")  # Returns the shape (dimensions) of the tensor\n",
        "print(f\"Data type of the tensor: {randtens.dtype}\")  # Returns the data type of the tensor\n",
        "print(f\"Number of dimensions (rank): {randtens.ndim}\")  # Returns the number of dimensions (rank) of the tensor\n",
        "print(f\"Number of elements in the tensor: {tf.size(randtens)}\")  # Returns the total number of elements in the tensor\n",
        "print(f\"Device (CPU/GPU): {tensor.device}\")  # Shows if the tensor is on CPU or GPU"
      ],
      "metadata": {
        "colab": {
          "base_uri": "https://localhost:8080/"
        },
        "id": "ZrY6BKqLhaOy",
        "outputId": "b0896dbf-144a-43d8-c173-50e5dc096d1a"
      },
      "execution_count": 52,
      "outputs": [
        {
          "output_type": "stream",
          "name": "stdout",
          "text": [
            "Shape of the tenso: (3, 2)\n",
            "Data type of the tensor: <dtype: 'float32'>\n",
            "Number of dimensions (rank): 2\n",
            "Number of elements in the tensor: 6\n",
            "Device (CPU/GPU): /job:localhost/replica:0/task:0/device:CPU:0\n"
          ]
        }
      ]
    },
    {
      "cell_type": "markdown",
      "source": [
        "### Extract Values From a Tensor"
      ],
      "metadata": {
        "id": "QVs41tp1iTib"
      }
    },
    {
      "cell_type": "code",
      "source": [
        "# convert tensor to a numpy array\n",
        "# it can be useful for visualization and further manipulation\n",
        "numpy_array = randtens.numpy()  # Works in TensorFlow"
      ],
      "metadata": {
        "id": "EyoM6-vuiq8D"
      },
      "execution_count": 54,
      "outputs": []
    },
    {
      "cell_type": "code",
      "source": [
        "# extract a single value\n",
        "value1 = randtens[0, 0].numpy()\n",
        "value2 = randtens.numpy().item()\n",
        "value1, value2"
      ],
      "metadata": {
        "colab": {
          "base_uri": "https://localhost:8080/",
          "height": 201
        },
        "id": "-TKO0t9Mi-Pb",
        "outputId": "8b754d68-da70-4f8f-a97f-0766a240e12e"
      },
      "execution_count": 56,
      "outputs": [
        {
          "output_type": "error",
          "ename": "ValueError",
          "evalue": "can only convert an array of size 1 to a Python scalar",
          "traceback": [
            "\u001b[0;31m---------------------------------------------------------------------------\u001b[0m",
            "\u001b[0;31mValueError\u001b[0m                                Traceback (most recent call last)",
            "\u001b[0;32m<ipython-input-56-73c5eb1016f5>\u001b[0m in \u001b[0;36m<cell line: 0>\u001b[0;34m()\u001b[0m\n\u001b[1;32m      1\u001b[0m \u001b[0;31m# extract a single value\u001b[0m\u001b[0;34m\u001b[0m\u001b[0;34m\u001b[0m\u001b[0m\n\u001b[1;32m      2\u001b[0m \u001b[0mvalue1\u001b[0m \u001b[0;34m=\u001b[0m \u001b[0mrandtens\u001b[0m\u001b[0;34m[\u001b[0m\u001b[0;36m0\u001b[0m\u001b[0;34m,\u001b[0m \u001b[0;36m0\u001b[0m\u001b[0;34m]\u001b[0m\u001b[0;34m.\u001b[0m\u001b[0mnumpy\u001b[0m\u001b[0;34m(\u001b[0m\u001b[0;34m)\u001b[0m\u001b[0;34m\u001b[0m\u001b[0;34m\u001b[0m\u001b[0m\n\u001b[0;32m----> 3\u001b[0;31m \u001b[0mvalue2\u001b[0m \u001b[0;34m=\u001b[0m \u001b[0mrandtens\u001b[0m\u001b[0;34m.\u001b[0m\u001b[0mnumpy\u001b[0m\u001b[0;34m(\u001b[0m\u001b[0;34m)\u001b[0m\u001b[0;34m.\u001b[0m\u001b[0mitem\u001b[0m\u001b[0;34m(\u001b[0m\u001b[0;34m)\u001b[0m\u001b[0;34m\u001b[0m\u001b[0;34m\u001b[0m\u001b[0m\n\u001b[0m\u001b[1;32m      4\u001b[0m \u001b[0mvalue1\u001b[0m\u001b[0;34m,\u001b[0m \u001b[0mvalue2\u001b[0m\u001b[0;34m\u001b[0m\u001b[0;34m\u001b[0m\u001b[0m\n",
            "\u001b[0;31mValueError\u001b[0m: can only convert an array of size 1 to a Python scalar"
          ]
        }
      ]
    },
    {
      "cell_type": "markdown",
      "source": [
        "**NOTE!** `randtens.numpy().item()` works fine only if the tensor has one single element."
      ],
      "metadata": {
        "id": "Vzvys9M6jaoT"
      }
    },
    {
      "cell_type": "code",
      "source": [
        "# convert tensor toa python list\n",
        "randtens.numpy().tolist()"
      ],
      "metadata": {
        "colab": {
          "base_uri": "https://localhost:8080/"
        },
        "id": "Qmlk_9Nkj8k7",
        "outputId": "090e853b-085d-49a9-cd6d-947598831b0a"
      },
      "execution_count": 57,
      "outputs": [
        {
          "output_type": "execute_result",
          "data": {
            "text/plain": [
              "[[0.32746851444244385, -0.8426257967948914],\n",
              " [0.31943368911743164, -1.407551884651184],\n",
              " [-2.3880598545074463, -1.0392478704452515]]"
            ]
          },
          "metadata": {},
          "execution_count": 57
        }
      ]
    },
    {
      "cell_type": "markdown",
      "source": [
        "### Get Statistical Information"
      ],
      "metadata": {
        "id": "-MmyqHv7kJgf"
      }
    },
    {
      "cell_type": "code",
      "source": [
        "print(f\"Minimum value: {tf.reduce_min(randtens)}\")\n",
        "print(f\"Maximum value: {tf.reduce_max(randtens.numpy())}\")\n",
        "print(f\"Mean value: {tf.reduce_mean(randtens)}\")\n",
        "print(f\"Sum value: {tf.reduce_sum(randtens)}\")\n",
        "print(f\"Standard deviation value: {tf.math.reduce_std(tf.cast(randtens, dtype=tf.float32))}\")\n",
        "print(f\"Variance value: {tf.math.reduce_variance(tf.cast(randtens, dtype=tf.float32))}\")\n",
        "print(f\"Median value: {tf.math.reduce_variance(tf.cast(randtens, dtype=tf.float32))}\")\n",
        "print(f\"Product value: {tf.math.reduce_prod(randtens)}\")\n",
        "print(f\"Argmax value: {tf.math.argmax(randtens)}\")\n",
        "print(f\"Argmin value: {tf.math.argmin(randtens)}\")\n",
        "print(f\"Unique values: {tf.unique(A)}\")  # it only wirks with a 1D vector\n",
        "print(f\"Unique values and their counts: {tf.unique_with_counts(A)}\")"
      ],
      "metadata": {
        "colab": {
          "base_uri": "https://localhost:8080/"
        },
        "id": "TuceycBJkYR1",
        "outputId": "be8cb826-9ca7-4b33-c0bc-0452b1da9212"
      },
      "execution_count": 63,
      "outputs": [
        {
          "output_type": "stream",
          "name": "stdout",
          "text": [
            "Minimum value: -2.3880598545074463\n",
            "Maximum value: 0.32746851444244385\n",
            "Mean value: -0.8384305834770203\n",
            "Sum value: -5.030583381652832\n",
            "Standard deviation value: 0.9544252157211304\n",
            "Variance value: 0.9109275341033936\n",
            "Median value: 0.9109275341033936\n",
            "Product value: 0.30790290236473083\n",
            "Argmax value: [0 0]\n",
            "Argmin value: [2 1]\n",
            "Unique values: Unique(y=<tf.Tensor: shape=(24,), dtype=int32, numpy=\n",
            "array([ 1,  2,  3,  4,  5,  6,  7,  8,  9, 10, 11, 12, 13, 14, 15, 16, 17,\n",
            "       18, 19, 20, 21, 22, 23, 24], dtype=int32)>, idx=<tf.Tensor: shape=(24,), dtype=int32, numpy=\n",
            "array([ 0,  1,  2,  3,  4,  5,  6,  7,  8,  9, 10, 11, 12, 13, 14, 15, 16,\n",
            "       17, 18, 19, 20, 21, 22, 23], dtype=int32)>)\n",
            "Unique values and their counts: UniqueWithCounts(y=<tf.Tensor: shape=(24,), dtype=int32, numpy=\n",
            "array([ 1,  2,  3,  4,  5,  6,  7,  8,  9, 10, 11, 12, 13, 14, 15, 16, 17,\n",
            "       18, 19, 20, 21, 22, 23, 24], dtype=int32)>, idx=<tf.Tensor: shape=(24,), dtype=int32, numpy=\n",
            "array([ 0,  1,  2,  3,  4,  5,  6,  7,  8,  9, 10, 11, 12, 13, 14, 15, 16,\n",
            "       17, 18, 19, 20, 21, 22, 23], dtype=int32)>, count=<tf.Tensor: shape=(24,), dtype=int32, numpy=\n",
            "array([1, 1, 1, 1, 1, 1, 1, 1, 1, 1, 1, 1, 1, 1, 1, 1, 1, 1, 1, 1, 1, 1,\n",
            "       1, 1], dtype=int32)>)\n"
          ]
        }
      ]
    },
    {
      "cell_type": "markdown",
      "source": [
        "### Summary of All Methods Together"
      ],
      "metadata": {
        "id": "pPMS_uIxmdZ3"
      }
    },
    {
      "cell_type": "markdown",
      "source": [
        "| Method                  | Description                                                      |\n",
        "|:------------------------|:-----------------------------------------------------------------|\n",
        "| tf.constant             | Creates a constant tensor.                                       |\n",
        "| tf.Variable             | Creates a mutable tensor (variable).                             |\n",
        "| tf.random.normal        | Creates a tensor with random values from a normal distribution.  |\n",
        "| tf.random.uniform       | Creates a tensor with random values from a uniform distribution. |\n",
        "| tf.random.set_seed      | Sets the random seed for reproducibility.                        |\n",
        "| tf.random.shuffle       | Shuffles the elements of a tensor.                               |\n",
        "| tf.zeros                | Creates a tensor filled with zeros.                              |\n",
        "| tf.ones                 | Creates a tensor filled with ones.                               |\n",
        "| tf.fill                 | Creates a tensor filled with a specific value.                   |\n",
        "| tf.range                | Creates a tensor with a sequence of numbers.                     |\n",
        "| tf.linspace             | Creates a tensor with linearly spaced values.                    |\n",
        "| tf.eye                  | Creates an identity matrix.                                      |\n",
        "| tf.reduce_min           | Computes the minimum value of a tensor.                          |\n",
        "| tf.reduce_max           | Computes the maximum value of a tensor.                          |\n",
        "| tf.reduce_mean          | Computes the mean value of a tensor.                             |\n",
        "| tf.reduce_sum           | Computes the sum of elements in a tensor.                        |\n",
        "| tf.math.reduce_std      | Computes the standard deviation of a tensor.                     |\n",
        "| tf.math.reduce_variance | Computes the variance of a tensor.                               |\n",
        "| tf.math.reduce_prod     | Computes the product of elements in a tensor.                    |\n",
        "| tf.math.argmax          | Returns the index of the maximum value in a tensor.              |\n",
        "| tf.math.argmin          | Returns the index of the minimum value in a tensor.              |\n",
        "| tf.unique               | Finds the unique elements in a tensor.                           |\n",
        "| tf.unique_with_counts   | Finds the unique elements in a tensor along with their counts.   |\n",
        "| assign                  | Updates the variable in place.                                   |\n",
        "| assign_add              | Adds a value to each element of the variable in place.           |\n",
        "| numpy                   | Convert tensor to numpy array                                    |\n",
        "| tolist                  | Convert tensor to a python list                                  |\n",
        "| item                    | Extract value from a tensor                                      |"
      ],
      "metadata": {
        "id": "xDE63nk-mVtV"
      }
    },
    {
      "cell_type": "markdown",
      "source": [
        "### Get Specific Elements Using Indexing"
      ],
      "metadata": {
        "id": "3b2awjQRmGoq"
      }
    },
    {
      "cell_type": "code",
      "source": [
        "print(randtens[0])      # First row\n",
        "print(randtens[:, 1])   # Second column"
      ],
      "metadata": {
        "colab": {
          "base_uri": "https://localhost:8080/"
        },
        "id": "Or_YrYgsmJFR",
        "outputId": "c8cc79c0-0d5c-4342-d9c1-7e62d4c6ee07"
      },
      "execution_count": 65,
      "outputs": [
        {
          "output_type": "stream",
          "name": "stdout",
          "text": [
            "tf.Tensor([ 0.3274685 -0.8426258], shape=(2,), dtype=float32)\n",
            "tf.Tensor([-0.8426258 -1.4075519 -1.0392479], shape=(3,), dtype=float32)\n"
          ]
        }
      ]
    },
    {
      "cell_type": "markdown",
      "source": [
        "## Advanced Topics in TensorFlow\n",
        "- 🚀 Custom Training Loops – Use tf.GradientTape for advanced model training.\n",
        "- 🚀 Transfer Learning – Use pre-trained models from tf.keras.applications.\n",
        "- 🚀 Distributed Training – Train across multiple GPUs or TPUs with tf.distribute.Strategy.\n",
        "- 🚀 TensorFlow Hub – Import pre-trained models for fine-tuning."
      ],
      "metadata": {
        "id": "wstuZXtJDdpj"
      }
    }
  ]
}