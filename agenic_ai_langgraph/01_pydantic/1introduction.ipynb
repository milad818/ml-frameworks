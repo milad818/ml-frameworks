{
  "nbformat": 4,
  "nbformat_minor": 0,
  "metadata": {
    "colab": {
      "provenance": []
    },
    "kernelspec": {
      "name": "python3",
      "display_name": "Python 3"
    },
    "language_info": {
      "name": "python"
    }
  },
  "cells": [
    {
      "cell_type": "markdown",
      "source": [
        "## Pydantic\n",
        "### 🔍 What is Pydantic?\n",
        "Pydantic lets you define data structures using Python classes, and it automatically validates and parses data into those structures.\n",
        "\n",
        "It uses Python type hints to:\n",
        "- Validate input data (like JSON or dicts)\n",
        "- Convert types (e.g., string to int, if possible)\n",
        "- Raise clear, useful errors when data is missing or invalid"
      ],
      "metadata": {
        "id": "wBuGY_FbX7in"
      }
    },
    {
      "cell_type": "markdown",
      "source": [
        "### What is it used for?\n",
        "- **FastAPI:** Pydantic is the backbone for data models (requests, responses).\n",
        "- **Data Validation:** Ensures incoming data (e.g., from APIs, configs, forms) meets expectations.\n",
        "- **Parsing JSON or external input:** Converts raw data into well-typed Python objects.\n",
        "- **Environment/config management:** BaseSettings class lets you manage app settings from env vars, .env files, etc."
      ],
      "metadata": {
        "id": "oRimw-yHX_B1"
      }
    },
    {
      "cell_type": "code",
      "source": [
        "!pip install pydantic"
      ],
      "metadata": {
        "colab": {
          "base_uri": "https://localhost:8080/"
        },
        "id": "Zg8rv2JxYW-S",
        "outputId": "e096677e-906d-4d63-d1ef-c4df1376f51f"
      },
      "execution_count": 2,
      "outputs": [
        {
          "output_type": "stream",
          "name": "stdout",
          "text": [
            "Requirement already satisfied: pydantic in /usr/local/lib/python3.11/dist-packages (2.11.3)\n",
            "Requirement already satisfied: annotated-types>=0.6.0 in /usr/local/lib/python3.11/dist-packages (from pydantic) (0.7.0)\n",
            "Requirement already satisfied: pydantic-core==2.33.1 in /usr/local/lib/python3.11/dist-packages (from pydantic) (2.33.1)\n",
            "Requirement already satisfied: typing-extensions>=4.12.2 in /usr/local/lib/python3.11/dist-packages (from pydantic) (4.13.1)\n",
            "Requirement already satisfied: typing-inspection>=0.4.0 in /usr/local/lib/python3.11/dist-packages (from pydantic) (0.4.0)\n"
          ]
        }
      ]
    },
    {
      "cell_type": "code",
      "source": [
        "from pydantic import BaseModel"
      ],
      "metadata": {
        "id": "N7llYUIIYRJf"
      },
      "execution_count": 4,
      "outputs": []
    },
    {
      "cell_type": "markdown",
      "source": [
        "Take a look at the example class created below employing two different approaches:"
      ],
      "metadata": {
        "id": "mWcr8xxab4r4"
      }
    },
    {
      "cell_type": "code",
      "source": [
        "from dataclasses import dataclass\n",
        "\n",
        "@dataclass\n",
        "class Person1():\n",
        "  name:str\n",
        "  age:int\n",
        "  city:str\n",
        "\n",
        "print(Person1(name=\"Milad\", age=35, city=\"Turin\"))"
      ],
      "metadata": {
        "colab": {
          "base_uri": "https://localhost:8080/"
        },
        "id": "7_EsT-v9beKt",
        "outputId": "e879e911-57d3-4277-cdea-662c21ffef6c"
      },
      "execution_count": 19,
      "outputs": [
        {
          "output_type": "stream",
          "name": "stdout",
          "text": [
            "Person1(name='Milad', age=35, city='Turin')\n"
          ]
        }
      ]
    },
    {
      "cell_type": "code",
      "source": [
        "class Person2(BaseModel):\n",
        "  name:str\n",
        "  age:int\n",
        "  city:str\n",
        "\n",
        "person2 = Person2(name=\"Milad\", age=35, city=\"Turin\")\n",
        "\n",
        "print(person2)"
      ],
      "metadata": {
        "colab": {
          "base_uri": "https://localhost:8080/"
        },
        "id": "YhEFBsSyYNNl",
        "outputId": "dd0033dc-cfb2-4a0f-b0ca-a3c60b58f2e7"
      },
      "execution_count": 20,
      "outputs": [
        {
          "output_type": "stream",
          "name": "stdout",
          "text": [
            "name='Milad' age=35 city='Turin'\n"
          ]
        }
      ]
    },
    {
      "cell_type": "markdown",
      "source": [
        "As you can see, there no particular difference in between when printed. So why do you think one would want their class to inherit `BaseModel`?"
      ],
      "metadata": {
        "id": "iKR6PStncLLX"
      }
    },
    {
      "cell_type": "markdown",
      "source": [
        "What if we create another onstance of the object `Person2` as you can see below?"
      ],
      "metadata": {
        "id": "lqd5MiAgc0fq"
      }
    },
    {
      "cell_type": "code",
      "execution_count": 21,
      "metadata": {
        "colab": {
          "base_uri": "https://localhost:8080/",
          "height": 402
        },
        "id": "71onQmmqXxOC",
        "outputId": "817cc638-572d-4eb1-c12f-420b138a2d23"
      },
      "outputs": [
        {
          "output_type": "error",
          "ename": "ValidationError",
          "evalue": "1 validation error for Person2\ncity\n  Input should be a valid string [type=string_type, input_value=12, input_type=int]\n    For further information visit https://errors.pydantic.dev/2.11/v/string_type",
          "traceback": [
            "\u001b[0;31m---------------------------------------------------------------------------\u001b[0m",
            "\u001b[0;31mValidationError\u001b[0m                           Traceback (most recent call last)",
            "\u001b[0;32m<ipython-input-21-157dc6db5ef0>\u001b[0m in \u001b[0;36m<cell line: 0>\u001b[0;34m()\u001b[0m\n\u001b[0;32m----> 1\u001b[0;31m \u001b[0mperson3\u001b[0m \u001b[0;34m=\u001b[0m \u001b[0mPerson2\u001b[0m\u001b[0;34m(\u001b[0m\u001b[0mname\u001b[0m\u001b[0;34m=\u001b[0m\u001b[0;34m\"Milad\"\u001b[0m\u001b[0;34m,\u001b[0m \u001b[0mage\u001b[0m\u001b[0;34m=\u001b[0m\u001b[0;36m35\u001b[0m\u001b[0;34m,\u001b[0m \u001b[0mcity\u001b[0m\u001b[0;34m=\u001b[0m\u001b[0;36m12\u001b[0m\u001b[0;34m)\u001b[0m\u001b[0;34m\u001b[0m\u001b[0;34m\u001b[0m\u001b[0m\n\u001b[0m\u001b[1;32m      2\u001b[0m \u001b[0;34m\u001b[0m\u001b[0m\n\u001b[1;32m      3\u001b[0m \u001b[0mprint\u001b[0m\u001b[0;34m(\u001b[0m\u001b[0mperson3\u001b[0m\u001b[0;34m)\u001b[0m\u001b[0;34m\u001b[0m\u001b[0;34m\u001b[0m\u001b[0m\n",
            "\u001b[0;32m/usr/local/lib/python3.11/dist-packages/pydantic/main.py\u001b[0m in \u001b[0;36m__init__\u001b[0;34m(self, **data)\u001b[0m\n\u001b[1;32m    251\u001b[0m         \u001b[0;31m# `__tracebackhide__` tells pytest and some other tools to omit this function from tracebacks\u001b[0m\u001b[0;34m\u001b[0m\u001b[0;34m\u001b[0m\u001b[0m\n\u001b[1;32m    252\u001b[0m         \u001b[0m__tracebackhide__\u001b[0m \u001b[0;34m=\u001b[0m \u001b[0;32mTrue\u001b[0m\u001b[0;34m\u001b[0m\u001b[0;34m\u001b[0m\u001b[0m\n\u001b[0;32m--> 253\u001b[0;31m         \u001b[0mvalidated_self\u001b[0m \u001b[0;34m=\u001b[0m \u001b[0mself\u001b[0m\u001b[0;34m.\u001b[0m\u001b[0m__pydantic_validator__\u001b[0m\u001b[0;34m.\u001b[0m\u001b[0mvalidate_python\u001b[0m\u001b[0;34m(\u001b[0m\u001b[0mdata\u001b[0m\u001b[0;34m,\u001b[0m \u001b[0mself_instance\u001b[0m\u001b[0;34m=\u001b[0m\u001b[0mself\u001b[0m\u001b[0;34m)\u001b[0m\u001b[0;34m\u001b[0m\u001b[0;34m\u001b[0m\u001b[0m\n\u001b[0m\u001b[1;32m    254\u001b[0m         \u001b[0;32mif\u001b[0m \u001b[0mself\u001b[0m \u001b[0;32mis\u001b[0m \u001b[0;32mnot\u001b[0m \u001b[0mvalidated_self\u001b[0m\u001b[0;34m:\u001b[0m\u001b[0;34m\u001b[0m\u001b[0;34m\u001b[0m\u001b[0m\n\u001b[1;32m    255\u001b[0m             warnings.warn(\n",
            "\u001b[0;31mValidationError\u001b[0m: 1 validation error for Person2\ncity\n  Input should be a valid string [type=string_type, input_value=12, input_type=int]\n    For further information visit https://errors.pydantic.dev/2.11/v/string_type"
          ]
        }
      ],
      "source": [
        "person3 = Person2(name=\"Milad\", age=35, city=12)\n",
        "\n",
        "print(person3)"
      ]
    },
    {
      "cell_type": "markdown",
      "source": [
        "**BINGO!**"
      ],
      "metadata": {
        "id": "6K0VSq2OdhOv"
      }
    },
    {
      "cell_type": "markdown",
      "source": [
        "Yes, you're right! It raises the validation error below:\n",
        "\n",
        "```\n",
        "ValidationError: 1 validation error for Person2\n",
        "```"
      ],
      "metadata": {
        "id": "ocjI8mf7dowB"
      }
    },
    {
      "cell_type": "markdown",
      "source": [
        "When you create a class that inherits from `pydantic.BaseModel`, Pydantic automatically validates any data passed to it against the type annotations you’ve defined.\n",
        "\n",
        "Validation includes:\n",
        "\n",
        "- Type coercion (e.g., converts \"123\" to 123 if int is expected)\n",
        "- Type checking (e.g., raises error if a string is passed where a list is expected)\n",
        "- Required/optional field checking\n",
        "- Custom validation logic"
      ],
      "metadata": {
        "id": "ufNIMTrweYuK"
      }
    },
    {
      "cell_type": "code",
      "source": [],
      "metadata": {
        "id": "SPFV1zGcZGq8"
      },
      "execution_count": null,
      "outputs": []
    }
  ]
}