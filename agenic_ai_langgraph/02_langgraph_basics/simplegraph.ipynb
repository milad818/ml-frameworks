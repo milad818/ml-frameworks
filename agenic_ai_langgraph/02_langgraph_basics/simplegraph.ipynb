{
  "nbformat": 4,
  "nbformat_minor": 0,
  "metadata": {
    "colab": {
      "provenance": []
    },
    "kernelspec": {
      "name": "python3",
      "display_name": "Python 3"
    },
    "language_info": {
      "name": "python"
    }
  },
  "cells": [
    {
      "cell_type": "markdown",
      "source": [
        "## LangGraph\n",
        "### 🧩 What is LangGraph?\n",
        "LangGraph is an extension of LangChain, built to help define and execute stateful, multi-step workflows using graph-based logic. In LangGraph, instead of chaining prompts or tools linearly, you define a graph — a set of nodes and edges — to represent how tasks flow and connect."
      ],
      "metadata": {
        "id": "-la6IzZLqt-9"
      }
    },
    {
      "cell_type": "markdown",
      "source": [
        "### 🔗 What is a Graph in LangGraph?\n",
        "A graph here refers to a directed graph (or DAG — Directed Acyclic Graph) where:\n",
        "- Nodes = individual steps (functions, chains, LLM calls, tools)\n",
        "- Edges = logical transitions between nodes, often based on the result of a step\n",
        "\n",
        "Think of it like a flowchart, where:\n",
        "\n",
        "- Each box is a task or model interaction.\n",
        "\n",
        "- Each arrow shows what step to take next, sometimes based on conditions (e.g., if a model’s response is “yes”, go this way; otherwise, go that way).\n",
        "\n"
      ],
      "metadata": {
        "id": "k5hjoYQLq9Xi"
      }
    },
    {
      "cell_type": "markdown",
      "source": [
        "```\n",
        "User Input\n",
        "    ↓\n",
        "Intent Classification (Node)\n",
        "    ↓\n",
        " ┌───────────────┬─────────────┐\n",
        " │               │             │\n",
        "Billing Query  Tech Support   General Info\n",
        "   ↓              ↓              ↓\n",
        "LLM Call A     LLM Call B     LLM Call C\n",
        "\n",
        "```\n",
        "Each LLM call is a node. Based on the intent, the graph routes to the correct step."
      ],
      "metadata": {
        "id": "igCW7T2ArWIa"
      }
    },
    {
      "cell_type": "markdown",
      "source": [
        "### 🧠 Why Use Graphs?\n",
        "1. Conditional branching: Do different things based on previous results.\n",
        "\n",
        "2. State tracking: Keep context through the graph, useful in multi-turn tasks.\n",
        "\n",
        "3. Reusability & clarity: You can visualize and maintain workflows better.\n",
        "\n",
        "4. Error handling: Add fallback nodes if a step fails."
      ],
      "metadata": {
        "id": "vjd4Hs4mrbqt"
      }
    },
    {
      "cell_type": "code",
      "execution_count": null,
      "metadata": {
        "id": "6usF_CKrnJKr"
      },
      "outputs": [],
      "source": [
        "!pip install -q -U pydantic langchain langgraph langchain-core langchain-community"
      ]
    },
    {
      "cell_type": "markdown",
      "source": [
        "### Key components in LangGraph\n",
        "In LangGraph, the key components help define how your workflow is structured, how data flows, and how decisions are made during execution. Here's a table of the main components and their roles:"
      ],
      "metadata": {
        "id": "xCq_5s1ltp_q"
      }
    },
    {
      "cell_type": "markdown",
      "source": [
        "| **Component**   | **Description**                               | **LangGraph Example**                  |\n",
        "|----------------|-----------------------------------------------|----------------------------------------|\n",
        "| **Node**        | A step or function                            | `LLM call`, `retriever`, `tool`        |\n",
        "| **Edge**        | Connection from one node to another           | `start → classify → respond`           |\n",
        "| **Entry Point** | Where the graph starts                        | `graph.set_entry_point(\"start\")`       |\n",
        "| **Exit Point**  | Where it ends (or returns result)             | Last node or terminal output           |\n",
        "| **Conditional** | Decides path based on logic or state          | `if intent == \"billing\" → billing`     |\n"
      ],
      "metadata": {
        "id": "KYTOx6OSuup4"
      }
    },
    {
      "cell_type": "code",
      "source": [
        "from typing_extensions import TypedDict\n",
        "\n",
        "class State(TypedDict):\n",
        "  graph_info:str"
      ],
      "metadata": {
        "id": "j7M7QJLVr9OJ"
      },
      "execution_count": null,
      "outputs": []
    },
    {
      "cell_type": "markdown",
      "source": [
        "- `State` is a dictionary with a specific structure: it must have a `graph_info` key, and its value must be a string.\n",
        "\n",
        "- `TypedDict` helps with type safety and auto-complete in editors."
      ],
      "metadata": {
        "id": "Pj6DzcpOUT78"
      }
    },
    {
      "cell_type": "markdown",
      "source": [
        "Below are the nodes (start_play, soccer, basketball):\n",
        "\n",
        "Each node...\n",
        "\n",
        "- Receives the current state\n",
        "- Updates the graph_info string a bit\n",
        "- Returns a new state dictionary"
      ],
      "metadata": {
        "id": "f1HF_NYYV8Fv"
      }
    },
    {
      "cell_type": "code",
      "source": [
        "def start_play(state:State):\n",
        "  print(\"Start play node has been called.\")\n",
        "  return {\"graph_info\":state[\"graph_info\"] + \"I am planning to play\"}\n",
        "\n",
        "def soccer(state:State):\n",
        "  print(\"Soccer node has been called.\")\n",
        "  return {\"graph_info\":state[\"graph_info\"] + \" Soccer\"}\n",
        "\n",
        "def basketball(state:State):\n",
        "  print(\"Basketball node has been called.\")\n",
        "  return {\"graph_info\":state[\"graph_info\"] + \" Basketball\"}"
      ],
      "metadata": {
        "id": "rWWQHtE_svOV"
      },
      "execution_count": null,
      "outputs": []
    },
    {
      "cell_type": "code",
      "source": [
        "import random\n",
        "from typing import Literal  # used to decide in which direction to go\n",
        "\n",
        "def random_play(state:State)-> Literal[\"soccer\", \"basketball\"]:\n",
        "  if random.random()>0.5:\n",
        "    return \"soccer\"\n",
        "  else:\n",
        "    return \"basketball\""
      ],
      "metadata": {
        "id": "2dVM4utnwvS-"
      },
      "execution_count": null,
      "outputs": []
    },
    {
      "cell_type": "markdown",
      "source": [
        "- `random_play` Randomly picks \"soccer\" or \"basketball\".\n",
        "\n",
        "- `Literal` tells the type checker that this function will only return exactly \"soccer\" or \"basketball\" — nothing else."
      ],
      "metadata": {
        "id": "CdvMVgzvXh-b"
      }
    },
    {
      "cell_type": "code",
      "source": [
        "from IPython.display import Image, display\n",
        "from langgraph.graph import StateGraph, START, END\n",
        "\n",
        "# build graph\n",
        "graph = StateGraph(State)\n",
        "\n",
        "# all nodes\n",
        "graph.add_node(\"start_play\", start_play)\n",
        "graph.add_node(\"soccer\", soccer)\n",
        "graph.add_node(\"basketball\", basketball)\n",
        "\n",
        "# schedule the flow graph\n",
        "graph.add_edge(START, \"start_play\")\n",
        "graph.add_conditional_edges(\"start_play\", random_play)\n",
        "graph.add_edge(\"soccer\", END)\n",
        "graph.add_edge(\"basketball\", END)\n",
        "\n",
        "# compile graph\n",
        "graph_builder = graph.compile()\n",
        "\n",
        "# view\n",
        "display(Image(graph_builder.get_graph().draw_mermaid_png()))"
      ],
      "metadata": {
        "colab": {
          "base_uri": "https://localhost:8080/",
          "height": 350
        },
        "id": "XhTs6yP50VSu",
        "outputId": "d1188bec-bc82-4b4d-9d1b-1f72cd544cff"
      },
      "execution_count": null,
      "outputs": [
        {
          "output_type": "display_data",
          "data": {
            "image/png": "[encoded data removed]",
            "text/plain": [
              "<IPython.core.display.Image object>"
            ]
          },
          "metadata": {}
        }
      ]
    },
    {
      "cell_type": "markdown",
      "source": [
        "It is time to execute the graph we have been building..."
      ],
      "metadata": {
        "id": "YIrZLWap4t0C"
      }
    },
    {
      "cell_type": "code",
      "source": [
        "graph_builder.invoke({\"graph_info\": \"I am Milad. \"})"
      ],
      "metadata": {
        "colab": {
          "base_uri": "https://localhost:8080/"
        },
        "id": "uoQUTKiz4tU5",
        "outputId": "90727b3a-a47b-423a-c8d0-381623438331"
      },
      "execution_count": null,
      "outputs": [
        {
          "output_type": "stream",
          "name": "stdout",
          "text": [
            "Start play node has been called.\n",
            "Soccer node has been called.\n"
          ]
        },
        {
          "output_type": "execute_result",
          "data": {
            "text/plain": [
              "{'graph_info': 'I am Milad. I am planning to play Soccer'}"
            ]
          },
          "metadata": {},
          "execution_count": 31
        }
      ]
    },
    {
      "cell_type": "code",
      "source": [],
      "metadata": {
        "id": "G3ykEgMv2Oqn"
      },
      "execution_count": null,
      "outputs": []
    }
  ]
}