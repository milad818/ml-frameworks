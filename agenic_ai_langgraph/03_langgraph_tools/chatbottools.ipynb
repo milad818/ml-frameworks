{
  "nbformat": 4,
  "nbformat_minor": 0,
  "metadata": {
    "colab": {
      "provenance": []
    },
    "kernelspec": {
      "name": "python3",
      "display_name": "Python 3"
    },
    "language_info": {
      "name": "python"
    }
  },
  "cells": [
    {
      "cell_type": "markdown",
      "source": [
        "## 🤖 Agentic Chatbot with LangGraph\n",
        "\n",
        "An agentic chatbot leverages KangGraph to build complex, autonomous, and dynamic conversational flows. KangGraph, a framework within LangChain, enables the creation of state machines that manage the chatbot's behavior, allowing it to make decisions, use tools, and respond to user input in a more sophisticated way than traditional chatbots.\n",
        "\n",
        "#### Here's a more detailed explanation:\n",
        "\n",
        "**Traditional Chatbots:** Typically follow pre-defined rules and scripts, offering limited conversational flexibility.\n",
        "\n",
        "**Agentic Chatbots:**\n",
        "Employ AI agents with reasoning and decision-making capabilities. They can adapt their responses, use external tools, and handle complex tasks, says Salesforce.\n",
        "\n",
        "**KangGraph's Role:**\n",
        "KangGraph is the core framework that enables the construction of agentic chatbots. It allows developers to define the chatbot's state transitions, routing logic, and tool usage, says Medium.\n",
        "\n",
        "Example: \\\\\n",
        "Imagine a weather chatbot. A traditional chatbot might simply provide the current weather. An agentic chatbot, using KangGraph, could also:\n",
        "- Ask if the user wants the forecast for tomorrow, says Medium\n",
        "- Check the user's location (with user consent) to provide a more relevant forecast\n",
        "- Alert the user if there's a severe weather warning in their area, says Medium.\n",
        "\n",
        "according to [Medium](https://medium.com/data-science-collective/langgraph-mcp-ollama-the-key-to-powerful-agentic-ai-e1881f43cf63).\n",
        "\n",
        "#### Benefits of Agentic Chatbots:\n",
        "- **Higher Personalization:** Tailor responses based on user profiles and preferences.\n",
        "- **Complex Task Handling:** Manage intricate inquiries and tasks beyond the capabilities of traditional chatbots.\n",
        "- **Autonomous Decision-Making:** Agents can make decisions and take actions without constant human supervision."
      ],
      "metadata": {
        "id": "oPtIe_0YwUo6"
      }
    },
    {
      "cell_type": "markdown",
      "source": [
        "#### What is ReAct and how is it related to LangGraph and Agentic AI?\n",
        "\n",
        "**ReAct (Reasoning and Acting)** is a powerful pattern that combines reasoning traces with actions. ReAct architecture basically refers to a framework that combines reasoning and action to enable AI agents to solve complex tasks and decision-making in agentic workflows. It's a machine learning paradigm that integrates the reasoning and action-taking capabilities of large language models (LLMs). ReAct agents don't separate decision-making from task execution, unlike traditional AI systems.\n",
        "\n",
        "In LangGraph, we can implement this by adding a reasoning step before each action.\n",
        "\n"
      ],
      "metadata": {
        "id": "fosWakGkX6ML"
      }
    },
    {
      "cell_type": "markdown",
      "source": [
        "The agentic chatbot implemented in this specific project is designed to autonomously process user queries by dynamically deciding the best (or even all) sources of information, utilizing a LangGraph-based flow. It leverages specialized runners and API wrappers to search and retrieve data from Wikipedia for general knowledge and from Arxiv for academic research. Based on the nature of the query, the chatbot intelligently orchestrates these resources in parallel, aggregates the retrieved information, and synthesizes a clear, coherent final response. Its modular design ensures flexible, efficient information gathering and enables the chatbot to handle both casual and technical inquiries with depth and precision."
      ],
      "metadata": {
        "id": "yTgUAwEm7P-R"
      }
    },
    {
      "cell_type": "code",
      "execution_count": 1,
      "metadata": {
        "colab": {
          "base_uri": "https://localhost:8080/"
        },
        "id": "ewqJ2uPqtijM",
        "outputId": "5a64ed6e-a57e-4c49-878e-75114fa99f1c"
      },
      "outputs": [
        {
          "output_type": "stream",
          "name": "stdout",
          "text": [
            "\u001b[2K     \u001b[90m━━━━━━━━━━━━━━━━━━━━━━━━━━━━━━━━━━━━━━━━\u001b[0m \u001b[32m43.5/43.5 kB\u001b[0m \u001b[31m2.4 MB/s\u001b[0m eta \u001b[36m0:00:00\u001b[0m\n",
            "\u001b[2K   \u001b[90m━━━━━━━━━━━━━━━━━━━━━━━━━━━━━━━━━━━━━━━━\u001b[0m \u001b[32m148.9/148.9 kB\u001b[0m \u001b[31m5.4 MB/s\u001b[0m eta \u001b[36m0:00:00\u001b[0m\n",
            "\u001b[2K   \u001b[90m━━━━━━━━━━━━━━━━━━━━━━━━━━━━━━━━━━━━━━━━\u001b[0m \u001b[32m2.5/2.5 MB\u001b[0m \u001b[31m29.1 MB/s\u001b[0m eta \u001b[36m0:00:00\u001b[0m\n",
            "\u001b[2K   \u001b[90m━━━━━━━━━━━━━━━━━━━━━━━━━━━━━━━━━━━━━━━━\u001b[0m \u001b[32m42.3/42.3 kB\u001b[0m \u001b[31m2.5 MB/s\u001b[0m eta \u001b[36m0:00:00\u001b[0m\n",
            "\u001b[2K   \u001b[90m━━━━━━━━━━━━━━━━━━━━━━━━━━━━━━━━━━━━━━━━\u001b[0m \u001b[32m47.3/47.3 kB\u001b[0m \u001b[31m3.5 MB/s\u001b[0m eta \u001b[36m0:00:00\u001b[0m\n",
            "\u001b[2K   \u001b[90m━━━━━━━━━━━━━━━━━━━━━━━━━━━━━━━━━━━━━━━━\u001b[0m \u001b[32m44.4/44.4 kB\u001b[0m \u001b[31m3.0 MB/s\u001b[0m eta \u001b[36m0:00:00\u001b[0m\n",
            "\u001b[2K   \u001b[90m━━━━━━━━━━━━━━━━━━━━━━━━━━━━━━━━━━━━━━━━\u001b[0m \u001b[32m194.8/194.8 kB\u001b[0m \u001b[31m11.1 MB/s\u001b[0m eta \u001b[36m0:00:00\u001b[0m\n",
            "\u001b[2K   \u001b[90m━━━━━━━━━━━━━━━━━━━━━━━━━━━━━━━━━━━━━━━━\u001b[0m \u001b[32m50.9/50.9 kB\u001b[0m \u001b[31m3.4 MB/s\u001b[0m eta \u001b[36m0:00:00\u001b[0m\n",
            "\u001b[2K   \u001b[90m━━━━━━━━━━━━━━━━━━━━━━━━━━━━━━━━━━━━━━━━\u001b[0m \u001b[32m223.6/223.6 kB\u001b[0m \u001b[31m13.3 MB/s\u001b[0m eta \u001b[36m0:00:00\u001b[0m\n",
            "\u001b[2K   \u001b[90m━━━━━━━━━━━━━━━━━━━━━━━━━━━━━━━━━━━━━━━━\u001b[0m \u001b[32m127.4/127.4 kB\u001b[0m \u001b[31m3.3 MB/s\u001b[0m eta \u001b[36m0:00:00\u001b[0m\n",
            "\u001b[?25h  Preparing metadata (setup.py) ... \u001b[?25l\u001b[?25hdone\n",
            "\u001b[2K   \u001b[90m━━━━━━━━━━━━━━━━━━━━━━━━━━━━━━━━━━━━━━━━\u001b[0m \u001b[32m81.3/81.3 kB\u001b[0m \u001b[31m2.8 MB/s\u001b[0m eta \u001b[36m0:00:00\u001b[0m\n",
            "\u001b[?25h  Building wheel for sgmllib3k (setup.py) ... \u001b[?25l\u001b[?25hdone\n",
            "  Preparing metadata (setup.py) ... \u001b[?25l\u001b[?25hdone\n",
            "  Building wheel for wikipedia (setup.py) ... \u001b[?25l\u001b[?25hdone\n"
          ]
        }
      ],
      "source": [
        "# Install the necessary libraries and frameworks\n",
        "!pip install -q -U pydantic langchain langgraph langchain-core langchain-community\n",
        "!pip install -q -U python-dotenv langchain-groq\n",
        "!pip install -q -U arxiv\n",
        "!pip install -q -U wikipedia"
      ]
    },
    {
      "cell_type": "markdown",
      "source": [
        "What do you think enables us to utilize resources like Wikipedia and Arxiv to gather all the information we need? \\\\\n",
        "You're right! \\\\\n",
        "Simply through the two pairs of tools listed below to deal with Wikipedia and Arxiv content:\n",
        "1. `WikipediaAPIWrapper`, `WikipediaQueryRun`\n",
        "2. `ArxivAPIWrapper`, `ArxivQueryRun`"
      ],
      "metadata": {
        "id": "5nGSzGV48L-t"
      }
    },
    {
      "cell_type": "markdown",
      "source": [
        "**ArxivAPIWrapper** and **WikipediaAPIWrapper**:\n",
        "\n",
        "These are lower-level helpers or tools which wrap the raw API (Arxiv API, Wikipedia API) and provide easy Python methods to interact with them (like `.run()`, `.search()`). *They don't decide when/how to query — they just provide functions for querying.* Think of them as \"tools\" that the `QueryRun` classes use underneath."
      ],
      "metadata": {
        "id": "7R7cUHBMPmbP"
      }
    },
    {
      "cell_type": "markdown",
      "source": [
        "**ArxivQueryRun** and **WikipediaQueryRun**:\n",
        "\n",
        "These are Runnable classes or functions in LangChain (or similar frameworks) designed to execute a search/query operation directly. They take a query (like a research topic or a question) and return search results (papers from Arxiv, articles from Wikipedia). Think of them as the \"doers\" — you give them a task, and they go fetch the data."
      ],
      "metadata": {
        "id": "F_X_iuM69Ip3"
      }
    },
    {
      "cell_type": "markdown",
      "source": [
        "#### In short:\n",
        "\n",
        "|                | **QueryRun** (Runner)             | **APIWrapper** (Helper)             |\n",
        "|----------------|------------------------------------|-------------------------------------|\n",
        "| Purpose        | Run full queries easily            | Provide methods to query APIs       |\n",
        "| Usage          | High-level, one-step search        | Lower-level, more flexible          |\n",
        "| Think of as    | \"Do it for me\"                     | \"Give me tools, I'll do it\"          |\n",
        "| Example        | `.invoke(\"machine learning\")`      | `.run(\"machine learning\")`           |\n"
      ],
      "metadata": {
        "id": "_O3B-BJuQsKI"
      }
    },
    {
      "cell_type": "markdown",
      "source": [
        "#### ⚡ A Real-world Analogy:\n",
        "\n",
        "APIWrapper = You own a car (manual control — steering wheel, brakes).\n",
        "\n",
        "QueryRun = You hire a driver (just say \"take me to the library,\" and he drives)."
      ],
      "metadata": {
        "id": "57_1SSfLRdK5"
      }
    },
    {
      "cell_type": "code",
      "source": [
        "from langchain_community.tools import ArxivQueryRun, WikipediaQueryRun\n",
        "from langchain_community.utilities import ArxivAPIWrapper, WikipediaAPIWrapper"
      ],
      "metadata": {
        "id": "SNvQbag_yjkv"
      },
      "execution_count": 2,
      "outputs": []
    },
    {
      "cell_type": "code",
      "source": [
        "arxiv_api_wrapper = ArxivAPIWrapper(top_k_results=2, doc_content_chars_max=500)\n",
        "arxiv = ArxivQueryRun(api_wrapper=arxiv_api_wrapper, description=\"Used to query Arxiv for recent papers.\")"
      ],
      "metadata": {
        "id": "-6aIdCEH4vsV"
      },
      "execution_count": 3,
      "outputs": []
    },
    {
      "cell_type": "code",
      "source": [
        "print(arxiv.name)"
      ],
      "metadata": {
        "colab": {
          "base_uri": "https://localhost:8080/"
        },
        "id": "VG_2iHqQRl9h",
        "outputId": "48deabce-13af-43f8-e621-27b7e86ece89"
      },
      "execution_count": 4,
      "outputs": [
        {
          "output_type": "stream",
          "name": "stdout",
          "text": [
            "arxiv\n"
          ]
        }
      ]
    },
    {
      "cell_type": "code",
      "source": [
        "# Make query to retrieve papers on a specific topic\n",
        "arxiv.invoke(\"Logic Tensor Network\")"
      ],
      "metadata": {
        "colab": {
          "base_uri": "https://localhost:8080/",
          "height": 72
        },
        "id": "7QBrLF0vSb1x",
        "outputId": "64628480-d7d5-4be5-9fe0-cb2ea51fa375"
      },
      "execution_count": 5,
      "outputs": [
        {
          "output_type": "execute_result",
          "data": {
            "text/plain": [
              "\"Published: 2016-07-07\\nTitle: Logic Tensor Networks: Deep Learning and Logical Reasoning from Data and Knowledge\\nAuthors: Luciano Serafini, Artur d'Avila Garcez\\nSummary: We propose Logic Tensor Networks: a uniform framework for integrating\\nautomatic learning and reasoning. A logic formalism called Real Logic is\\ndefined on a first-order language whereby formulas have truth-value in the\\ninterval [0,1] and semantics defined concretely on the domain of real numbers.\\nLogical constants are interpreted \""
            ],
            "application/vnd.google.colaboratory.intrinsic+json": {
              "type": "string"
            }
          },
          "metadata": {},
          "execution_count": 5
        }
      ]
    },
    {
      "cell_type": "code",
      "source": [
        "wikipedia_api_wrapper = WikipediaAPIWrapper(top_k_results=1, doc_content_chars_max=500)\n",
        "wikipedia = WikipediaQueryRun(api_wrapper=wikipedia_api_wrapper, description=\"Used to query Wikipedia for recent articles.\")\n",
        "wikipedia.name"
      ],
      "metadata": {
        "colab": {
          "base_uri": "https://localhost:8080/",
          "height": 36
        },
        "id": "N5PR5ZnqSpPn",
        "outputId": "c9cd6760-a7f8-444a-f51d-53380ec7ff69"
      },
      "execution_count": 6,
      "outputs": [
        {
          "output_type": "execute_result",
          "data": {
            "text/plain": [
              "'wikipedia'"
            ],
            "application/vnd.google.colaboratory.intrinsic+json": {
              "type": "string"
            }
          },
          "metadata": {},
          "execution_count": 6
        }
      ]
    },
    {
      "cell_type": "code",
      "source": [
        "# Make query to retrieve articles on a specific topic\n",
        "# Note that the number of content characters is already set andlimited to 500\n",
        "wikipedia.invoke(\"LangGraph\")"
      ],
      "metadata": {
        "colab": {
          "base_uri": "https://localhost:8080/",
          "height": 54
        },
        "id": "Zn0DuHQNVX3h",
        "outputId": "0b5c9572-7afc-4e31-8473-853873c38af3"
      },
      "execution_count": 7,
      "outputs": [
        {
          "output_type": "execute_result",
          "data": {
            "text/plain": [
              "\"Page: LangChain\\nSummary: LangChain is a software framework that helps facilitate the integration of large language models (LLMs) into applications. As a language model integration framework, LangChain's use-cases largely overlap with those of language models in general, including document analysis and summarization, chatbots, and code analysis.\\n\\n\""
            ],
            "application/vnd.google.colaboratory.intrinsic+json": {
              "type": "string"
            }
          },
          "metadata": {},
          "execution_count": 7
        }
      ]
    },
    {
      "cell_type": "markdown",
      "source": [
        "Very well!  \\\\\n",
        "Having prepared the tools above regarding particular resources (Wikipedia & Arxiv in our case) through which one can perform real-time information extraction, we can also consider a search engine API designed specifically for AI agents and Large Language Models (LLMs), for instance, **Tavily** to search the live web for broad, up-to-date information."
      ],
      "metadata": {
        "id": "eNe0Vn5K-0W8"
      }
    },
    {
      "cell_type": "markdown",
      "source": [
        "Tavily is a search engine API designed specifically for AI agents and Large Language Models (LLMs). It provides real-time, accurate, and relevant information from the web, tailored for AI applications like those using Retrieval-Augmented Generation (RAG). Unlike traditional search APIs, *Tavily focuses on delivering information in a format optimized for AI processing, including dynamically searching the web, reviewing multiple sources, and extracting relevant content.*"
      ],
      "metadata": {
        "id": "HI34t0V_AGnz"
      }
    },
    {
      "cell_type": "markdown",
      "source": [
        "| Feature              | Tavily API                       | Wikipedia API                | Arxiv API                        |\n",
        "|----------------------|----------------------------------|-------------------------------|----------------------------------|\n",
        "| Source               | Full Web                         | Wikipedia only                | Arxiv (academic papers)          |\n",
        "| Type of Content      | Webpages, news, blogs, etc.      | Encyclopedic content          | Research articles, preprints     |\n",
        "| Freshness            | Very fresh (real-time web)       | Updated periodically          | Updated regularly with new papers |\n",
        "| Breadth              | Very broad (all web topics)      | Broad but limited to Wikipedia| Narrow (academia, research only) |\n",
        "| Best Use             | General queries, trends, facts   | General knowledge, summaries  | Scientific, technical subjects   |\n",
        "| Integration Ease     | Simple (one endpoint)            | Medium complexity             | Medium (requires search setup)   |\n"
      ],
      "metadata": {
        "id": "VqEZwjexZgE1"
      }
    },
    {
      "cell_type": "code",
      "source": [
        "# Get api keys for both Groq and Tavily\n",
        "\n",
        "from google.colab import userdata\n",
        "import os\n",
        "\n",
        "os.environ[\"TAVILY_API_KEY\"] = userdata.get(\"tavily-api-key\")\n",
        "os.environ[\"GROQ_API_KEY\"] = userdata.get(\"groq-api-key\")"
      ],
      "metadata": {
        "id": "0F_156u5V1BY"
      },
      "execution_count": 8,
      "outputs": []
    },
    {
      "cell_type": "code",
      "source": [
        "# Set up Tavily search tool\n",
        "\n",
        "from langchain_community.tools.tavily_search import TavilySearchResults\n",
        "\n",
        "tavily = TavilySearchResults()"
      ],
      "metadata": {
        "id": "FNzPn3YNGGqz"
      },
      "execution_count": 9,
      "outputs": []
    },
    {
      "cell_type": "code",
      "source": [
        "tavily.invoke(\"Provide news on the most modern techs.\")"
      ],
      "metadata": {
        "colab": {
          "base_uri": "https://localhost:8080/"
        },
        "id": "G2XYWP59IEbT",
        "outputId": "ce03a3c9-fa8b-4bfe-f310-83f775d73553"
      },
      "execution_count": 10,
      "outputs": [
        {
          "output_type": "execute_result",
          "data": {
            "text/plain": [
              "[{'title': 'Tech | The Verge',\n",
              "  'url': 'https://www.theverge.com/tech',\n",
              "  'content': 'Tech\\n\\nThe latest tech news about the world’s best (and sometimes worst) hardware, apps, and much more. From top companies like Google and Apple to tiny startups vying for your attention, Verge Tech has the latest in what matters in technology daily.\\n\\nThe company is going to be ‘AI-first,’ says its CEO.\\n\\nThe Open AI CEO says that GPT-4o’s sycophantic tendencies will be dialed back.\\n\\nLatest In Tech [...] The AI development platform Hugging Face has partnered with The Robot Studio to release the documentation for the SO-101 robotic arm that will cost anywhere from $100 to $500 to build, as spotted earlier by TechCrunch. The arm has six motors and works with one or more cameras, letting you train it to carry out certain tasks — like putting a Lego brick in a bin. [...] Yelp’s AI assistant will now be able to match you up with a local service professional with help from AI-powered photo recognition. Seems like it could be a useful to get assistance with something like a broken appliance.\\n\\nDays after The Wall Street Journal reported Meta AI was getting explicit with underage users, TechCrunch has found ChatGPT has the same problem. The site used a string of accounts aged 13 to 17 to ask the chatbot to “talk dirty to me,” and the AI only said no once.',\n",
              "  'score': 0.41279107},\n",
              " {'title': 'GeekWire – Breaking News in Technology & Business',\n",
              "  'url': 'https://www.geekwire.com/',\n",
              "  'content': 'GeekWire is a fast-growing, national technology news site with strong roots in the Seattle region and a large audience of loyal, tech-savvy readers around',\n",
              "  'score': 0.3727797},\n",
              " {'title': 'TechNewsWorld - Technology News and Information',\n",
              "  'url': 'https://www.technewsworld.com/',\n",
              "  'content': 'Tech news, reviews and analysis of computing, enterprise IT, cybersecurity, mobile technology, cloud computing, tech industry trends, how-tos,',\n",
              "  'score': 0.3239578},\n",
              " {'title': \"Tech News | Today's Latest Technology News | Reuters\",\n",
              "  'url': 'https://www.reuters.com/technology/',\n",
              "  'content': 'Find latest technology news from every corner of the globe at Reuters.com, your online source for breaking international news coverage.',\n",
              "  'score': 0.3119197},\n",
              " {'title': 'Technology: Latest Tech News Articles Today | AP News',\n",
              "  'url': 'https://apnews.com/technology',\n",
              "  'content': \"Don't miss an update on the latest tech news from The Associated Press. AP News has everything you need to know for technology news today.\",\n",
              "  'score': 0.30628887}]"
            ]
          },
          "metadata": {},
          "execution_count": 10
        }
      ]
    },
    {
      "cell_type": "markdown",
      "source": [
        "Putting all tools together, you can exploit an LLM model via Grok Cloud to integrate with..."
      ],
      "metadata": {
        "id": "aqm3degUK6hS"
      }
    },
    {
      "cell_type": "code",
      "source": [
        "# embrace all the tools in a list\n",
        "tools = [arxiv, wikipedia, tavily]"
      ],
      "metadata": {
        "id": "0dP57KjfIXXy"
      },
      "execution_count": 11,
      "outputs": []
    },
    {
      "cell_type": "code",
      "source": [
        "# initialize the LLM model\n",
        "from langchain_groq import ChatGroq\n",
        "\n",
        "llm=ChatGroq(model=\"qwen-qwq-32b\")"
      ],
      "metadata": {
        "id": "aRziXvjHKuuK"
      },
      "execution_count": 12,
      "outputs": []
    },
    {
      "cell_type": "code",
      "source": [
        "llm.invoke(\"What is Deep Learning?\")"
      ],
      "metadata": {
        "colab": {
          "base_uri": "https://localhost:8080/"
        },
        "id": "NE5bf5HmMGbS",
        "outputId": "e6cc9611-30c9-4dee-edce-f611bd03f6ab"
      },
      "execution_count": 13,
      "outputs": [
        {
          "output_type": "execute_result",
          "data": {
            "text/plain": [
              "AIMessage(content='\\n<think>\\nOkay, so I need to explain what deep learning is. Let me start by recalling what I know. I remember that deep learning is part of machine learning, right? It\\'s like a subset. But how exactly does it differ from regular machine learning?\\n\\nHmm, maybe it\\'s about neural networks. I think deep learning uses neural networks with many layers, hence the term \"deep.\" Oh right, those are called deep neural networks (DNNs). But why are multiple layers important? I think each layer learns different features. Like, in image recognition, the first layers might detect edges, then more complex shapes, and so on until the network can recognize objects.\\n\\nWait, so traditional machine learning algorithms might require humans to manually select features, but deep learning automates that feature extraction through these layers. That\\'s a key difference. But how does that work exactly? The neural networks use activation functions, and they adjust weights through training with a lot of data. Oh, backpropagation and gradient descent are involved in training them. But I need to make sure I get that right.\\n\\nAlso, deep learning requires a lot of data and computational power. That\\'s why it\\'s become more popular now that we have big datasets and GPUs. Applications like image and speech recognition, NLP, self-driving cars come to mind. Maybe I should mention those as examples.\\n\\nWait, what\\'s the structure of a neural network again? Input layer, hidden layers, output layer. Each node in a layer is connected to the next, and they pass data through activation functions. The depth comes from having many hidden layers. So, the \"deep\" refers to the number of layers. Got it.\\n\\nI should also mention some common architectures like CNNs (Convolutional Neural Networks) for images, RNNs (Recurrent Neural Networks) for sequences, and transformers, which are used in things like GPT. These specialized networks are part of deep learning.\\n\\nAnother point is that deep learning models can capture complex patterns because of their architecture. They can handle non-linear relationships and abstract concepts. But they are also more prone to overfitting if not regularized properly. Techniques like dropout or batch normalization help with that.\\n\\nLet me check if I\\'m missing anything. Maybe the difference between machine learning and deep learning again. Machine learning models might have fewer layers or simpler architectures, like decision trees, SVMs, etc., which require feature engineering. Deep learning automates that with more layers, allowing the model to learn hierarchical features on its own.\\n\\nAlso, maybe mention some challenges: the need for large datasets, computational resources, interpretability issues (black box problem), and ethical considerations. But maybe those are beyond the basics.\\n\\nExamples of applications: image recognition (like in medical imaging or facial recognition), voice assistants (Siri, Alexa), natural language processing (machine translation, sentiment analysis), and reinforcement learning in games like AlphaGo.\\n\\nWait, should I explain how training works briefly? Like, during training, the network adjusts weights to minimize loss using backpropagation and optimization algorithms. That\\'s part of the process but maybe a bit detailed for a basic explanation.\\n\\nSo, putting it all together: deep learning is a subset of ML using DNNs with multiple layers to automatically learn features from data, enabling complex tasks like image and speech recognition. Emphasize the layers, automated feature learning, and applications. Make sure to compare it to traditional ML where features are hand-engineered.\\n\\nI should also note that it\\'s part of AI, right? So, the hierarchy is AI > machine learning > deep learning. That might be helpful.\\n\\nHmm, is there anything else? Maybe some historical context? Like, neural networks have been around since the 80s but only became effective with more data and better algorithms. Maybe mention the resurgence around 2012 with AlexNet winning ImageNet.\\n\\nOkay, I think I have a good structure. Let me organize it step by step, starting from the definition, then explaining neural networks, layers, feature learning, comparison with traditional ML, requirements (data, computation), common architectures, applications, and maybe mention some challenges or considerations.\\n\\nWait, the user asked for a clear explanation, so I should keep it concise but comprehensive. Avoid jargon where possible, but terms like neural networks and layers are necessary. Make sure it\\'s understandable even if someone isn\\'t too technical.\\n\\nAlright, putting it all together now in a coherent way.\\n</think>\\n\\n**Deep Learning Explained**\\n\\n**Definition:**  \\nDeep learning (DL) is a subset of **machine learning (ML)** that focuses on artificial neural networks with multiple layers, known as **deep neural networks (DNNs)**. These networks automatically extract hierarchical features from raw data, enabling them to perform complex tasks like image recognition, speech processing, and natural language understanding.\\n\\n---\\n\\n### Key Concepts & Components\\n\\n1. **Neural Networks & Layers**  \\n   - **Structure**: A neural network consists of an **input layer**, **hidden layers**, and an **output layer**. Each layer contains interconnected nodes (neurons).  \\n   - **Depth**: \"Deep\" refers to having many **hidden layers** (e.g., 10–100+), allowing the model to learn increasingly abstract representations of the data.  \\n\\n2. **Automated Feature Learning**  \\n   - Unlike traditional ML (e.g., decision trees, SVMs), which often require **manual feature engineering**, deep learning automatically identifies relevant features.  \\n   - Example: In image recognition, early layers might detect edges, middle layers form shapes, and deeper layers recognize objects.  \\n\\n3. **Training Mechanism**  \\n   - Uses **backpropagation** and optimization algorithms like **gradient descent** to adjust weights and minimize prediction errors (loss function).  \\n   - Requires large labeled datasets to avoid overfitting.  \\n\\n---\\n\\n### How It Differs from Traditional Machine Learning\\n\\n| **Aspect**              | **Traditional ML**                  | **Deep Learning**                  |\\n|-------------------------|------------------------------------|-----------------------------------|\\n| **Features**            | Hand-engineered by humans          | Automatically learned from data  |\\n| **Model Complexity**    | Simpler architectures (e.g., linear models) | Deep, multi-layered networks       |\\n| **Data Requirements**   | Performs well with smaller datasets | Requires large datasets for accuracy |\\n| **Computation**         | Lower computational needs           | Relies on high-performance GPUs/TPUs |\\n\\n---\\n\\n### Core Architectures\\n\\n1. **Convolutional Neural Networks (CNNs)**  \\n   - **Use Case**: Image and video analysis.  \\n   - **Key Feature**: Convolutional layers detect spatial hierarchies (e.g., edges → objects → scenes).  \\n\\n2. **Recurrent Neural Networks (RNNs)**  \\n   - **Use Case**: Sequential data (e.g., time series, text, speech).  \\n   - **Key Feature**: Processes data with temporal dependencies (e.g., LSTM units for memory).  \\n\\n3. **Transformers**  \\n   - **Use Case**: Natural language processing (NLP), attention mechanisms.  \\n   - **Example**: Used in models like BERT and GPT for language understanding and generation.  \\n\\n---\\n\\n### Applications\\n\\n- **Computer Vision**: Object detection, medical imaging, autonomous vehicles.  \\n- **Natural Language Processing**: Chatbots, machine translation, sentiment analysis.  \\n- **Speech Recognition**: Voice assistants (Siri, Alexa), transcription systems.  \\n- **Reinforcement Learning**: Game AI (e.g., AlphaGo), robotics, and decision-making tasks.  \\n\\n---\\n\\n### Requirements & Challenges\\n\\n- **Data**: Requires vast labeled datasets for effective training.  \\n- **Computational Power**: Relies on GPUs/TPUs to handle complex calculations efficiently.  \\n- **Interpretability**: Often seen as a \"black box\" due to its complexity, making results harder to interpret.  \\n- **Ethical Considerations**: Bias in datasets can lead to unfair outcomes (e.g., facial recognition systems).  \\n\\n---\\n\\n### Historical Context & Impact\\n\\n- **Resurgence**: Gained prominence in the 2010s due to:  \\n  - More accessible computational power (GPUs).  \\n  - Availability of large datasets (e.g., ImageNet).  \\n  - Algorithmic advancements (e.g., ReLU activation, dropout regularization.  \\n- **Breakthrough Example**: AlexNet (2012) won the ImageNet competition by leveraging deep CNNs.  \\n\\n---\\n\\n### Summary  \\nDeep learning automates feature extraction using multi-layered neural networks, excelling in tasks requiring pattern recognition from raw data. Its success hinges on large datasets, computational power, and specialized architectures (CNNs, RNNs, transformers). While powerful, it comes with challenges like data dependency and interpretability issues.  \\n\\nThis technology drives cutting-edge advancements in AI, from self-driving cars to healthcare diagnostics.', additional_kwargs={}, response_metadata={'token_usage': {'completion_tokens': 1811, 'prompt_tokens': 15, 'total_tokens': 1826, 'completion_time': 4.525829245, 'prompt_time': 0.007450757, 'queue_time': 1.829795123, 'total_time': 4.533280002}, 'model_name': 'qwen-qwq-32b', 'system_fingerprint': 'fp_3796682456', 'finish_reason': 'stop', 'logprobs': None}, id='run-275d7cc5-1bb1-4f57-9dba-ac3c36b3144e-0', usage_metadata={'input_tokens': 15, 'output_tokens': 1811, 'total_tokens': 1826})"
            ]
          },
          "metadata": {},
          "execution_count": 13
        }
      ]
    },
    {
      "cell_type": "code",
      "source": [
        "# bind llm with tools\n",
        "llm_with_tools = llm.bind_tools(tools=tools)"
      ],
      "metadata": {
        "id": "S02a-NlTMaDx"
      },
      "execution_count": 14,
      "outputs": []
    },
    {
      "cell_type": "code",
      "source": [
        "results = llm_with_tools.invoke(\"What is new on AI?\")"
      ],
      "metadata": {
        "id": "J9os_Z-jN6Gr"
      },
      "execution_count": 17,
      "outputs": []
    },
    {
      "cell_type": "code",
      "source": [
        "results"
      ],
      "metadata": {
        "colab": {
          "base_uri": "https://localhost:8080/"
        },
        "id": "efmv3wofOAox",
        "outputId": "df956eae-e8bc-4c34-ee4b-4f29d3b5807e"
      },
      "execution_count": 18,
      "outputs": [
        {
          "output_type": "execute_result",
          "data": {
            "text/plain": [
              "AIMessage(content='', additional_kwargs={'tool_calls': [{'id': 'call_wg4k', 'function': {'arguments': '{\"query\": \"AI recent developments 2024\"}', 'name': 'tavily_search_results_json'}, 'type': 'function'}]}, response_metadata={'token_usage': {'completion_tokens': 413, 'prompt_tokens': 329, 'total_tokens': 742, 'completion_time': 1.037363804, 'prompt_time': 0.055767154, 'queue_time': 1.270294149, 'total_time': 1.093130958}, 'model_name': 'qwen-qwq-32b', 'system_fingerprint': 'fp_fbb7e6cc39', 'finish_reason': 'tool_calls', 'logprobs': None}, id='run-771a51ed-64be-4377-9eb4-e4f89819f2c2-0', tool_calls=[{'name': 'tavily_search_results_json', 'args': {'query': 'AI recent developments 2024'}, 'id': 'call_wg4k', 'type': 'tool_call'}], usage_metadata={'input_tokens': 329, 'output_tokens': 413, 'total_tokens': 742})"
            ]
          },
          "metadata": {},
          "execution_count": 18
        }
      ]
    },
    {
      "cell_type": "markdown",
      "source": [
        "As you can see above, even though the llm has not provided any response and `content=''` the model has been able to understand the concept and tried to call the corresponding tool which in this case is Tavily. Let's try a different query and see whether a different tool will be called or not..."
      ],
      "metadata": {
        "id": "TZu8uGK8RuwY"
      }
    },
    {
      "cell_type": "code",
      "source": [
        "results2 = llm_with_tools.invoke(\"What is Artificial Intelligence?\")"
      ],
      "metadata": {
        "id": "yE6rqIBIOf5K"
      },
      "execution_count": 19,
      "outputs": []
    },
    {
      "cell_type": "code",
      "source": [
        "results2"
      ],
      "metadata": {
        "id": "QBheKJNaOhlx",
        "colab": {
          "base_uri": "https://localhost:8080/"
        },
        "outputId": "39b75f1d-7f25-4fb5-a2bf-3d0777f25de8"
      },
      "execution_count": 20,
      "outputs": [
        {
          "output_type": "execute_result",
          "data": {
            "text/plain": [
              "AIMessage(content='', additional_kwargs={'tool_calls': [{'id': 'call_9kna', 'function': {'arguments': '{\"query\": \"Artificial Intelligence\"}', 'name': 'wikipedia'}, 'type': 'function'}]}, response_metadata={'token_usage': {'completion_tokens': 240, 'prompt_tokens': 328, 'total_tokens': 568, 'completion_time': 0.601420867, 'prompt_time': 0.049490977, 'queue_time': 0.368184083, 'total_time': 0.650911844}, 'model_name': 'qwen-qwq-32b', 'system_fingerprint': 'fp_512a3da6bb', 'finish_reason': 'tool_calls', 'logprobs': None}, id='run-a910e08d-9fc8-44c2-aece-a589ccb704d3-0', tool_calls=[{'name': 'wikipedia', 'args': {'query': 'Artificial Intelligence'}, 'id': 'call_9kna', 'type': 'tool_call'}], usage_metadata={'input_tokens': 328, 'output_tokens': 240, 'total_tokens': 568})"
            ]
          },
          "metadata": {},
          "execution_count": 20
        }
      ]
    },
    {
      "cell_type": "markdown",
      "source": [
        "Wo0W! The tool has changed and the llm has decided to use Wikipedia to answer the question. So it is now clear that the llm is able to realize which tool is more useful based on the input."
      ],
      "metadata": {
        "id": "L2NaXMFjS54P"
      }
    },
    {
      "cell_type": "markdown",
      "source": [
        "We are almost ready to implement an entire graph or let's call it an agentic chatbot following a particular workflow as below:"
      ],
      "metadata": {
        "id": "c8Y77FDnUeFF"
      }
    },
    {
      "cell_type": "code",
      "source": [
        "from typing_extensions import TypedDict\n",
        "from langchain_core.messages import AnyMessage, HumanMessage, SystemMessage\n",
        "from typing import Annotated\n",
        "from langgraph.graph.message import add_messages"
      ],
      "metadata": {
        "id": "ufFi5K6fSzsg"
      },
      "execution_count": 66,
      "outputs": []
    },
    {
      "cell_type": "code",
      "source": [
        "# Create State object\n",
        "class State(TypedDict):\n",
        "  messages: Annotated[list[AnyMessage], add_messages]"
      ],
      "metadata": {
        "id": "eETBQxteYFhg"
      },
      "execution_count": 47,
      "outputs": []
    },
    {
      "cell_type": "code",
      "source": [
        "# Implement chatbot\n",
        "\n",
        "from IPython.display import Image, display\n",
        "from langgraph.graph import StateGraph, START, END\n",
        "from langgraph.prebuilt import ToolNode\n",
        "from langgraph.prebuilt import tools_condition"
      ],
      "metadata": {
        "id": "f_WJKQ_0bVMJ"
      },
      "execution_count": 48,
      "outputs": []
    },
    {
      "cell_type": "code",
      "source": [
        "# Define the node Assistant for instance\n",
        "def tool_llm_call(state:State):\n",
        "  return {\"messages\": [llm_with_tools.invoke(state[\"messages\"])]}"
      ],
      "metadata": {
        "id": "rFQvMoXLcAuo"
      },
      "execution_count": 49,
      "outputs": []
    },
    {
      "cell_type": "code",
      "source": [
        "# Build graph\n",
        "builder = StateGraph(State)\n",
        "\n",
        "# Add nodes\n",
        "builder.add_node(\"tool_llm_call\", tool_llm_call)\n",
        "builder.add_node(\"tools\", ToolNode(tools))\n",
        "\n",
        "# Add edges\n",
        "builder.add_edge(START, \"tool_llm_call\")\n",
        "builder.add_conditional_edges(\"tool_llm_call\",\n",
        "                              tools_condition)\n",
        "builder.add_edge(\"tools\", END)"
      ],
      "metadata": {
        "colab": {
          "base_uri": "https://localhost:8080/"
        },
        "id": "V3bE9WNad_2o",
        "outputId": "d674d2b1-af62-4a93-b601-077a9c212a2c"
      },
      "execution_count": 64,
      "outputs": [
        {
          "output_type": "execute_result",
          "data": {
            "text/plain": [
              "<langgraph.graph.state.StateGraph at 0x78e9409d9150>"
            ]
          },
          "metadata": {},
          "execution_count": 64
        }
      ]
    },
    {
      "cell_type": "code",
      "source": [
        "# Compile the graph\n",
        "graph = builder.compile()"
      ],
      "metadata": {
        "id": "taU34SPHfChn"
      },
      "execution_count": 62,
      "outputs": []
    },
    {
      "cell_type": "code",
      "source": [
        "# View the graph\n",
        "display(Image(graph.get_graph().draw_mermaid_png()))"
      ],
      "metadata": {
        "colab": {
          "base_uri": "https://localhost:8080/",
          "height": 350
        },
        "id": "R3BqvxqzfL3Q",
        "outputId": "bcb93ff4-ea38-45dd-9c38-d858ad88bf73"
      },
      "execution_count": 63,
      "outputs": [
        {
          "output_type": "display_data",
          "data": {
            "image/png": "[encoded data removed]",
            "text/plain": [
              "<IPython.core.display.Image object>"
            ]
          },
          "metadata": {}
        }
      ]
    },
    {
      "cell_type": "markdown",
      "source": [
        "Workflow is build up and we can try it through a very simple but clear message. The number passed as content in `HumanMessage()` refersto a research paper discussing Logic Tensor Networks."
      ],
      "metadata": {
        "id": "P07stFfrpU8C"
      }
    },
    {
      "cell_type": "code",
      "source": [
        "messages=graph.invoke({\"messages\": HumanMessage(content=\"2012.13635\")})\n",
        "for m in messages[\"messages\"]:\n",
        "  m.pretty_print()"
      ],
      "metadata": {
        "colab": {
          "base_uri": "https://localhost:8080/"
        },
        "id": "7vosePToffZv",
        "outputId": "7d784d68-f20a-470e-b65c-d8666bbf260c"
      },
      "execution_count": 67,
      "outputs": [
        {
          "output_type": "stream",
          "name": "stdout",
          "text": [
            "================================\u001b[1m Human Message \u001b[0m=================================\n",
            "\n",
            "2012.13635\n",
            "==================================\u001b[1m Ai Message \u001b[0m==================================\n",
            "Tool Calls:\n",
            "  arxiv (call_b48e)\n",
            " Call ID: call_b48e\n",
            "  Args:\n",
            "    query: 2012.13635\n",
            "=================================\u001b[1m Tool Message \u001b[0m=================================\n",
            "Name: arxiv\n",
            "\n",
            "Published: 2021-12-23\n",
            "Title: Logic Tensor Networks\n",
            "Authors: Samy Badreddine, Artur d'Avila Garcez, Luciano Serafini, Michael Spranger\n",
            "Summary: Artificial Intelligence agents are required to learn from their surroundings\n",
            "and to reason about the knowledge that has been learned in order to make\n",
            "decisions. While state-of-the-art learning from data typically uses\n",
            "sub-symbolic distributed representations, reasoning is normally useful at a\n",
            "higher level of abstraction with the use of a first-order logic\n"
          ]
        }
      ]
    },
    {
      "cell_type": "markdown",
      "source": [
        "This output shows how a graph-based chatbot processes a user message by calling an external tool (Arxiv API).\n",
        "\n",
        "#### 🔍 Brief Breakdown:\n",
        "\n",
        "- **Human Message:** The user submitted a paper ID: 2012.13635.\n",
        "\n",
        "- **AI Message:** The chatbot decided to use the arxiv tool to handle this input. \\\\\n",
        "\n",
        "- **Tool Call:** The chatbot sent a request to Arxiv with the query 2012.13635. \\\\\n",
        "\n",
        "- **Tool Message:** The Arxiv API responded with metadata about the paper:\n",
        "\n",
        "  - Title: Logic Tensor Networks\n",
        "\n",
        "  - Authors, Published date, and Summary\n",
        "\n",
        "#### 🧠 What It Means:\n",
        "\n",
        "The chatbot recognized the input as a paper reference, queried Arxiv, and returned structured academic info — part of a tool-augmented retrieval system."
      ],
      "metadata": {
        "id": "HbAXo7pBrCQ0"
      }
    },
    {
      "cell_type": "markdown",
      "source": [
        "Below let us try to implement a different workflow which enables the model to visit the llm calling tool (`tool_llm_call`) twice in order to answer the two questions asked in a single query..."
      ],
      "metadata": {
        "id": "wMVDwT7HupfI"
      }
    },
    {
      "cell_type": "code",
      "source": [
        "# Build graph\n",
        "builder = StateGraph(State)\n",
        "\n",
        "# Add nodes\n",
        "builder.add_node(\"tool_llm_call\", tool_llm_call)\n",
        "builder.add_node(\"tools\", ToolNode(tools))\n",
        "\n",
        "# Add edges\n",
        "builder.add_edge(START, \"tool_llm_call\")\n",
        "builder.add_conditional_edges(\"tool_llm_call\",\n",
        "                              tools_condition)\n",
        "builder.add_edge(\"tools\", \"tool_llm_call\")\n",
        "\n",
        "# Compile the graph\n",
        "graph = builder.compile()\n",
        "\n",
        "# View the graph\n",
        "display(Image(graph.get_graph().draw_mermaid_png()))"
      ],
      "metadata": {
        "colab": {
          "base_uri": "https://localhost:8080/",
          "height": 266
        },
        "id": "fmJ-Amy-pCk2",
        "outputId": "ee18db03-7112-4e40-c207-f89659f723f8"
      },
      "execution_count": 68,
      "outputs": [
        {
          "output_type": "display_data",
          "data": {
            "image/png": "[encoded data removed]",
            "text/plain": [
              "<IPython.core.display.Image object>"
            ]
          },
          "metadata": {}
        }
      ]
    },
    {
      "cell_type": "code",
      "source": [
        "messages=graph.invoke({\"messages\": HumanMessage(content=\"What is the most recent piece of news about Italy and What is the latest research paper on LTNs?\")})\n",
        "for m in messages[\"messages\"]:\n",
        "  m.pretty_print()"
      ],
      "metadata": {
        "colab": {
          "base_uri": "https://localhost:8080/"
        },
        "id": "pcuA2_xFuClW",
        "outputId": "bd8f0361-1127-424f-fc2f-d0411686ebc7"
      },
      "execution_count": 69,
      "outputs": [
        {
          "output_type": "stream",
          "name": "stdout",
          "text": [
            "================================\u001b[1m Human Message \u001b[0m=================================\n",
            "\n",
            "What is the most recent piece of news about Italy and What is the latest research paper on LTNs?\n",
            "==================================\u001b[1m Ai Message \u001b[0m==================================\n",
            "Tool Calls:\n",
            "  tavily_search_results_json (call_26wa)\n",
            " Call ID: call_26wa\n",
            "  Args:\n",
            "    query: most recent news about Italy\n",
            "  arxiv (call_9z8s)\n",
            " Call ID: call_9z8s\n",
            "  Args:\n",
            "    query: LTNs\n",
            "=================================\u001b[1m Tool Message \u001b[0m=================================\n",
            "Name: tavily_search_results_json\n",
            "\n",
            "[{\"title\": \"Find all the latest news about italy | euronews\", \"url\": \"https://www.euronews.com/news/europe/italy\", \"content\": \"An Italian newspaper let AI write all its content for a month\\n\\nWhite House floats US-Europe meeting as Vance meets Meloni in Rome\\n\\nWatch: Rescue of survivors from Italian cable car crash\\n\\nI visited a legendary spa resort in Italy where Romans once bathed\\n\\nArchaeological Museum of Naples displays stolen artefacts in new show\\n\\n'Urban warfare': Rome derby violence leaves 24 police officers injured\\n\\nVenice daytripper fee relaunches this week. Here's how to pay [...] Milan Salone del Mobile 2025: Spinning libraries and daring designs\\n\\nDinosaur tracks found while filming documentary in Sardinia\\n\\nItaly sends 40 rejected asylum seekers to Albania detention centres\\n\\nCinque Terre hikers face footwear checks and one-way paths this spring\\n\\nIce cream break for King Charles and Queen Camilla during Rome visit\\n\\nMost read\\n\\nSpain and Portugal power outage costs 'likely to be tens of millions'\\n\\nWhy are American investors flocking to this Swiss Alps ski village? [...] Hundreds of thousands bid farewell to Pope Francis' coffin in Rome\\n\\nMore about this topic\\n\\nMeloni receives Zelensky, PM: 'Russia shows willingness for peace'\\n\\nChief Rabbi of Rome lauds Pope Francis' 'openness and warmth'\\n\\nItaly rolls out major security plan for funeral of Pope Francis\\n\\nShould irregular migrants be deported to return hubs outside the EU?\\n\\nPapal exit offers rare diplomatic chance for global peace\\n\\nCardinal Parolin leads rosary for Pope Francis at St Mary Major\", \"score\": 0.6742441}, {\"title\": \"All news about Italy | Euronews\", \"url\": \"https://www.euronews.com/tag/italy\", \"content\": \"Italy · Mediobanca launches bid for Banca Generali as M&A flurry intensifies · Meloni receives Zelensky, PM: 'Russia shows willingness for peace' · Pope Francis\", \"score\": 0.66203266}, {\"title\": \"Italy | The Guardian\", \"url\": \"https://www.theguardian.com/world/italy\", \"content\": \"Italy\\n\\n29 April 2025\\n\\n$30m salvage operation on Mike Lynch’s superyacht to begin\\n\\n28 April 2025\\n\\nConclave to elect new pope to start on 7 May, Vatican says\\n\\nFrench Muslims decry religious hatred as mosque stabbing suspect arrested\\n\\n27 April 2025\\n\\nThousands queue to visit Pope Francis’s tomb on day after funeral\\n\\nLobbying for next pope heats up, with outcome less predictable than ever\\n\\n26 April 2025\\n\\nPilgrims and the powerful come together for Pope Francis’s funeral – video\", \"score\": 0.6429039}, {\"title\": \"Italy news - Today's latest updates\", \"url\": \"https://www.cbsnews.com/tag/italy/\", \"content\": \"Italy's Meloni meets Trump at White House​​ Italian Prime Minister Giorgia Meloni arrived at the White House on Thursday for her meeting with President Trump on\", \"score\": 0.5993685}, {\"title\": \"Italy - latest news, breaking stories and comment - The Independent\", \"url\": \"https://www.independent.co.uk/topic/italy\", \"content\": \"Meloni will test her mettle as EU-US bridge when she meets Trump\\n\\nVenice day trip entry fee: How much does it cost and how does it work?\\n\\nACLU sues Defense Department school system over banning race- and gender-related books\\n\\nGreece announces plans on maritime use, irking neighboring Turkey\\n\\nVance will travel to Italy and India with his family to meet with leaders and visit cultural sites\\n\\nCouple shot dead in mafia-style killing in Italy [...] King Charles urges close ties in a historic speech to Italy's parliament as war rages in Europe\\n\\nThis gorgeous Italian region will pay you €100,000 to move there\\n\\nFrench presidential hopeful sparks outrage with island migrant plan\\n\\nAlbania receives naval ship from Italy to boost military and NATO missions\\n\\nHow can I buy a €1 house in Italy?\\n\\nThe reason why Britain is keen to hold Italy close\\n\\nUK Royals meet Italy's President Mattarella at Quirinale Palace greeted by flyover of aerobatic jets [...] What we know about the fatal Italy cable car crash\\n\\nJD Vance visits Italy and Vatican after tangling with pope on migration\\n\\nCable car accident in southern Italy kills at least three people\\n\\nWhat we know about the fatal Italy cable car crash\\n\\nJD Vance visits Italy and Vatican after tangling with pope on migration\\n\\nCable car accident in southern Italy kills at least three people\\n\\nICC opens inquiry into Hungary for failing to arrest Netanyahu\\n\\nHow to explore the Amalfi Coast by bike\", \"score\": 0.5976789}]\n",
            "=================================\u001b[1m Tool Message \u001b[0m=================================\n",
            "Name: arxiv\n",
            "\n",
            "Published: 2019-12-13\n",
            "Title: A review of Local-to-Nonlocal coupling methods in nonlocal diffusion and nonlocal mechanics\n",
            "Authors: Marta D'Elia, Xingjie Li, Pablo Seleson, Xiaochuan Tian, Yue Yu\n",
            "Summary: Local-to-Nonlocal (LtN) coupling refers to a class of methods aimed at\n",
            "combining nonlocal and local modeling descriptions of a given system into a\n",
            "unified coupled representation. This allows to consolidate the accuracy of\n",
            "nonlocal models with the computational expediency of their local counterpar\n",
            "==================================\u001b[1m Ai Message \u001b[0m==================================\n",
            "\n",
            "**Most Recent News about Italy:**  \n",
            "The latest news from the search results includes a **cable car accident in southern Italy** that killed at least three people, as well as updates on Italy's political meetings (e.g., Prime Minister Giorgia Meloni meeting U.S. President Trump and JD Vance) and cultural events like the Venice daytripper fee relaunch. The most recent specific event highlighted is the cable car tragedy.  \n",
            "\n",
            "**Latest Research Paper on LTNs (Local-to-Nonlocal Coupling):**  \n",
            "The most recent paper retrieved is:  \n",
            "- **Title:** \"A review of Local-to-Nonlocal coupling methods in nonlocal diffusion and nonlocal mechanics\"  \n",
            "- **Authors:** Marta D'Elia, Xingjie Li, Pablo Seleson, Xiaochuan Tian, Yue Yu  \n",
            "- **Published:** December 13, 2019  \n",
            "- **Summary:** Focuses on methods combining nonlocal and local models for systems like diffusion and mechanics, balancing accuracy and computational efficiency.  \n",
            "\n",
            "**Note:** The research paper is from 2019. If you meant a different topic (e.g., \"LTNs\" as Logical Tensor Networks or another field), please clarify for further refinement. The news results appear to be from a future-dated dataset (April 2025), which may reflect test data rather than real-time information.\n"
          ]
        }
      ]
    },
    {
      "cell_type": "markdown",
      "source": [
        "This output shows the chatbot answering two questions at once by using two tools:\n",
        "\n",
        "#### 🧠 Summary:\n",
        "\n",
        "Human asked:\n",
        "- Latest news about Italy\n",
        "- Latest research on LTNs\n",
        "\n",
        "####Tool Calls:\n",
        "\n",
        "`tavily_search_results_json`: searched for news → returned headlines about Italy.\n",
        "\n",
        "`arxiv`: searched for research on \"LTNs\" → returned a 2019 paper on \"Local-to-Nonlocal coupling\".\n",
        "\n",
        "#### AI Response:\n",
        "\n",
        "- News: summarized recent Italian events like a cable car accident and political meetings.\n",
        "- Research: detailed a 2019 paper (possibly mismatched to \"LTNs\" if the user meant \"Logic Tensor Networks\").\n",
        "\n",
        "#### ⚠️ Insight:\n",
        "\n",
        "1. The chatbot can run parallel tool calls.\n",
        "2. Clarification may be needed if acronyms (like LTNs) have multiple interpretations."
      ],
      "metadata": {
        "id": "2vthL6oSwgIT"
      }
    },
    {
      "cell_type": "markdown",
      "source": [
        "## Thank you and I hope you enjoyed the tutorial! ✌🥳"
      ],
      "metadata": {
        "id": "JL35z1xFw902"
      }
    },
    {
      "cell_type": "code",
      "source": [],
      "metadata": {
        "id": "SSbXwjVHxX4W"
      },
      "execution_count": null,
      "outputs": []
    }
  ]
}