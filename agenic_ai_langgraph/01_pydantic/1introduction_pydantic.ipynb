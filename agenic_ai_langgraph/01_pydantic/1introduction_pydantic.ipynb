{
  "nbformat": 4,
  "nbformat_minor": 0,
  "metadata": {
    "colab": {
      "provenance": []
    },
    "kernelspec": {
      "name": "python3",
      "display_name": "Python 3"
    },
    "language_info": {
      "name": "python"
    }
  },
  "cells": [
    {
      "cell_type": "markdown",
      "source": [
        "## Pydantic\n",
        "### 🔍 What is Pydantic?\n",
        "Pydantic lets you define data structures using Python classes, and it automatically validates and parses data into those structures.\n",
        "\n",
        "It uses Python type hints to:\n",
        "- Validate input data (like JSON or dicts)\n",
        "- Convert types (e.g., string to int, if possible)\n",
        "- Raise clear, useful errors when data is missing or invalid"
      ],
      "metadata": {
        "id": "wBuGY_FbX7in"
      }
    },
    {
      "cell_type": "markdown",
      "source": [
        "### What is it used for?\n",
        "- **FastAPI:** Pydantic is the backbone for data models (requests, responses).\n",
        "- **Data Validation:** Ensures incoming data (e.g., from APIs, configs, forms) meets expectations.\n",
        "- **Parsing JSON or external input:** Converts raw data into well-typed Python objects.\n",
        "- **Environment/config management:** BaseSettings class lets you manage app settings from env vars, .env files, etc."
      ],
      "metadata": {
        "id": "oRimw-yHX_B1"
      }
    },
    {
      "cell_type": "code",
      "source": [
        "!pip install pydantic"
      ],
      "metadata": {
        "colab": {
          "base_uri": "https://localhost:8080/"
        },
        "id": "Zg8rv2JxYW-S",
        "outputId": "24a60f79-ecdd-42fb-864b-c1781674ad0b"
      },
      "execution_count": 1,
      "outputs": [
        {
          "output_type": "stream",
          "name": "stdout",
          "text": [
            "Requirement already satisfied: pydantic in /usr/local/lib/python3.11/dist-packages (2.11.3)\n",
            "Requirement already satisfied: annotated-types>=0.6.0 in /usr/local/lib/python3.11/dist-packages (from pydantic) (0.7.0)\n",
            "Requirement already satisfied: pydantic-core==2.33.1 in /usr/local/lib/python3.11/dist-packages (from pydantic) (2.33.1)\n",
            "Requirement already satisfied: typing-extensions>=4.12.2 in /usr/local/lib/python3.11/dist-packages (from pydantic) (4.13.2)\n",
            "Requirement already satisfied: typing-inspection>=0.4.0 in /usr/local/lib/python3.11/dist-packages (from pydantic) (0.4.0)\n"
          ]
        }
      ]
    },
    {
      "cell_type": "code",
      "source": [
        "from pydantic import BaseModel"
      ],
      "metadata": {
        "id": "N7llYUIIYRJf"
      },
      "execution_count": 2,
      "outputs": []
    },
    {
      "cell_type": "markdown",
      "source": [
        "Take a look at the example class created below employing two different approaches:"
      ],
      "metadata": {
        "id": "mWcr8xxab4r4"
      }
    },
    {
      "cell_type": "code",
      "source": [
        "from dataclasses import dataclass\n",
        "\n",
        "@dataclass\n",
        "class Person1():\n",
        "  name:str\n",
        "  age:int\n",
        "  city:str\n",
        "\n",
        "print(Person1(name=\"Milad\", age=35, city=\"Turin\"))"
      ],
      "metadata": {
        "colab": {
          "base_uri": "https://localhost:8080/"
        },
        "id": "7_EsT-v9beKt",
        "outputId": "f2a83ecb-29c4-4ac6-af87-d871cc0e67e4"
      },
      "execution_count": 3,
      "outputs": [
        {
          "output_type": "stream",
          "name": "stdout",
          "text": [
            "Person1(name='Milad', age=35, city='Turin')\n"
          ]
        }
      ]
    },
    {
      "cell_type": "code",
      "source": [
        "class Person2(BaseModel):\n",
        "  name:str\n",
        "  age:int\n",
        "  city:str\n",
        "\n",
        "person2 = Person2(name=\"Milad\", age=35, city=\"Turin\")\n",
        "\n",
        "print(person2)"
      ],
      "metadata": {
        "colab": {
          "base_uri": "https://localhost:8080/"
        },
        "id": "YhEFBsSyYNNl",
        "outputId": "c0a23a00-0f9d-4287-9775-d3358d49fa5e"
      },
      "execution_count": 4,
      "outputs": [
        {
          "output_type": "stream",
          "name": "stdout",
          "text": [
            "name='Milad' age=35 city='Turin'\n"
          ]
        }
      ]
    },
    {
      "cell_type": "markdown",
      "source": [
        "As you can see, there no particular difference in between when printed. So why do you think one would want their class to inherit `BaseModel`?"
      ],
      "metadata": {
        "id": "iKR6PStncLLX"
      }
    },
    {
      "cell_type": "markdown",
      "source": [
        "#### 🚀 Bonus: Pythonic Shortcut — `@dataclass`\n",
        "Combines both approaches (type annotation only AND `__init__` method) neatly.\n",
        "\n",
        "Now you can do:\n",
        "\n",
        "✔️ Auto-generated __init__() \\\\\n",
        "✔️ Cleaner syntax \\\\\n",
        "✔️ Optional __repr__, __eq__, etc."
      ],
      "metadata": {
        "id": "6le4bdpNT8nh"
      }
    },
    {
      "cell_type": "markdown",
      "source": [
        "**NOTE!** In case there was no `@dataclass` decorator, you wouldn't be able to instantiate objects with values directly similar to when `__init__` method is implemented."
      ],
      "metadata": {
        "id": "Wk3v7HtpUwel"
      }
    },
    {
      "cell_type": "markdown",
      "source": [
        "What if we create another onstance of the object `Person2` as you can see below?"
      ],
      "metadata": {
        "id": "lqd5MiAgc0fq"
      }
    },
    {
      "cell_type": "code",
      "execution_count": 5,
      "metadata": {
        "colab": {
          "base_uri": "https://localhost:8080/",
          "height": 402
        },
        "id": "71onQmmqXxOC",
        "outputId": "67ae7c53-57d1-4096-9ec9-1b73a00f808e"
      },
      "outputs": [
        {
          "output_type": "error",
          "ename": "ValidationError",
          "evalue": "1 validation error for Person2\ncity\n  Input should be a valid string [type=string_type, input_value=12, input_type=int]\n    For further information visit https://errors.pydantic.dev/2.11/v/string_type",
          "traceback": [
            "\u001b[0;31m---------------------------------------------------------------------------\u001b[0m",
            "\u001b[0;31mValidationError\u001b[0m                           Traceback (most recent call last)",
            "\u001b[0;32m<ipython-input-5-157dc6db5ef0>\u001b[0m in \u001b[0;36m<cell line: 0>\u001b[0;34m()\u001b[0m\n\u001b[0;32m----> 1\u001b[0;31m \u001b[0mperson3\u001b[0m \u001b[0;34m=\u001b[0m \u001b[0mPerson2\u001b[0m\u001b[0;34m(\u001b[0m\u001b[0mname\u001b[0m\u001b[0;34m=\u001b[0m\u001b[0;34m\"Milad\"\u001b[0m\u001b[0;34m,\u001b[0m \u001b[0mage\u001b[0m\u001b[0;34m=\u001b[0m\u001b[0;36m35\u001b[0m\u001b[0;34m,\u001b[0m \u001b[0mcity\u001b[0m\u001b[0;34m=\u001b[0m\u001b[0;36m12\u001b[0m\u001b[0;34m)\u001b[0m\u001b[0;34m\u001b[0m\u001b[0;34m\u001b[0m\u001b[0m\n\u001b[0m\u001b[1;32m      2\u001b[0m \u001b[0;34m\u001b[0m\u001b[0m\n\u001b[1;32m      3\u001b[0m \u001b[0mprint\u001b[0m\u001b[0;34m(\u001b[0m\u001b[0mperson3\u001b[0m\u001b[0;34m)\u001b[0m\u001b[0;34m\u001b[0m\u001b[0;34m\u001b[0m\u001b[0m\n",
            "\u001b[0;32m/usr/local/lib/python3.11/dist-packages/pydantic/main.py\u001b[0m in \u001b[0;36m__init__\u001b[0;34m(self, **data)\u001b[0m\n\u001b[1;32m    251\u001b[0m         \u001b[0;31m# `__tracebackhide__` tells pytest and some other tools to omit this function from tracebacks\u001b[0m\u001b[0;34m\u001b[0m\u001b[0;34m\u001b[0m\u001b[0m\n\u001b[1;32m    252\u001b[0m         \u001b[0m__tracebackhide__\u001b[0m \u001b[0;34m=\u001b[0m \u001b[0;32mTrue\u001b[0m\u001b[0;34m\u001b[0m\u001b[0;34m\u001b[0m\u001b[0m\n\u001b[0;32m--> 253\u001b[0;31m         \u001b[0mvalidated_self\u001b[0m \u001b[0;34m=\u001b[0m \u001b[0mself\u001b[0m\u001b[0;34m.\u001b[0m\u001b[0m__pydantic_validator__\u001b[0m\u001b[0;34m.\u001b[0m\u001b[0mvalidate_python\u001b[0m\u001b[0;34m(\u001b[0m\u001b[0mdata\u001b[0m\u001b[0;34m,\u001b[0m \u001b[0mself_instance\u001b[0m\u001b[0;34m=\u001b[0m\u001b[0mself\u001b[0m\u001b[0;34m)\u001b[0m\u001b[0;34m\u001b[0m\u001b[0;34m\u001b[0m\u001b[0m\n\u001b[0m\u001b[1;32m    254\u001b[0m         \u001b[0;32mif\u001b[0m \u001b[0mself\u001b[0m \u001b[0;32mis\u001b[0m \u001b[0;32mnot\u001b[0m \u001b[0mvalidated_self\u001b[0m\u001b[0;34m:\u001b[0m\u001b[0;34m\u001b[0m\u001b[0;34m\u001b[0m\u001b[0m\n\u001b[1;32m    255\u001b[0m             warnings.warn(\n",
            "\u001b[0;31mValidationError\u001b[0m: 1 validation error for Person2\ncity\n  Input should be a valid string [type=string_type, input_value=12, input_type=int]\n    For further information visit https://errors.pydantic.dev/2.11/v/string_type"
          ]
        }
      ],
      "source": [
        "person3 = Person2(name=\"Milad\", age=35, city=12)\n",
        "\n",
        "print(person3)"
      ]
    },
    {
      "cell_type": "markdown",
      "source": [
        "**BINGO!**"
      ],
      "metadata": {
        "id": "6K0VSq2OdhOv"
      }
    },
    {
      "cell_type": "markdown",
      "source": [
        "Yes, you're right! It raises the validation error below:\n",
        "\n",
        "```\n",
        "ValidationError: 1 validation error for Person2\n",
        "```"
      ],
      "metadata": {
        "id": "ocjI8mf7dowB"
      }
    },
    {
      "cell_type": "markdown",
      "source": [
        "When you create a class that inherits from `pydantic.BaseModel`, Pydantic automatically validates any data passed to it against the type annotations you’ve defined.\n",
        "\n",
        "Validation includes:\n",
        "\n",
        "- Type coercion (e.g., converts \"123\" to 123 if int is expected)\n",
        "- Type checking (e.g., raises error if a string is passed where a list is expected)\n",
        "- Required/optional field checking\n",
        "- Custom validation logic"
      ],
      "metadata": {
        "id": "ufNIMTrweYuK"
      }
    },
    {
      "cell_type": "markdown",
      "source": [
        "#### Optional Fields\n",
        "In Python, optional fields are attributes that may or may not be provided when creating an object — they’re not required.\n",
        "\n",
        "There are a few ways to define optional fields depending on whether you're using regular classes, dataclasses, or something like Pydantic. Below is demonstrated an example with Pydantic:"
      ],
      "metadata": {
        "id": "0tHiFf2pXGaA"
      }
    },
    {
      "cell_type": "code",
      "source": [
        "from typing import Optional\n",
        "\n",
        "class Staff(BaseModel):\n",
        "    id: int\n",
        "    name: str\n",
        "    age: int\n",
        "    salary: Optional[float] = None    # optional with default value None\n",
        "    city: Optional[str] = None    # optional with default value None\n",
        "    is_onboard: Optional[bool] = False    # optional with default value True"
      ],
      "metadata": {
        "id": "SPFV1zGcZGq8"
      },
      "execution_count": 6,
      "outputs": []
    },
    {
      "cell_type": "code",
      "source": [
        "staff1 = Staff(id=1, name=\"Gianluca\", city=\"Rome\", age=28)\n",
        "print(staff1)"
      ],
      "metadata": {
        "colab": {
          "base_uri": "https://localhost:8080/"
        },
        "id": "KgqRM1owX6li",
        "outputId": "258bfa44-4b28-41c6-853e-84f56e8bfd83"
      },
      "execution_count": 7,
      "outputs": [
        {
          "output_type": "stream",
          "name": "stdout",
          "text": [
            "id=1 name='Gianluca' age=28 salary=None city='Rome' is_onboard=False\n"
          ]
        }
      ]
    },
    {
      "cell_type": "code",
      "source": [
        "staff2 = Staff(id=1, name=\"Gianluca\", city=\"Rome\", age=28, salary=2500)\n",
        "print(staff2)"
      ],
      "metadata": {
        "colab": {
          "base_uri": "https://localhost:8080/"
        },
        "id": "TWpjJHStYMRY",
        "outputId": "e0575b6b-3d0d-4b9c-a931-6e8c91b33020"
      },
      "execution_count": 8,
      "outputs": [
        {
          "output_type": "stream",
          "name": "stdout",
          "text": [
            "id=1 name='Gianluca' age=28 salary=2500.0 city='Rome' is_onboard=False\n"
          ]
        }
      ]
    },
    {
      "cell_type": "markdown",
      "source": [
        "What about lists? Do we have to manipulate them differently?"
      ],
      "metadata": {
        "id": "ZiHuVFnYlPX3"
      }
    },
    {
      "cell_type": "code",
      "source": [
        "from typing import List\n",
        "\n",
        "class Classroom(BaseModel):\n",
        "  room_number: str\n",
        "  students: List[str]   # list of strings\n",
        "  teachers: List[str]   # list of strings\n",
        "  capacity: int"
      ],
      "metadata": {
        "id": "HTVN98MVkioC"
      },
      "execution_count": 9,
      "outputs": []
    },
    {
      "cell_type": "code",
      "source": [
        "# Now let's create a classroom...\n",
        "classroom = Classroom(\n",
        "    room_number=\"M02\",\n",
        "    students=[\"Ali\", \"Samad\", \"Bruno\"],\n",
        "    teachers=[\"Gianluca\", \"Shahdad\"],\n",
        "    capacity=30\n",
        ")"
      ],
      "metadata": {
        "id": "aMm7vTRzBIaU"
      },
      "execution_count": 11,
      "outputs": []
    },
    {
      "cell_type": "markdown",
      "source": [
        "It seems to be working fine, right?\n",
        "OK! Now let's try the one below and see if we get an error or not..."
      ],
      "metadata": {
        "id": "yUauwj7-CWn9"
      }
    },
    {
      "cell_type": "code",
      "source": [
        "# create a different class\n",
        "classroom2 = Classroom(\n",
        "    room_number=\"T05\",\n",
        "    students=[\"Elena\", \"John\", \"Bruno\"],\n",
        "    teachers=(\"Luca\", \"Aram\"),\n",
        "    capacity=\"20\"\n",
        ")"
      ],
      "metadata": {
        "id": "YgJBnoXlB8UP"
      },
      "execution_count": 12,
      "outputs": []
    },
    {
      "cell_type": "code",
      "source": [
        "print(classroom2)"
      ],
      "metadata": {
        "colab": {
          "base_uri": "https://localhost:8080/"
        },
        "id": "ZSjOH9PIFGK9",
        "outputId": "e7636ac6-d6c6-4719-9ab4-56a31eaeeed1"
      },
      "execution_count": 14,
      "outputs": [
        {
          "output_type": "stream",
          "name": "stdout",
          "text": [
            "room_number='T05' students=['Elena', 'John', 'Bruno'] teachers=['Luca', 'Aram'] capacity=20\n"
          ]
        }
      ]
    },
    {
      "cell_type": "markdown",
      "source": [
        "**What...!?** \\\\\n",
        "As you may have already noticed, the teachers are wrapped in a tuple and yet no validation error occurs. \\\\\n",
        "What if we wrap information in a dictionary?"
      ],
      "metadata": {
        "id": "HBNEYVuxDGyC"
      }
    },
    {
      "cell_type": "code",
      "source": [
        "# invalid classroom\n",
        "classroom3 = Classroom(\n",
        "    room_number=\"T05\",\n",
        "    students=[\"Elena\", \"John\", \"Bruno\"],\n",
        "    teachers={\"Luca\": \"Male\", \"Aram\": \"Female\"},\n",
        "    capacity=\"20\"\n",
        ")"
      ],
      "metadata": {
        "colab": {
          "base_uri": "https://localhost:8080/",
          "height": 456
        },
        "id": "4Im9LwmVDD1n",
        "outputId": "753982ea-111d-46e5-d7ee-5e36977e0d55"
      },
      "execution_count": 16,
      "outputs": [
        {
          "output_type": "error",
          "ename": "ValidationError",
          "evalue": "1 validation error for Classroom\nteachers\n  Input should be a valid list [type=list_type, input_value={'Luca': 'Male', 'Aram': 'Female'}, input_type=dict]\n    For further information visit https://errors.pydantic.dev/2.11/v/list_type",
          "traceback": [
            "\u001b[0;31m---------------------------------------------------------------------------\u001b[0m",
            "\u001b[0;31mValidationError\u001b[0m                           Traceback (most recent call last)",
            "\u001b[0;32m<ipython-input-16-8eb534bf5e38>\u001b[0m in \u001b[0;36m<cell line: 0>\u001b[0;34m()\u001b[0m\n\u001b[0;32m----> 1\u001b[0;31m classroom3 = Classroom(\n\u001b[0m\u001b[1;32m      2\u001b[0m     \u001b[0mroom_number\u001b[0m\u001b[0;34m=\u001b[0m\u001b[0;34m\"T05\"\u001b[0m\u001b[0;34m,\u001b[0m\u001b[0;34m\u001b[0m\u001b[0;34m\u001b[0m\u001b[0m\n\u001b[1;32m      3\u001b[0m     \u001b[0mstudents\u001b[0m\u001b[0;34m=\u001b[0m\u001b[0;34m[\u001b[0m\u001b[0;34m\"Elena\"\u001b[0m\u001b[0;34m,\u001b[0m \u001b[0;34m\"John\"\u001b[0m\u001b[0;34m,\u001b[0m \u001b[0;34m\"Bruno\"\u001b[0m\u001b[0;34m]\u001b[0m\u001b[0;34m,\u001b[0m\u001b[0;34m\u001b[0m\u001b[0;34m\u001b[0m\u001b[0m\n\u001b[1;32m      4\u001b[0m     \u001b[0mteachers\u001b[0m\u001b[0;34m=\u001b[0m\u001b[0;34m{\u001b[0m\u001b[0;34m\"Luca\"\u001b[0m\u001b[0;34m:\u001b[0m \u001b[0;34m\"Male\"\u001b[0m\u001b[0;34m,\u001b[0m \u001b[0;34m\"Aram\"\u001b[0m\u001b[0;34m:\u001b[0m \u001b[0;34m\"Female\"\u001b[0m\u001b[0;34m}\u001b[0m\u001b[0;34m,\u001b[0m\u001b[0;34m\u001b[0m\u001b[0;34m\u001b[0m\u001b[0m\n\u001b[1;32m      5\u001b[0m     \u001b[0mcapacity\u001b[0m\u001b[0;34m=\u001b[0m\u001b[0;34m\"20\"\u001b[0m\u001b[0;34m\u001b[0m\u001b[0;34m\u001b[0m\u001b[0m\n",
            "\u001b[0;32m/usr/local/lib/python3.11/dist-packages/pydantic/main.py\u001b[0m in \u001b[0;36m__init__\u001b[0;34m(self, **data)\u001b[0m\n\u001b[1;32m    251\u001b[0m         \u001b[0;31m# `__tracebackhide__` tells pytest and some other tools to omit this function from tracebacks\u001b[0m\u001b[0;34m\u001b[0m\u001b[0;34m\u001b[0m\u001b[0m\n\u001b[1;32m    252\u001b[0m         \u001b[0m__tracebackhide__\u001b[0m \u001b[0;34m=\u001b[0m \u001b[0;32mTrue\u001b[0m\u001b[0;34m\u001b[0m\u001b[0;34m\u001b[0m\u001b[0m\n\u001b[0;32m--> 253\u001b[0;31m         \u001b[0mvalidated_self\u001b[0m \u001b[0;34m=\u001b[0m \u001b[0mself\u001b[0m\u001b[0;34m.\u001b[0m\u001b[0m__pydantic_validator__\u001b[0m\u001b[0;34m.\u001b[0m\u001b[0mvalidate_python\u001b[0m\u001b[0;34m(\u001b[0m\u001b[0mdata\u001b[0m\u001b[0;34m,\u001b[0m \u001b[0mself_instance\u001b[0m\u001b[0;34m=\u001b[0m\u001b[0mself\u001b[0m\u001b[0;34m)\u001b[0m\u001b[0;34m\u001b[0m\u001b[0;34m\u001b[0m\u001b[0m\n\u001b[0m\u001b[1;32m    254\u001b[0m         \u001b[0;32mif\u001b[0m \u001b[0mself\u001b[0m \u001b[0;32mis\u001b[0m \u001b[0;32mnot\u001b[0m \u001b[0mvalidated_self\u001b[0m\u001b[0;34m:\u001b[0m\u001b[0;34m\u001b[0m\u001b[0;34m\u001b[0m\u001b[0m\n\u001b[1;32m    255\u001b[0m             warnings.warn(\n",
            "\u001b[0;31mValidationError\u001b[0m: 1 validation error for Classroom\nteachers\n  Input should be a valid list [type=list_type, input_value={'Luca': 'Male', 'Aram': 'Female'}, input_type=dict]\n    For further information visit https://errors.pydantic.dev/2.11/v/list_type"
          ]
        }
      ]
    },
    {
      "cell_type": "code",
      "source": [
        "try:\n",
        "  invalid_value = Classroom(room_number=\"T05\",\n",
        "                            students=[\"Elena\", \"John\", \"Bruno\"],\n",
        "                            teachers=(\"Luca\", \"Aram\"),\n",
        "                            capacity=\"twenty\")  # won't raise error if capacity=\"20\"\n",
        "except ValueError as e:\n",
        "  print(e)"
      ],
      "metadata": {
        "colab": {
          "base_uri": "https://localhost:8080/"
        },
        "id": "H9Axv6YTFOTz",
        "outputId": "633ade4b-d94a-435d-cfa1-bd18ca17480a"
      },
      "execution_count": 21,
      "outputs": [
        {
          "output_type": "stream",
          "name": "stdout",
          "text": [
            "1 validation error for Classroom\n",
            "capacity\n",
            "  Input should be a valid integer, unable to parse string as an integer [type=int_parsing, input_value='twenty', input_type=str]\n",
            "    For further information visit https://errors.pydantic.dev/2.11/v/int_parsing\n"
          ]
        }
      ]
    },
    {
      "cell_type": "markdown",
      "source": [
        "### BaseModel (`pydantic.BaseModel`) with Nested Models"
      ],
      "metadata": {
        "id": "8Yv1YZDuIyG-"
      }
    },
    {
      "cell_type": "markdown",
      "source": [
        "Complex structures can be created with nested models."
      ],
      "metadata": {
        "id": "rfkQwu7cJR1P"
      }
    },
    {
      "cell_type": "code",
      "source": [
        "from pydantic import BaseModel\n",
        "\n",
        "class Address(BaseModel):\n",
        "    street: str\n",
        "    city: str\n",
        "    state: str\n",
        "    zip_code: str\n",
        "\n",
        "class Client(BaseModel):\n",
        "    name: str\n",
        "    age: int\n",
        "    address: Address    # Address class nested"
      ],
      "metadata": {
        "id": "RU0-NHF7GeJ0"
      },
      "execution_count": 24,
      "outputs": []
    },
    {
      "cell_type": "code",
      "source": [
        "client = Client(\n",
        "    name=\"John Doe\",\n",
        "    age=32,\n",
        "    address=Address(\n",
        "        street=\"123 Main St\",\n",
        "        city=\"Anytown\",\n",
        "        state=\"CA\",\n",
        "        zip_code=\"12345\"\n",
        "    )\n",
        ")\n",
        "\n",
        "print(client)"
      ],
      "metadata": {
        "colab": {
          "base_uri": "https://localhost:8080/"
        },
        "id": "YRS8yTWGKFBC",
        "outputId": "a122cfac-8832-4e61-86ee-9170a6bc4746"
      },
      "execution_count": 26,
      "outputs": [
        {
          "output_type": "stream",
          "name": "stdout",
          "text": [
            "name='John Doe' age=32 address=Address(street='123 Main St', city='Anytown', state='CA', zip_code='12345')\n"
          ]
        }
      ]
    },
    {
      "cell_type": "markdown",
      "source": [
        "### Pydantic Fields: Customization and Constraints"
      ],
      "metadata": {
        "id": "NiQFpo7ZUBqd"
      }
    },
    {
      "cell_type": "markdown",
      "source": [
        "The `Field()` function in Pydantic is used to provide metadata, validation, and configuration for model fields in a Pydantic BaseModel."
      ],
      "metadata": {
        "id": "V8kkPbEVVCCz"
      }
    },
    {
      "cell_type": "code",
      "source": [
        "from pydantic import BaseModel, Field\n",
        "\n",
        "class Object(BaseModel):\n",
        "  name: str=Field(min_length=5, max_length=10)\n",
        "  price: float=Field(gt=0, lt=1000)\n",
        "  quantity: int=Field(gt=0, lt=100)\n",
        "  description: str=Field(None, max_length=300)\n",
        "  active: bool=True"
      ],
      "metadata": {
        "id": "UboFe51ATGXe"
      },
      "execution_count": 30,
      "outputs": []
    },
    {
      "cell_type": "code",
      "source": [
        "Object1 = Object(name=\"Pencil\", price=5, quantity=50, description=\"Pen description\")\n",
        "print(Object1)"
      ],
      "metadata": {
        "colab": {
          "base_uri": "https://localhost:8080/"
        },
        "id": "GBL77puEcWpq",
        "outputId": "33cd2be2-212a-483e-ef74-194a72417714"
      },
      "execution_count": 31,
      "outputs": [
        {
          "output_type": "stream",
          "name": "stdout",
          "text": [
            "name='Pencil' price=5.0 quantity=50 description='Pen description' active=True\n"
          ]
        }
      ]
    },
    {
      "cell_type": "code",
      "source": [
        "Object2 = Object(name=\"Pen\", price=5, quantity=50, description=\"Pen description\")\n",
        "print(Object2)"
      ],
      "metadata": {
        "colab": {
          "base_uri": "https://localhost:8080/",
          "height": 402
        },
        "id": "JMW9FZYZbAiE",
        "outputId": "34eb281b-60f9-42dd-86d3-2723d5fe52f3"
      },
      "execution_count": 29,
      "outputs": [
        {
          "output_type": "error",
          "ename": "ValidationError",
          "evalue": "1 validation error for Object\nname\n  String should have at least 5 characters [type=string_too_short, input_value='Pen', input_type=str]\n    For further information visit https://errors.pydantic.dev/2.11/v/string_too_short",
          "traceback": [
            "\u001b[0;31m---------------------------------------------------------------------------\u001b[0m",
            "\u001b[0;31mValidationError\u001b[0m                           Traceback (most recent call last)",
            "\u001b[0;32m<ipython-input-29-af58a38b9310>\u001b[0m in \u001b[0;36m<cell line: 0>\u001b[0;34m()\u001b[0m\n\u001b[0;32m----> 1\u001b[0;31m \u001b[0mObject2\u001b[0m \u001b[0;34m=\u001b[0m \u001b[0mObject\u001b[0m\u001b[0;34m(\u001b[0m\u001b[0mname\u001b[0m\u001b[0;34m=\u001b[0m\u001b[0;34m\"Pen\"\u001b[0m\u001b[0;34m,\u001b[0m \u001b[0mprice\u001b[0m\u001b[0;34m=\u001b[0m\u001b[0;36m5\u001b[0m\u001b[0;34m,\u001b[0m \u001b[0mquantity\u001b[0m\u001b[0;34m=\u001b[0m\u001b[0;36m50\u001b[0m\u001b[0;34m,\u001b[0m \u001b[0mdescription\u001b[0m\u001b[0;34m=\u001b[0m\u001b[0;34m\"Pen description\"\u001b[0m\u001b[0;34m)\u001b[0m\u001b[0;34m\u001b[0m\u001b[0;34m\u001b[0m\u001b[0m\n\u001b[0m\u001b[1;32m      2\u001b[0m \u001b[0mprint\u001b[0m\u001b[0;34m(\u001b[0m\u001b[0mObject2\u001b[0m\u001b[0;34m)\u001b[0m\u001b[0;34m\u001b[0m\u001b[0;34m\u001b[0m\u001b[0m\n",
            "\u001b[0;32m/usr/local/lib/python3.11/dist-packages/pydantic/main.py\u001b[0m in \u001b[0;36m__init__\u001b[0;34m(self, **data)\u001b[0m\n\u001b[1;32m    251\u001b[0m         \u001b[0;31m# `__tracebackhide__` tells pytest and some other tools to omit this function from tracebacks\u001b[0m\u001b[0;34m\u001b[0m\u001b[0;34m\u001b[0m\u001b[0m\n\u001b[1;32m    252\u001b[0m         \u001b[0m__tracebackhide__\u001b[0m \u001b[0;34m=\u001b[0m \u001b[0;32mTrue\u001b[0m\u001b[0;34m\u001b[0m\u001b[0;34m\u001b[0m\u001b[0m\n\u001b[0;32m--> 253\u001b[0;31m         \u001b[0mvalidated_self\u001b[0m \u001b[0;34m=\u001b[0m \u001b[0mself\u001b[0m\u001b[0;34m.\u001b[0m\u001b[0m__pydantic_validator__\u001b[0m\u001b[0;34m.\u001b[0m\u001b[0mvalidate_python\u001b[0m\u001b[0;34m(\u001b[0m\u001b[0mdata\u001b[0m\u001b[0;34m,\u001b[0m \u001b[0mself_instance\u001b[0m\u001b[0;34m=\u001b[0m\u001b[0mself\u001b[0m\u001b[0;34m)\u001b[0m\u001b[0;34m\u001b[0m\u001b[0;34m\u001b[0m\u001b[0m\n\u001b[0m\u001b[1;32m    254\u001b[0m         \u001b[0;32mif\u001b[0m \u001b[0mself\u001b[0m \u001b[0;32mis\u001b[0m \u001b[0;32mnot\u001b[0m \u001b[0mvalidated_self\u001b[0m\u001b[0;34m:\u001b[0m\u001b[0;34m\u001b[0m\u001b[0;34m\u001b[0m\u001b[0m\n\u001b[1;32m    255\u001b[0m             warnings.warn(\n",
            "\u001b[0;31mValidationError\u001b[0m: 1 validation error for Object\nname\n  String should have at least 5 characters [type=string_too_short, input_value='Pen', input_type=str]\n    For further information visit https://errors.pydantic.dev/2.11/v/string_too_short"
          ]
        }
      ]
    },
    {
      "cell_type": "markdown",
      "source": [
        "Apparently, according to the error raised, there is something wrong with the object name.\n",
        "\n"
      ],
      "metadata": {
        "id": "omR9vo9kbXbU"
      }
    },
    {
      "cell_type": "markdown",
      "source": [
        "ValidationError:\n",
        "```\n",
        "ValidationError: 1 validation error for Object\n",
        "name\n",
        "  String should have at least 5 characters [type=string_too_short, input_value='Pen', input_type=str]\n",
        "```"
      ],
      "metadata": {
        "id": "Nzktyms1b3I2"
      }
    },
    {
      "cell_type": "code",
      "source": [
        "from pydantic import BaseModel, Field, EmailStr\n",
        "\n",
        "class User(BaseModel):\n",
        "  username: str=Field(..., description=\"Unique username for the user\")\n",
        "  age: int=Field(..., gt=18, description=\"Age should be greater than 18\")\n",
        "  email: str=Field(..., pattern=r'^[\\w\\.-]+@[\\w\\.-]+\\.\\w+$', description=\"Email should be a valid email address\")  # basic approach\n",
        "  # email: EmailStr   # stricter email validation which requires emai-validator to be installed"
      ],
      "metadata": {
        "id": "Gen1ca4JbLQW"
      },
      "execution_count": 34,
      "outputs": []
    },
    {
      "cell_type": "code",
      "source": [
        "user1 = User(\n",
        "    username=\"johney_tepp\",\n",
        "    age=30,\n",
        "    email=\"johney.tepp@example-pet-store.com\"\n",
        ")\n",
        "\n",
        "print(user1)"
      ],
      "metadata": {
        "colab": {
          "base_uri": "https://localhost:8080/"
        },
        "id": "-qCn4OzadS9g",
        "outputId": "cce0da9a-0fcd-4d1f-f28f-a687141b2bbd"
      },
      "execution_count": 38,
      "outputs": [
        {
          "output_type": "stream",
          "name": "stdout",
          "text": [
            "username='johney_tepp' age=30 email='johney.tepp@example-pet-store.com'\n"
          ]
        }
      ]
    },
    {
      "cell_type": "code",
      "source": [
        "print(user1.model_json_schema())"
      ],
      "metadata": {
        "colab": {
          "base_uri": "https://localhost:8080/"
        },
        "id": "zQOWllnmfVOr",
        "outputId": "ff69b5c0-f9b7-4664-8bf7-a4aa0bdd7eda"
      },
      "execution_count": 40,
      "outputs": [
        {
          "output_type": "stream",
          "name": "stdout",
          "text": [
            "{'properties': {'username': {'description': 'Unique username for the user', 'title': 'Username', 'type': 'string'}, 'age': {'description': 'Age should be greater than 18', 'exclusiveMinimum': 18, 'title': 'Age', 'type': 'integer'}, 'email': {'description': 'Email should be a valid email address', 'pattern': '^[\\\\w\\\\.-]+@[\\\\w\\\\.-]+\\\\.\\\\w+$', 'title': 'Email', 'type': 'string'}}, 'required': ['username', 'age', 'email'], 'title': 'User', 'type': 'object'}\n"
          ]
        }
      ]
    },
    {
      "cell_type": "code",
      "source": [],
      "metadata": {
        "id": "VuForz9zf11U"
      },
      "execution_count": null,
      "outputs": []
    }
  ]
}