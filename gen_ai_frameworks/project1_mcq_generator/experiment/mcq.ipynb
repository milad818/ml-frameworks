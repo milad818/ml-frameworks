{
 "cells": [
  {
   "cell_type": "markdown",
   "metadata": {},
   "source": [
    "#### Firstly, import the necessary libraries."
   ]
  },
  {
   "cell_type": "code",
   "execution_count": 2,
   "metadata": {},
   "outputs": [],
   "source": [
    "import os\n",
    "import json\n",
    "import pandas as pd\n",
    "import traceback"
   ]
  },
  {
   "cell_type": "code",
   "execution_count": 3,
   "metadata": {},
   "outputs": [],
   "source": [
    "from langchain.llms import OpenAI\n",
    "from langchain.prompts import PromptTemplate\n",
    "from langchain.chains import LLMChain, SequentialChain\n",
    "from langchain.callbacks import get_openai_callback\n",
    "import PyPDF2"
   ]
  },
  {
   "cell_type": "code",
   "execution_count": 4,
   "metadata": {},
   "outputs": [],
   "source": [
    "from langchain.chat_models import ChatOpenAI"
   ]
  },
  {
   "cell_type": "markdown",
   "metadata": {},
   "source": [
    "#### Secondly, declare and load OpenAI API key, preparing it for utilization."
   ]
  },
  {
   "cell_type": "markdown",
   "metadata": {},
   "source": [
    "#### **NOTE!!!** There is an indirect way of OpenAI API key declaration...\n",
    "Below is shown an alternative way to indirectly deploy the OpenAI API Key, following the steps below:"
   ]
  },
  {
   "cell_type": "markdown",
   "metadata": {},
   "source": [
    "1. Create `.env` file where you will have to put your OpenAI API Key. i.e., `OPENAI_API_KEY=\"Add your key here\"`"
   ]
  },
  {
   "cell_type": "markdown",
   "metadata": {},
   "source": [
    "2. Import `load_dotenv` and then execute `load_dotenv()`."
   ]
  },
  {
   "cell_type": "code",
   "execution_count": 5,
   "metadata": {},
   "outputs": [
    {
     "data": {
      "text/plain": [
       "True"
      ]
     },
     "execution_count": 5,
     "metadata": {},
     "output_type": "execute_result"
    }
   ],
   "source": [
    "from dotenv import load_dotenv\n",
    "\n",
    "load_dotenv()"
   ]
  },
  {
   "cell_type": "markdown",
   "metadata": {},
   "source": [
    "3. Declare `KEY`. You can also print it and check whether itfunctions properly."
   ]
  },
  {
   "cell_type": "code",
   "execution_count": 6,
   "metadata": {},
   "outputs": [],
   "source": [
    "KEY=os.getenv(\"OPENAI_API_KEY\")\n",
    "# print(KEY)"
   ]
  },
  {
   "cell_type": "markdown",
   "metadata": {},
   "source": [
    "**REMEMBER** to insert `.env` into your .gitignore file!"
   ]
  },
  {
   "cell_type": "markdown",
   "metadata": {},
   "source": [
    "#### `OpenAI()` vs. `ChatOpenAI()`:\n",
    "The difference between `OpenAI()` and `ChatOpenAI()` in LangChain (a framework for working with LLMs) is:\n",
    "\n",
    "- `OpenAI()` → Used for completion-based models (like GPT-3 text completion).\n",
    "- `ChatOpenAI()` → Used for chat-based models (like GPT-4 and GPT-3.5-turbo), which work with structured messages.\n",
    "\n",
    "In short:\n",
    "- Use `OpenAI()` for single-turn completions.\n",
    "- Use `ChatOpenAI()` for multi-turn chat applications that process messages in a conversational format."
   ]
  },
  {
   "cell_type": "code",
   "execution_count": 7,
   "metadata": {},
   "outputs": [
    {
     "name": "stderr",
     "output_type": "stream",
     "text": [
      "C:\\Users\\ASUS K513EQ\\AppData\\Local\\Temp\\ipykernel_14724\\3166118353.py:1: LangChainDeprecationWarning: The class `ChatOpenAI` was deprecated in LangChain 0.0.10 and will be removed in 1.0. An updated version of the class exists in the :class:`~langchain-openai package and should be used instead. To use it run `pip install -U :class:`~langchain-openai` and import as `from :class:`~langchain_openai import ChatOpenAI``.\n",
      "  llm=ChatOpenAI(openai_api_key=KEY, model_name=\"gpt-3.5-turbo\", temperature=0.5)\n"
     ]
    }
   ],
   "source": [
    "llm=ChatOpenAI(openai_api_key=KEY, model_name=\"gpt-3.5-turbo\", temperature=0.5)\n",
    "# llm"
   ]
  },
  {
   "cell_type": "markdown",
   "metadata": {},
   "source": [
    "#### Now that the initial requirements are set, let's design the prompt and implement the corresponding chains."
   ]
  },
  {
   "cell_type": "code",
   "execution_count": 8,
   "metadata": {},
   "outputs": [],
   "source": [
    "TEMPLATE_QUIZ = \"\"\"\n",
    "Input Text: {text}\n",
    "Given the piece of text above, I would like to ask you to create a quiz of {number} mutiple-choice \\\n",
    "questions for {area} participants. It is necessary that the questions are suitable for {level} level \\\n",
    "and not repeated. It is also important that the response is as in JSON format below.\n",
    "### JSON RESPONSE\n",
    "{response_json}\n",
    "\"\"\""
   ]
  },
  {
   "cell_type": "code",
   "execution_count": 9,
   "metadata": {},
   "outputs": [],
   "source": [
    "# quiz/response template in nthe form of a dictionary\n",
    "RESPONSE = {\n",
    "    \"1\": {\n",
    "        \"mcq\": \"question\",\n",
    "        \"options\": {\n",
    "            \"a\": \"choice 1\",\n",
    "            \"b\": \"choice 2\",\n",
    "            \"c\": \"choice 3\",\n",
    "            \"d\": \"choice 4\"\n",
    "        },\n",
    "        \"correct_answer\": \"answer\"\n",
    "    },\n",
    "    \"2\": {\n",
    "        \"mcq\": \"question\",\n",
    "        \"options\": {\n",
    "            \"a\": \"choice 1\",\n",
    "            \"b\": \"choice 2\",\n",
    "            \"c\": \"choice 3\",\n",
    "            \"d\": \"choice 4\"\n",
    "        },\n",
    "        \"correct_answer\": \"answer\"\n",
    "    },\n",
    "    \"3\": {\n",
    "        \"mcq\": \"question\",\n",
    "        \"options\": {\n",
    "            \"a\": \"choice 1\",\n",
    "            \"b\": \"choice 2\",\n",
    "            \"c\": \"choice 3\",\n",
    "            \"d\": \"choice 4\"\n",
    "        },\n",
    "        \"correct_answer\": \"answer\"\n",
    "    },\n",
    "    \"4\": {\n",
    "        \"mcq\": \"question\",\n",
    "        \"options\": {\n",
    "            \"a\": \"choice 1\",\n",
    "            \"b\": \"choice 2\",\n",
    "            \"c\": \"choice 3\",\n",
    "            \"d\": \"choice 4\"\n",
    "        },\n",
    "        \"correct_answer\": \"answer\"\n",
    "    }\n",
    "}"
   ]
  },
  {
   "cell_type": "code",
   "execution_count": 10,
   "metadata": {},
   "outputs": [],
   "source": [
    "# prompt\n",
    "q_gen_prompt = PromptTemplate(\n",
    "    input_variables=[\"text\", \"number\", \"area\", \"level\", \"response_json\"],\n",
    "    template=TEMPLATE_QUIZ\n",
    ")"
   ]
  },
  {
   "cell_type": "code",
   "execution_count": 11,
   "metadata": {},
   "outputs": [
    {
     "name": "stderr",
     "output_type": "stream",
     "text": [
      "C:\\Users\\ASUS K513EQ\\AppData\\Local\\Temp\\ipykernel_14724\\140734323.py:1: LangChainDeprecationWarning: The class `LLMChain` was deprecated in LangChain 0.1.17 and will be removed in 1.0. Use :meth:`~RunnableSequence, e.g., `prompt | llm`` instead.\n",
      "  quiz_request = LLMChain(llm=llm, prompt=q_gen_prompt, output_key=\"quiz\", verbose=True)\n"
     ]
    }
   ],
   "source": [
    "quiz_request = LLMChain(llm=llm, prompt=q_gen_prompt, output_key=\"quiz\", verbose=True)"
   ]
  },
  {
   "cell_type": "code",
   "execution_count": 12,
   "metadata": {},
   "outputs": [],
   "source": [
    "TEMPLATE_EVAL = \"\"\"\n",
    "Now as a professional, given the multiple-choice quiz for {area} participants, evaluate the quiz \\\n",
    "and provide a thorough analysis of it. Be aware that you can only use 45 words maximum. If necessary, \\\n",
    "update the quiz questions which need to be changed so that it fits student's capabilities.\n",
    "QUIZ:\n",
    "{quiz}\n",
    "\n",
    "\"\"\""
   ]
  },
  {
   "cell_type": "code",
   "execution_count": 13,
   "metadata": {},
   "outputs": [],
   "source": [
    "# evaluation prompt\n",
    "quiz_eval_prompt = PromptTemplate(\n",
    "    input_variables=[\"area\", \"quiz\",],\n",
    "    template=TEMPLATE_EVAL\n",
    ")"
   ]
  },
  {
   "cell_type": "code",
   "execution_count": 14,
   "metadata": {},
   "outputs": [],
   "source": [
    "eval_request = LLMChain(llm=llm, prompt=quiz_eval_prompt, output_key=\"evaluation\", verbose=True)"
   ]
  },
  {
   "cell_type": "code",
   "execution_count": 15,
   "metadata": {},
   "outputs": [],
   "source": [
    "# join the chains\n",
    "gen_eval_chain = SequentialChain(\n",
    "    chains=[quiz_request, eval_request],\n",
    "    input_variables=[\"text\", \"number\", \"area\", \"level\", \"response_json\"],\n",
    "    output_variables=[\"quiz\", \"evaluation\"],\n",
    "    verbose=True\n",
    ")"
   ]
  },
  {
   "cell_type": "code",
   "execution_count": 16,
   "metadata": {},
   "outputs": [],
   "source": [
    "# declare the relative path to the data file\n",
    "data_path = \"../data.txt\""
   ]
  },
  {
   "cell_type": "code",
   "execution_count": 17,
   "metadata": {},
   "outputs": [],
   "source": [
    "# read data\n",
    "with open(data_path, \"r\") as file:\n",
    "    TEXT = file.read()\n",
    "\n",
    "# print(TEXT)"
   ]
  },
  {
   "cell_type": "markdown",
   "metadata": {},
   "source": [
    "In order to be able to properly use the quiz template we have already created, we have to first transform it into a JSON-formatted string."
   ]
  },
  {
   "cell_type": "markdown",
   "metadata": {},
   "source": [
    "#### How is a JSON String Different from a Python Dictionary?"
   ]
  },
  {
   "cell_type": "markdown",
   "metadata": {},
   "source": [
    "| Feature            | JSON-Formatted String                           | Python Dictionary                            |\n",
    "|--------------------|--------------------------------|--------------------------------|\n",
    "| **Type**          | `str` (string)                | `dict` (dictionary)           |\n",
    "| **Format**        | Uses **double quotes (`\"\"`)** for keys and values (if string) | Uses **single or double quotes (`''` or `\"\"`)** for keys/values |\n",
    "| **Data Type Support** | Limited to basic types: `string`, `number`, `boolean`, `null`, `array`, `object` | Supports all Python data types, including tuples, sets, etc. |\n",
    "| **Usage**         | Mainly used for **data exchange (e.g., APIs, config files)** | Used for **internal Python operations** |\n",
    "| **Example**       | `'{\"name\": \"Alice\", \"age\": 25}'` | `{\"name\": \"Alice\", \"age\": 25}` |\n"
   ]
  },
  {
   "cell_type": "code",
   "execution_count": 19,
   "metadata": {},
   "outputs": [
    {
     "data": {
      "text/plain": [
       "'{\"1\": {\"mcq\": \"question\", \"options\": {\"a\": \"choice 1\", \"b\": \"choice 2\", \"c\": \"choice 3\", \"d\": \"choice 4\"}, \"correct_answer\": \"answer\"}, \"2\": {\"mcq\": \"question\", \"options\": {\"a\": \"choice 1\", \"b\": \"choice 2\", \"c\": \"choice 3\", \"d\": \"choice 4\"}, \"correct_answer\": \"answer\"}, \"3\": {\"mcq\": \"question\", \"options\": {\"a\": \"choice 1\", \"b\": \"choice 2\", \"c\": \"choice 3\", \"d\": \"choice 4\"}, \"correct_answer\": \"answer\"}, \"4\": {\"mcq\": \"question\", \"options\": {\"a\": \"choice 1\", \"b\": \"choice 2\", \"c\": \"choice 3\", \"d\": \"choice 4\"}, \"correct_answer\": \"answer\"}}'"
      ]
     },
     "execution_count": 19,
     "metadata": {},
     "output_type": "execute_result"
    }
   ],
   "source": [
    "# transfrom the quiz template into a JSON-fromatted string\n",
    "# APIs require JSON strings rather than Python dicts\n",
    "json.dumps(RESPONSE)"
   ]
  },
  {
   "cell_type": "code",
   "execution_count": 21,
   "metadata": {},
   "outputs": [],
   "source": [
    "NUMBER = 4\n",
    "AREA = \"Deep Learning\"\n",
    "LEVEL= \"easy\""
   ]
  },
  {
   "cell_type": "code",
   "execution_count": 22,
   "metadata": {},
   "outputs": [
    {
     "name": "stderr",
     "output_type": "stream",
     "text": [
      "C:\\Users\\ASUS K513EQ\\AppData\\Local\\Temp\\ipykernel_14724\\1164156174.py:3: LangChainDeprecationWarning: The method `Chain.__call__` was deprecated in langchain 0.1.0 and will be removed in 1.0. Use :meth:`~invoke` instead.\n",
      "  response = gen_eval_chain(\n"
     ]
    },
    {
     "name": "stdout",
     "output_type": "stream",
     "text": [
      "\n",
      "\n",
      "\u001b[1m> Entering new SequentialChain chain...\u001b[0m\n",
      "\n",
      "\n",
      "\u001b[1m> Entering new LLMChain chain...\u001b[0m\n",
      "Prompt after formatting:\n",
      "\u001b[32;1m\u001b[1;3m\n",
      "Input Text: Deep learning is a subset of machine learning that focuses on utilizing neural networks to perform tasks such as classification, regression, and representation learning. The field takes inspiration from biological neuroscience and is centered around stacking artificial neurons into layers and \"training\" them to process data. The adjective \"deep\" refers to the use of multiple layers (ranging from three to several hundred or thousands) in the network. Methods used can be either supervised, semi-supervised or unsupervised.[2]\n",
      "Some common deep learning network architectures include fully connected networks, deep belief networks, recurrent neural networks, convolutional neural networks, generative adversarial networks, transformers, and neural radiance fields. These architectures have been applied to fields including computer vision, speech recognition, natural language processing, machine translation, bioinformatics, drug design, medical image analysis, climate science, material inspection and board game programs, where they have produced results comparable to and in some cases surpassing human expert performance.[3][4][5]\n",
      "Early forms of neural networks were inspired by information processing and distributed communication nodes in biological systems, particularly the human brain. However, current neural networks do not intend to model the brain function of organisms, and are generally seen as low-quality models for that purpose.[6]\n",
      "\n",
      "Overview\n",
      "Most modern deep learning models are based on multi-layered neural networks such as convolutional neural networks and transformers, although they can also include propositional formulas or latent variables organized layer-wise in deep generative models such as the nodes in deep belief networks and deep Boltzmann machines.[7]\n",
      "Fundamentally, deep learning refers to a class of machine learning algorithms in which a hierarchy of layers is used to transform input data into a progressively more abstract and composite representation. For example, in an image recognition model, the raw input may be an image (represented as a tensor of pixels). The first representational layer may attempt to identify basic shapes such as lines and circles, the second layer may compose and encode arrangements of edges, the third layer may encode a nose and eyes, and the fourth layer may recognize that the image contains a face.\n",
      "Importantly, a deep learning process can learn which features to optimally place at which level on its own. Prior to deep learning, machine learning techniques often involved hand-crafted feature engineering to transform the data into a more suitable representation for a classification algorithm to operate on. In the deep learning approach, features are not hand-crafted and the model discovers useful feature representations from the data automatically. This does not eliminate the need for hand-tuning; for example, varying numbers of layers and layer sizes can provide different degrees of abstraction.[8][2]\n",
      "The word \"deep\" in \"deep learning\" refers to the number of layers through which the data is transformed. More precisely, deep learning systems have a substantial credit assignment path (CAP) depth. The CAP is the chain of transformations from input to output. CAPs describe potentially causal connections between input and output. For a feedforward neural network, the depth of the CAPs is that of the network and is the number of hidden layers plus one (as the output layer is also parameterized). For recurrent neural networks, in which a signal may propagate through a layer more than once, the CAP depth is potentially unlimited.[9] No universally agreed-upon threshold of depth divides shallow learning from deep learning, but most researchers agree that deep learning involves CAP depth higher than two. CAP of depth two has been shown to be a universal approximator in the sense that it can emulate any function.[10] Beyond that, more layers do not add to the function approximator ability of the network. Deep models (CAP > two) are able to extract better features than shallow models and hence, extra layers help in learning the features effectively.\n",
      "Deep learning architectures can be constructed with a greedy layer-by-layer method.[11] Deep learning helps to disentangle these abstractions and pick out which features improve performance.[8]\n",
      "Deep learning algorithms can be applied to unsupervised learning tasks. This is an important benefit because unlabeled data are more abundant than the labeled data. Examples of deep structures that can be trained in an unsupervised manner are deep belief networks.[8][12]\n",
      "The term Deep Learning was introduced to the machine learning community by Rina Dechter in 1986,[13] and to artificial neural networks by Igor Aizenberg and colleagues in 2000, in the context of Boolean threshold neurons.[14][15] Although the history of its appearance is apparently more complicated.[16]\n",
      "\n",
      "Resource: https://en.wikipedia.org/wiki/Deep_learning\n",
      "Given the piece of text above, I would like to ask you to create a quiz of 4 mutiple-choice questions for Deep Learning participants. It is necessary that the questions are suitable for easy level and not repeated. It is also important that the response is as in JSON format below.\n",
      "### JSON RESPONSE\n",
      "{\"1\": {\"mcq\": \"question\", \"options\": {\"a\": \"choice 1\", \"b\": \"choice 2\", \"c\": \"choice 3\", \"d\": \"choice 4\"}, \"correct_answer\": \"answer\"}, \"2\": {\"mcq\": \"question\", \"options\": {\"a\": \"choice 1\", \"b\": \"choice 2\", \"c\": \"choice 3\", \"d\": \"choice 4\"}, \"correct_answer\": \"answer\"}, \"3\": {\"mcq\": \"question\", \"options\": {\"a\": \"choice 1\", \"b\": \"choice 2\", \"c\": \"choice 3\", \"d\": \"choice 4\"}, \"correct_answer\": \"answer\"}, \"4\": {\"mcq\": \"question\", \"options\": {\"a\": \"choice 1\", \"b\": \"choice 2\", \"c\": \"choice 3\", \"d\": \"choice 4\"}, \"correct_answer\": \"answer\"}}\n",
      "\u001b[0m\n",
      "\n",
      "\u001b[1m> Finished chain.\u001b[0m\n",
      "\n",
      "\n",
      "\u001b[1m> Entering new LLMChain chain...\u001b[0m\n",
      "Prompt after formatting:\n",
      "\u001b[32;1m\u001b[1;3m\n",
      "Now as a professional, given the multiple-choice quiz for Deep Learning participants, evaluate the quiz and provide a thorough analysis of it. Be aware that you can only use 45 words maximum. If necessary, update the quiz questions which need to be changed so that it fits student's capabilities.\n",
      "QUIZ:\n",
      "{\n",
      "    \"1\": {\n",
      "        \"mcq\": \"What does the term \\\"deep\\\" in \\\"deep learning\\\" refer to?\",\n",
      "        \"options\": {\n",
      "            \"a\": \"The complexity of the neural network architecture\",\n",
      "            \"b\": \"The number of layers in the network\",\n",
      "            \"c\": \"The type of data being processed\",\n",
      "            \"d\": \"The speed of the learning process\"\n",
      "        },\n",
      "        \"correct_answer\": \"b\"\n",
      "    },\n",
      "    \"2\": {\n",
      "        \"mcq\": \"Which of the following is NOT a common deep learning network architecture?\",\n",
      "        \"options\": {\n",
      "            \"a\": \"Convolutional neural networks\",\n",
      "            \"b\": \"Recurrent neural networks\",\n",
      "            \"c\": \"Decision trees\",\n",
      "            \"d\": \"Generative adversarial networks\"\n",
      "        },\n",
      "        \"correct_answer\": \"c\"\n",
      "    },\n",
      "    \"3\": {\n",
      "        \"mcq\": \"What is the main benefit of using deep learning algorithms for unsupervised learning tasks?\",\n",
      "        \"options\": {\n",
      "            \"a\": \"They require less computational resources\",\n",
      "            \"b\": \"They can handle only labeled data\",\n",
      "            \"c\": \"They can be applied to more abundant unlabeled data\",\n",
      "            \"d\": \"They are faster than supervised learning algorithms\"\n",
      "        },\n",
      "        \"correct_answer\": \"c\"\n",
      "    },\n",
      "    \"4\": {\n",
      "        \"mcq\": \"What is the purpose of a hierarchy of layers in deep learning models?\",\n",
      "        \"options\": {\n",
      "            \"a\": \"To make the model more complex\",\n",
      "            \"b\": \"To transform input data into a more abstract representation\",\n",
      "            \"c\": \"To decrease the accuracy of the model\",\n",
      "            \"d\": \"To limit the depth of the network\"\n",
      "        },\n",
      "        \"correct_answer\": \"b\"\n",
      "    }\n",
      "}\n",
      "\n",
      "\u001b[0m\n",
      "\n",
      "\u001b[1m> Finished chain.\u001b[0m\n",
      "\n",
      "\u001b[1m> Finished chain.\u001b[0m\n"
     ]
    }
   ],
   "source": [
    "# set up token usage tracking in Langchain\n",
    "with get_openai_callback() as cb:\n",
    "    response = gen_eval_chain(\n",
    "        {\n",
    "            \"text\": TEXT,\n",
    "            \"number\": NUMBER,\n",
    "            \"area\": AREA,\n",
    "            \"level\": LEVEL,\n",
    "            \"response_json\": json.dumps(RESPONSE)\n",
    "        }\n",
    "    )"
   ]
  },
  {
   "cell_type": "markdown",
   "metadata": {},
   "source": [
    "`with get_openai_callback() as cb:` opens a context manager using get_openai_callback(). It tracks or logs OpenAI API usage, such as token consumption or request details. `cb` is the callback object that stores relevant API call information."
   ]
  },
  {
   "cell_type": "markdown",
   "metadata": {},
   "source": [
    "Now let us check if the information is collected as expected..."
   ]
  },
  {
   "cell_type": "code",
   "execution_count": 23,
   "metadata": {},
   "outputs": [
    {
     "name": "stdout",
     "output_type": "stream",
     "text": [
      "Total Tokens: 2058\n",
      "Completion Token: 416\n",
      "Prompt Token: 1642\n",
      "Total Cost: 0.003295\n",
      "Reasoning Error: 0\n"
     ]
    }
   ],
   "source": [
    "print(f\"Total Tokens: {cb.total_tokens}\")\n",
    "print(f\"Completion Token: {cb.completion_tokens}\")\n",
    "print(f\"Prompt Token: {cb.prompt_tokens}\")\n",
    "print(f\"Total Cost: {cb.total_cost}\")\n",
    "print(f\"Reasoning Error: {cb.reasoning_tokens}\")"
   ]
  },
  {
   "cell_type": "code",
   "execution_count": 24,
   "metadata": {},
   "outputs": [
    {
     "data": {
      "text/plain": [
       "{'text': 'Deep learning is a subset of machine learning that focuses on utilizing neural networks to perform tasks such as classification, regression, and representation learning. The field takes inspiration from biological neuroscience and is centered around stacking artificial neurons into layers and \"training\" them to process data. The adjective \"deep\" refers to the use of multiple layers (ranging from three to several hundred or thousands) in the network. Methods used can be either supervised, semi-supervised or unsupervised.[2]\\nSome common deep learning network architectures include fully connected networks, deep belief networks, recurrent neural networks, convolutional neural networks, generative adversarial networks, transformers, and neural radiance fields. These architectures have been applied to fields including computer vision, speech recognition, natural language processing, machine translation, bioinformatics, drug design, medical image analysis, climate science, material inspection and board game programs, where they have produced results comparable to and in some cases surpassing human expert performance.[3][4][5]\\nEarly forms of neural networks were inspired by information processing and distributed communication nodes in biological systems, particularly the human brain. However, current neural networks do not intend to model the brain function of organisms, and are generally seen as low-quality models for that purpose.[6]\\n\\nOverview\\nMost modern deep learning models are based on multi-layered neural networks such as convolutional neural networks and transformers, although they can also include propositional formulas or latent variables organized layer-wise in deep generative models such as the nodes in deep belief networks and deep Boltzmann machines.[7]\\nFundamentally, deep learning refers to a class of machine learning algorithms in which a hierarchy of layers is used to transform input data into a progressively more abstract and composite representation. For example, in an image recognition model, the raw input may be an image (represented as a tensor of pixels). The first representational layer may attempt to identify basic shapes such as lines and circles, the second layer may compose and encode arrangements of edges, the third layer may encode a nose and eyes, and the fourth layer may recognize that the image contains a face.\\nImportantly, a deep learning process can learn which features to optimally place at which level on its own. Prior to deep learning, machine learning techniques often involved hand-crafted feature engineering to transform the data into a more suitable representation for a classification algorithm to operate on. In the deep learning approach, features are not hand-crafted and the model discovers useful feature representations from the data automatically. This does not eliminate the need for hand-tuning; for example, varying numbers of layers and layer sizes can provide different degrees of abstraction.[8][2]\\nThe word \"deep\" in \"deep learning\" refers to the number of layers through which the data is transformed. More precisely, deep learning systems have a substantial credit assignment path (CAP) depth. The CAP is the chain of transformations from input to output. CAPs describe potentially causal connections between input and output. For a feedforward neural network, the depth of the CAPs is that of the network and is the number of hidden layers plus one (as the output layer is also parameterized). For recurrent neural networks, in which a signal may propagate through a layer more than once, the CAP depth is potentially unlimited.[9] No universally agreed-upon threshold of depth divides shallow learning from deep learning, but most researchers agree that deep learning involves CAP depth higher than two. CAP of depth two has been shown to be a universal approximator in the sense that it can emulate any function.[10] Beyond that, more layers do not add to the function approximator ability of the network. Deep models (CAP > two) are able to extract better features than shallow models and hence, extra layers help in learning the features effectively.\\nDeep learning architectures can be constructed with a greedy layer-by-layer method.[11] Deep learning helps to disentangle these abstractions and pick out which features improve performance.[8]\\nDeep learning algorithms can be applied to unsupervised learning tasks. This is an important benefit because unlabeled data are more abundant than the labeled data. Examples of deep structures that can be trained in an unsupervised manner are deep belief networks.[8][12]\\nThe term Deep Learning was introduced to the machine learning community by Rina Dechter in 1986,[13] and to artificial neural networks by Igor Aizenberg and colleagues in 2000, in the context of Boolean threshold neurons.[14][15] Although the history of its appearance is apparently more complicated.[16]\\n\\nResource: https://en.wikipedia.org/wiki/Deep_learning',\n",
       " 'number': 4,\n",
       " 'area': 'Deep Learning',\n",
       " 'level': 'easy',\n",
       " 'response_json': '{\"1\": {\"mcq\": \"question\", \"options\": {\"a\": \"choice 1\", \"b\": \"choice 2\", \"c\": \"choice 3\", \"d\": \"choice 4\"}, \"correct_answer\": \"answer\"}, \"2\": {\"mcq\": \"question\", \"options\": {\"a\": \"choice 1\", \"b\": \"choice 2\", \"c\": \"choice 3\", \"d\": \"choice 4\"}, \"correct_answer\": \"answer\"}, \"3\": {\"mcq\": \"question\", \"options\": {\"a\": \"choice 1\", \"b\": \"choice 2\", \"c\": \"choice 3\", \"d\": \"choice 4\"}, \"correct_answer\": \"answer\"}, \"4\": {\"mcq\": \"question\", \"options\": {\"a\": \"choice 1\", \"b\": \"choice 2\", \"c\": \"choice 3\", \"d\": \"choice 4\"}, \"correct_answer\": \"answer\"}}',\n",
       " 'quiz': '{\\n    \"1\": {\\n        \"mcq\": \"What does the term \\\\\"deep\\\\\" in \\\\\"deep learning\\\\\" refer to?\",\\n        \"options\": {\\n            \"a\": \"The complexity of the neural network architecture\",\\n            \"b\": \"The number of layers in the network\",\\n            \"c\": \"The type of data being processed\",\\n            \"d\": \"The speed of the learning process\"\\n        },\\n        \"correct_answer\": \"b\"\\n    },\\n    \"2\": {\\n        \"mcq\": \"Which of the following is NOT a common deep learning network architecture?\",\\n        \"options\": {\\n            \"a\": \"Convolutional neural networks\",\\n            \"b\": \"Recurrent neural networks\",\\n            \"c\": \"Decision trees\",\\n            \"d\": \"Generative adversarial networks\"\\n        },\\n        \"correct_answer\": \"c\"\\n    },\\n    \"3\": {\\n        \"mcq\": \"What is the main benefit of using deep learning algorithms for unsupervised learning tasks?\",\\n        \"options\": {\\n            \"a\": \"They require less computational resources\",\\n            \"b\": \"They can handle only labeled data\",\\n            \"c\": \"They can be applied to more abundant unlabeled data\",\\n            \"d\": \"They are faster than supervised learning algorithms\"\\n        },\\n        \"correct_answer\": \"c\"\\n    },\\n    \"4\": {\\n        \"mcq\": \"What is the purpose of a hierarchy of layers in deep learning models?\",\\n        \"options\": {\\n            \"a\": \"To make the model more complex\",\\n            \"b\": \"To transform input data into a more abstract representation\",\\n            \"c\": \"To decrease the accuracy of the model\",\\n            \"d\": \"To limit the depth of the network\"\\n        },\\n        \"correct_answer\": \"b\"\\n    }\\n}',\n",
       " 'evaluation': 'The quiz is well-structured and covers fundamental concepts of deep learning. Question 2 could be improved by replacing \"Decision trees\" with a more relevant option. Overall, the quiz effectively tests participants\\' understanding of deep learning principles.'}"
      ]
     },
     "execution_count": 24,
     "metadata": {},
     "output_type": "execute_result"
    }
   ],
   "source": [
    "response"
   ]
  },
  {
   "cell_type": "code",
   "execution_count": null,
   "metadata": {},
   "outputs": [
    {
     "data": {
      "text/plain": [
       "{'1': {'mcq': 'What does the term \"deep\" in \"deep learning\" refer to?',\n",
       "  'options': {'a': 'The complexity of the neural network architecture',\n",
       "   'b': 'The number of layers in the network',\n",
       "   'c': 'The type of data being processed',\n",
       "   'd': 'The speed of the learning process'},\n",
       "  'correct_answer': 'b'},\n",
       " '2': {'mcq': 'Which of the following is NOT a common deep learning network architecture?',\n",
       "  'options': {'a': 'Convolutional neural networks',\n",
       "   'b': 'Recurrent neural networks',\n",
       "   'c': 'Decision trees',\n",
       "   'd': 'Generative adversarial networks'},\n",
       "  'correct_answer': 'c'},\n",
       " '3': {'mcq': 'What is the main benefit of using deep learning algorithms for unsupervised learning tasks?',\n",
       "  'options': {'a': 'They require less computational resources',\n",
       "   'b': 'They can handle only labeled data',\n",
       "   'c': 'They can be applied to more abundant unlabeled data',\n",
       "   'd': 'They are faster than supervised learning algorithms'},\n",
       "  'correct_answer': 'c'},\n",
       " '4': {'mcq': 'What is the purpose of a hierarchy of layers in deep learning models?',\n",
       "  'options': {'a': 'To make the model more complex',\n",
       "   'b': 'To transform input data into a more abstract representation',\n",
       "   'c': 'To decrease the accuracy of the model',\n",
       "   'd': 'To limit the depth of the network'},\n",
       "  'correct_answer': 'b'}}"
      ]
     },
     "execution_count": 25,
     "metadata": {},
     "output_type": "execute_result"
    }
   ],
   "source": [
    "# get the generated quiz\n",
    "quiz = response.get(\"quiz\")\n",
    "json.loads(quiz)"
   ]
  },
  {
   "cell_type": "code",
   "execution_count": null,
   "metadata": {},
   "outputs": [],
   "source": []
  }
 ],
 "metadata": {
  "kernelspec": {
   "display_name": "mcqgen",
   "language": "python",
   "name": "python3"
  },
  "language_info": {
   "codemirror_mode": {
    "name": "ipython",
    "version": 3
   },
   "file_extension": ".py",
   "mimetype": "text/x-python",
   "name": "python",
   "nbconvert_exporter": "python",
   "pygments_lexer": "ipython3",
   "version": "3.13.1"
  }
 },
 "nbformat": 4,
 "nbformat_minor": 2
}
